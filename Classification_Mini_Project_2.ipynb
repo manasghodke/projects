{
  "nbformat": 4,
  "nbformat_minor": 0,
  "metadata": {
    "colab": {
      "provenance": []
    },
    "kernelspec": {
      "name": "python3",
      "display_name": "Python 3"
    },
    "language_info": {
      "name": "python"
    }
  },
  "cells": [
    {
      "cell_type": "markdown",
      "source": [
        "Importing necessary libraries"
      ],
      "metadata": {
        "id": "SB1wBa-6e8Cn"
      }
    },
    {
      "cell_type": "code",
      "execution_count": null,
      "metadata": {
        "id": "hI0cUje_erlv"
      },
      "outputs": [],
      "source": [
        "import numpy as np # For numerical calculations\n",
        "import pandas as pd # For creating data frame\n",
        "import matplotlib.pyplot as plt # For data Visualization\n",
        "import seaborn as sb # For data Visualization\n",
        "from sklearn import preprocessing # For data preprocessing\n",
        "from sklearn.preprocessing import LabelEncoder # For converting categoical values to numerical\n",
        "from sklearn.preprocessing import StandardScaler,MinMaxScaler # For feature scaling\n",
        "from sklearn.linear_model import LogisticRegression # Algorithm for creating model\n",
        "from sklearn.model_selection import train_test_split # Splitting of the data\n",
        "from sklearn.metrics import f1_score # For calculating f1-score\n",
        "from sklearn.metrics import precision_score # For calculating pecision_score\n",
        "from sklearn.metrics import mean_squared_error # For calculating MSE\n",
        "from sklearn.metrics import mean_absolute_error # For calculating MAE\n",
        "\n",
        "import warnings\n",
        "warnings.simplefilter(action='ignore')"
      ]
    },
    {
      "cell_type": "code",
      "source": [
        "from google.colab import drive\n",
        "drive.mount('/content/drive/')"
      ],
      "metadata": {
        "colab": {
          "base_uri": "https://localhost:8080/"
        },
        "id": "RRPP9DikfDRt",
        "outputId": "46c42356-a81f-418c-a05a-0a9bf6cf40d7"
      },
      "execution_count": null,
      "outputs": [
        {
          "output_type": "stream",
          "name": "stdout",
          "text": [
            "Mounted at /content/drive/\n"
          ]
        }
      ]
    },
    {
      "cell_type": "code",
      "source": [
        "%cd /content/drive/My Drive/Python_CSV files/"
      ],
      "metadata": {
        "colab": {
          "base_uri": "https://localhost:8080/"
        },
        "id": "AJ68XIYjfFQg",
        "outputId": "24e3b012-51e5-45fc-a70f-9d04a45b0bcd"
      },
      "execution_count": null,
      "outputs": [
        {
          "output_type": "stream",
          "name": "stdout",
          "text": [
            "/content/drive/My Drive/Python_CSV files\n"
          ]
        }
      ]
    },
    {
      "cell_type": "markdown",
      "source": [
        "Loading The Dataset"
      ],
      "metadata": {
        "id": "NaaPpQzWfKes"
      }
    },
    {
      "cell_type": "code",
      "source": [
        "df=pd.read_csv(\"DS3_C6_S2_Classification_HouseGrade_Data_Project.csv\") # Used for reading  the csv file"
      ],
      "metadata": {
        "id": "bIFR_HEpfLIr"
      },
      "execution_count": null,
      "outputs": []
    },
    {
      "cell_type": "code",
      "source": [
        "df.head() # Retrieves the first 5 rows from the dataframe"
      ],
      "metadata": {
        "colab": {
          "base_uri": "https://localhost:8080/",
          "height": 206
        },
        "id": "cAOP9bk8fQXO",
        "outputId": "706a3fec-c5cd-4b03-dcf4-382ea6fc2c33"
      },
      "execution_count": null,
      "outputs": [
        {
          "output_type": "execute_result",
          "data": {
            "text/plain": [
              "   Id  Area(total)  Trooms  Nbedrooms  Nbwashrooms  Twashrooms roof  \\\n",
              "0   1          339       6          5            4           6   NO   \n",
              "1   2          358       5          4            3           4  YES   \n",
              "2   3          324       7          5            4           5  YES   \n",
              "3   4          330       6          4            3           5  YES   \n",
              "4   5          320       7          4            4           5   NO   \n",
              "\n",
              "   Roof(Area)  Lawn(Area)  Nfloors  API  ANB  Expected price Grade  \n",
              "0           0          76        2   79    6            3481     D  \n",
              "1          71          96        3   72    4            3510     D  \n",
              "2         101         117        5   64    3            3748     C  \n",
              "3         101          82        2   59    2            3134     D  \n",
              "4           0          75        3   40    1            3843     D  "
            ],
            "text/html": [
              "\n",
              "  <div id=\"df-6a58a86c-8212-4c63-a286-9fefe7fa3d28\">\n",
              "    <div class=\"colab-df-container\">\n",
              "      <div>\n",
              "<style scoped>\n",
              "    .dataframe tbody tr th:only-of-type {\n",
              "        vertical-align: middle;\n",
              "    }\n",
              "\n",
              "    .dataframe tbody tr th {\n",
              "        vertical-align: top;\n",
              "    }\n",
              "\n",
              "    .dataframe thead th {\n",
              "        text-align: right;\n",
              "    }\n",
              "</style>\n",
              "<table border=\"1\" class=\"dataframe\">\n",
              "  <thead>\n",
              "    <tr style=\"text-align: right;\">\n",
              "      <th></th>\n",
              "      <th>Id</th>\n",
              "      <th>Area(total)</th>\n",
              "      <th>Trooms</th>\n",
              "      <th>Nbedrooms</th>\n",
              "      <th>Nbwashrooms</th>\n",
              "      <th>Twashrooms</th>\n",
              "      <th>roof</th>\n",
              "      <th>Roof(Area)</th>\n",
              "      <th>Lawn(Area)</th>\n",
              "      <th>Nfloors</th>\n",
              "      <th>API</th>\n",
              "      <th>ANB</th>\n",
              "      <th>Expected price</th>\n",
              "      <th>Grade</th>\n",
              "    </tr>\n",
              "  </thead>\n",
              "  <tbody>\n",
              "    <tr>\n",
              "      <th>0</th>\n",
              "      <td>1</td>\n",
              "      <td>339</td>\n",
              "      <td>6</td>\n",
              "      <td>5</td>\n",
              "      <td>4</td>\n",
              "      <td>6</td>\n",
              "      <td>NO</td>\n",
              "      <td>0</td>\n",
              "      <td>76</td>\n",
              "      <td>2</td>\n",
              "      <td>79</td>\n",
              "      <td>6</td>\n",
              "      <td>3481</td>\n",
              "      <td>D</td>\n",
              "    </tr>\n",
              "    <tr>\n",
              "      <th>1</th>\n",
              "      <td>2</td>\n",
              "      <td>358</td>\n",
              "      <td>5</td>\n",
              "      <td>4</td>\n",
              "      <td>3</td>\n",
              "      <td>4</td>\n",
              "      <td>YES</td>\n",
              "      <td>71</td>\n",
              "      <td>96</td>\n",
              "      <td>3</td>\n",
              "      <td>72</td>\n",
              "      <td>4</td>\n",
              "      <td>3510</td>\n",
              "      <td>D</td>\n",
              "    </tr>\n",
              "    <tr>\n",
              "      <th>2</th>\n",
              "      <td>3</td>\n",
              "      <td>324</td>\n",
              "      <td>7</td>\n",
              "      <td>5</td>\n",
              "      <td>4</td>\n",
              "      <td>5</td>\n",
              "      <td>YES</td>\n",
              "      <td>101</td>\n",
              "      <td>117</td>\n",
              "      <td>5</td>\n",
              "      <td>64</td>\n",
              "      <td>3</td>\n",
              "      <td>3748</td>\n",
              "      <td>C</td>\n",
              "    </tr>\n",
              "    <tr>\n",
              "      <th>3</th>\n",
              "      <td>4</td>\n",
              "      <td>330</td>\n",
              "      <td>6</td>\n",
              "      <td>4</td>\n",
              "      <td>3</td>\n",
              "      <td>5</td>\n",
              "      <td>YES</td>\n",
              "      <td>101</td>\n",
              "      <td>82</td>\n",
              "      <td>2</td>\n",
              "      <td>59</td>\n",
              "      <td>2</td>\n",
              "      <td>3134</td>\n",
              "      <td>D</td>\n",
              "    </tr>\n",
              "    <tr>\n",
              "      <th>4</th>\n",
              "      <td>5</td>\n",
              "      <td>320</td>\n",
              "      <td>7</td>\n",
              "      <td>4</td>\n",
              "      <td>4</td>\n",
              "      <td>5</td>\n",
              "      <td>NO</td>\n",
              "      <td>0</td>\n",
              "      <td>75</td>\n",
              "      <td>3</td>\n",
              "      <td>40</td>\n",
              "      <td>1</td>\n",
              "      <td>3843</td>\n",
              "      <td>D</td>\n",
              "    </tr>\n",
              "  </tbody>\n",
              "</table>\n",
              "</div>\n",
              "      <button class=\"colab-df-convert\" onclick=\"convertToInteractive('df-6a58a86c-8212-4c63-a286-9fefe7fa3d28')\"\n",
              "              title=\"Convert this dataframe to an interactive table.\"\n",
              "              style=\"display:none;\">\n",
              "        \n",
              "  <svg xmlns=\"http://www.w3.org/2000/svg\" height=\"24px\"viewBox=\"0 0 24 24\"\n",
              "       width=\"24px\">\n",
              "    <path d=\"M0 0h24v24H0V0z\" fill=\"none\"/>\n",
              "    <path d=\"M18.56 5.44l.94 2.06.94-2.06 2.06-.94-2.06-.94-.94-2.06-.94 2.06-2.06.94zm-11 1L8.5 8.5l.94-2.06 2.06-.94-2.06-.94L8.5 2.5l-.94 2.06-2.06.94zm10 10l.94 2.06.94-2.06 2.06-.94-2.06-.94-.94-2.06-.94 2.06-2.06.94z\"/><path d=\"M17.41 7.96l-1.37-1.37c-.4-.4-.92-.59-1.43-.59-.52 0-1.04.2-1.43.59L10.3 9.45l-7.72 7.72c-.78.78-.78 2.05 0 2.83L4 21.41c.39.39.9.59 1.41.59.51 0 1.02-.2 1.41-.59l7.78-7.78 2.81-2.81c.8-.78.8-2.07 0-2.86zM5.41 20L4 18.59l7.72-7.72 1.47 1.35L5.41 20z\"/>\n",
              "  </svg>\n",
              "      </button>\n",
              "      \n",
              "  <style>\n",
              "    .colab-df-container {\n",
              "      display:flex;\n",
              "      flex-wrap:wrap;\n",
              "      gap: 12px;\n",
              "    }\n",
              "\n",
              "    .colab-df-convert {\n",
              "      background-color: #E8F0FE;\n",
              "      border: none;\n",
              "      border-radius: 50%;\n",
              "      cursor: pointer;\n",
              "      display: none;\n",
              "      fill: #1967D2;\n",
              "      height: 32px;\n",
              "      padding: 0 0 0 0;\n",
              "      width: 32px;\n",
              "    }\n",
              "\n",
              "    .colab-df-convert:hover {\n",
              "      background-color: #E2EBFA;\n",
              "      box-shadow: 0px 1px 2px rgba(60, 64, 67, 0.3), 0px 1px 3px 1px rgba(60, 64, 67, 0.15);\n",
              "      fill: #174EA6;\n",
              "    }\n",
              "\n",
              "    [theme=dark] .colab-df-convert {\n",
              "      background-color: #3B4455;\n",
              "      fill: #D2E3FC;\n",
              "    }\n",
              "\n",
              "    [theme=dark] .colab-df-convert:hover {\n",
              "      background-color: #434B5C;\n",
              "      box-shadow: 0px 1px 3px 1px rgba(0, 0, 0, 0.15);\n",
              "      filter: drop-shadow(0px 1px 2px rgba(0, 0, 0, 0.3));\n",
              "      fill: #FFFFFF;\n",
              "    }\n",
              "  </style>\n",
              "\n",
              "      <script>\n",
              "        const buttonEl =\n",
              "          document.querySelector('#df-6a58a86c-8212-4c63-a286-9fefe7fa3d28 button.colab-df-convert');\n",
              "        buttonEl.style.display =\n",
              "          google.colab.kernel.accessAllowed ? 'block' : 'none';\n",
              "\n",
              "        async function convertToInteractive(key) {\n",
              "          const element = document.querySelector('#df-6a58a86c-8212-4c63-a286-9fefe7fa3d28');\n",
              "          const dataTable =\n",
              "            await google.colab.kernel.invokeFunction('convertToInteractive',\n",
              "                                                     [key], {});\n",
              "          if (!dataTable) return;\n",
              "\n",
              "          const docLinkHtml = 'Like what you see? Visit the ' +\n",
              "            '<a target=\"_blank\" href=https://colab.research.google.com/notebooks/data_table.ipynb>data table notebook</a>'\n",
              "            + ' to learn more about interactive tables.';\n",
              "          element.innerHTML = '';\n",
              "          dataTable['output_type'] = 'display_data';\n",
              "          await google.colab.output.renderOutput(dataTable, element);\n",
              "          const docLink = document.createElement('div');\n",
              "          docLink.innerHTML = docLinkHtml;\n",
              "          element.appendChild(docLink);\n",
              "        }\n",
              "      </script>\n",
              "    </div>\n",
              "  </div>\n",
              "  "
            ]
          },
          "metadata": {},
          "execution_count": 5
        }
      ]
    },
    {
      "cell_type": "code",
      "source": [
        "df.shape # Used for checking the number of rows and columns in the dataframe"
      ],
      "metadata": {
        "colab": {
          "base_uri": "https://localhost:8080/"
        },
        "id": "f8w4T1Auf-0X",
        "outputId": "9cc8555e-e0f7-4349-f0e3-6fb1170ead39"
      },
      "execution_count": null,
      "outputs": [
        {
          "output_type": "execute_result",
          "data": {
            "text/plain": [
              "(3000, 14)"
            ]
          },
          "metadata": {},
          "execution_count": 6
        }
      ]
    },
    {
      "cell_type": "code",
      "source": [
        "df.dtypes # Used for checking the datatypes of attributes in the dataframe"
      ],
      "metadata": {
        "colab": {
          "base_uri": "https://localhost:8080/"
        },
        "id": "0K_CWOvbf_Y7",
        "outputId": "997b380c-39b6-4e4f-ded0-a183b2d7f639"
      },
      "execution_count": null,
      "outputs": [
        {
          "output_type": "execute_result",
          "data": {
            "text/plain": [
              "Id                 int64\n",
              "Area(total)        int64\n",
              "Trooms             int64\n",
              "Nbedrooms          int64\n",
              "Nbwashrooms        int64\n",
              "Twashrooms         int64\n",
              "roof              object\n",
              "Roof(Area)         int64\n",
              "Lawn(Area)         int64\n",
              "Nfloors            int64\n",
              "API                int64\n",
              "ANB                int64\n",
              "Expected price     int64\n",
              "Grade             object\n",
              "dtype: object"
            ]
          },
          "metadata": {},
          "execution_count": 7
        }
      ]
    },
    {
      "cell_type": "code",
      "source": [
        "df.columns # Used for checking the columns in the dataframe"
      ],
      "metadata": {
        "colab": {
          "base_uri": "https://localhost:8080/"
        },
        "id": "rjTOHwxwgEGY",
        "outputId": "baa4c46a-31dd-42c6-f928-98e610e72461"
      },
      "execution_count": null,
      "outputs": [
        {
          "output_type": "execute_result",
          "data": {
            "text/plain": [
              "Index(['Id', 'Area(total)', 'Trooms', 'Nbedrooms', 'Nbwashrooms', 'Twashrooms',\n",
              "       'roof', 'Roof(Area)', 'Lawn(Area)', 'Nfloors', 'API', 'ANB',\n",
              "       'Expected price', 'Grade'],\n",
              "      dtype='object')"
            ]
          },
          "metadata": {},
          "execution_count": 8
        }
      ]
    },
    {
      "cell_type": "code",
      "source": [
        "df.info # Used to check the information of whole dataframe."
      ],
      "metadata": {
        "colab": {
          "base_uri": "https://localhost:8080/"
        },
        "id": "ITs0XaHygG3l",
        "outputId": "d9a655b8-b5a8-45ee-884e-0b5b4c670d2f"
      },
      "execution_count": null,
      "outputs": [
        {
          "output_type": "execute_result",
          "data": {
            "text/plain": [
              "<bound method DataFrame.info of         Id  Area(total)  Trooms  Nbedrooms  Nbwashrooms  Twashrooms roof  \\\n",
              "0        1          339       6          5            4           6   NO   \n",
              "1        2          358       5          4            3           4  YES   \n",
              "2        3          324       7          5            4           5  YES   \n",
              "3        4          330       6          4            3           5  YES   \n",
              "4        5          320       7          4            4           5   NO   \n",
              "...    ...          ...     ...        ...          ...         ...  ...   \n",
              "2995  2996          341       9          6            5           7  YES   \n",
              "2996  2997          292       9          8            7           8  YES   \n",
              "2997  2998          328       7          4            3           5   NO   \n",
              "2998  2999          293       9          7            7           8   NO   \n",
              "2999  3000          343       7          6            6           8   NO   \n",
              "\n",
              "      Roof(Area)  Lawn(Area)  Nfloors  API  ANB  Expected price Grade  \n",
              "0              0          76        2   79    6            3481     D  \n",
              "1             71          96        3   72    4            3510     D  \n",
              "2            101         117        5   64    3            3748     C  \n",
              "3            101          82        2   59    2            3134     D  \n",
              "4              0          75        3   40    1            3843     D  \n",
              "...          ...         ...      ...  ...  ...             ...   ...  \n",
              "2995          95         115        5   90    2            4246     B  \n",
              "2996         116          87        7   97    4            3753     A  \n",
              "2997           0          78        5   95    6            3607     D  \n",
              "2998           0          78        7   51    3            4198     B  \n",
              "2999           0         108        5   95    3            4105     C  \n",
              "\n",
              "[3000 rows x 14 columns]>"
            ]
          },
          "metadata": {},
          "execution_count": 9
        }
      ]
    },
    {
      "cell_type": "markdown",
      "source": [
        "Checking For missing values in the dataset"
      ],
      "metadata": {
        "id": "YQFdZUIPgKjH"
      }
    },
    {
      "cell_type": "code",
      "source": [
        "df.isnull().sum() # Used for checking the null values in the dataset"
      ],
      "metadata": {
        "colab": {
          "base_uri": "https://localhost:8080/"
        },
        "id": "KXECYKQJgMp3",
        "outputId": "01cce895-bbe5-4168-b3f9-a5fa1c08abce"
      },
      "execution_count": null,
      "outputs": [
        {
          "output_type": "execute_result",
          "data": {
            "text/plain": [
              "Id                0\n",
              "Area(total)       0\n",
              "Trooms            0\n",
              "Nbedrooms         0\n",
              "Nbwashrooms       0\n",
              "Twashrooms        0\n",
              "roof              0\n",
              "Roof(Area)        0\n",
              "Lawn(Area)        0\n",
              "Nfloors           0\n",
              "API               0\n",
              "ANB               0\n",
              "Expected price    0\n",
              "Grade             0\n",
              "dtype: int64"
            ]
          },
          "metadata": {},
          "execution_count": 10
        }
      ]
    },
    {
      "cell_type": "markdown",
      "source": [
        "Interpretation:\n",
        "\n",
        "Here we found that dataset contains no missing values."
      ],
      "metadata": {
        "id": "Q-9SpzQDgewg"
      }
    },
    {
      "cell_type": "code",
      "source": [
        "df.describe() # Used to get mean,meadian,mode,max,min of all numerical data"
      ],
      "metadata": {
        "colab": {
          "base_uri": "https://localhost:8080/",
          "height": 344
        },
        "id": "qfP-HGm4grrt",
        "outputId": "cc148e89-a28a-4e58-8e1e-10815ca531fb"
      },
      "execution_count": null,
      "outputs": [
        {
          "output_type": "execute_result",
          "data": {
            "text/plain": [
              "                Id  Area(total)       Trooms    Nbedrooms  Nbwashrooms  \\\n",
              "count  3000.000000  3000.000000  3000.000000  3000.000000  3000.000000   \n",
              "mean   1500.500000   325.117000     7.021667     5.023000     4.513667   \n",
              "std     866.169729    20.507742     1.421221     1.634838     1.715263   \n",
              "min       1.000000   290.000000     5.000000     2.000000     1.000000   \n",
              "25%     750.750000   308.000000     6.000000     4.000000     3.000000   \n",
              "50%    1500.500000   325.000000     7.000000     5.000000     4.000000   \n",
              "75%    2250.250000   343.000000     8.000000     6.000000     6.000000   \n",
              "max    3000.000000   360.000000     9.000000     8.000000     8.000000   \n",
              "\n",
              "        Twashrooms   Roof(Area)   Lawn(Area)      Nfloors          API  \\\n",
              "count  3000.000000  3000.000000  3000.000000  3000.000000  3000.000000   \n",
              "mean      6.010667    48.980667    95.609333     4.013333    70.190667   \n",
              "std       1.786136    48.746641    14.837388     1.621532    17.563460   \n",
              "min       2.000000     0.000000    70.000000     1.000000    40.000000   \n",
              "25%       5.000000     0.000000    83.000000     3.000000    55.000000   \n",
              "50%       6.000000    71.000000    96.000000     4.000000    70.000000   \n",
              "75%       7.000000    96.000000   109.000000     5.000000    85.000000   \n",
              "max      10.000000   120.000000   120.000000     7.000000   100.000000   \n",
              "\n",
              "              ANB  Expected price  \n",
              "count  3000.00000     3000.000000  \n",
              "mean      3.47900     3782.938333  \n",
              "std       1.69426      567.189995  \n",
              "min       1.00000     2504.000000  \n",
              "25%       2.00000     3354.000000  \n",
              "50%       4.00000     3771.000000  \n",
              "75%       5.00000     4208.000000  \n",
              "max       6.00000     5216.000000  "
            ],
            "text/html": [
              "\n",
              "  <div id=\"df-b5b1da15-2305-49fd-b481-97cd4bf802ac\">\n",
              "    <div class=\"colab-df-container\">\n",
              "      <div>\n",
              "<style scoped>\n",
              "    .dataframe tbody tr th:only-of-type {\n",
              "        vertical-align: middle;\n",
              "    }\n",
              "\n",
              "    .dataframe tbody tr th {\n",
              "        vertical-align: top;\n",
              "    }\n",
              "\n",
              "    .dataframe thead th {\n",
              "        text-align: right;\n",
              "    }\n",
              "</style>\n",
              "<table border=\"1\" class=\"dataframe\">\n",
              "  <thead>\n",
              "    <tr style=\"text-align: right;\">\n",
              "      <th></th>\n",
              "      <th>Id</th>\n",
              "      <th>Area(total)</th>\n",
              "      <th>Trooms</th>\n",
              "      <th>Nbedrooms</th>\n",
              "      <th>Nbwashrooms</th>\n",
              "      <th>Twashrooms</th>\n",
              "      <th>Roof(Area)</th>\n",
              "      <th>Lawn(Area)</th>\n",
              "      <th>Nfloors</th>\n",
              "      <th>API</th>\n",
              "      <th>ANB</th>\n",
              "      <th>Expected price</th>\n",
              "    </tr>\n",
              "  </thead>\n",
              "  <tbody>\n",
              "    <tr>\n",
              "      <th>count</th>\n",
              "      <td>3000.000000</td>\n",
              "      <td>3000.000000</td>\n",
              "      <td>3000.000000</td>\n",
              "      <td>3000.000000</td>\n",
              "      <td>3000.000000</td>\n",
              "      <td>3000.000000</td>\n",
              "      <td>3000.000000</td>\n",
              "      <td>3000.000000</td>\n",
              "      <td>3000.000000</td>\n",
              "      <td>3000.000000</td>\n",
              "      <td>3000.00000</td>\n",
              "      <td>3000.000000</td>\n",
              "    </tr>\n",
              "    <tr>\n",
              "      <th>mean</th>\n",
              "      <td>1500.500000</td>\n",
              "      <td>325.117000</td>\n",
              "      <td>7.021667</td>\n",
              "      <td>5.023000</td>\n",
              "      <td>4.513667</td>\n",
              "      <td>6.010667</td>\n",
              "      <td>48.980667</td>\n",
              "      <td>95.609333</td>\n",
              "      <td>4.013333</td>\n",
              "      <td>70.190667</td>\n",
              "      <td>3.47900</td>\n",
              "      <td>3782.938333</td>\n",
              "    </tr>\n",
              "    <tr>\n",
              "      <th>std</th>\n",
              "      <td>866.169729</td>\n",
              "      <td>20.507742</td>\n",
              "      <td>1.421221</td>\n",
              "      <td>1.634838</td>\n",
              "      <td>1.715263</td>\n",
              "      <td>1.786136</td>\n",
              "      <td>48.746641</td>\n",
              "      <td>14.837388</td>\n",
              "      <td>1.621532</td>\n",
              "      <td>17.563460</td>\n",
              "      <td>1.69426</td>\n",
              "      <td>567.189995</td>\n",
              "    </tr>\n",
              "    <tr>\n",
              "      <th>min</th>\n",
              "      <td>1.000000</td>\n",
              "      <td>290.000000</td>\n",
              "      <td>5.000000</td>\n",
              "      <td>2.000000</td>\n",
              "      <td>1.000000</td>\n",
              "      <td>2.000000</td>\n",
              "      <td>0.000000</td>\n",
              "      <td>70.000000</td>\n",
              "      <td>1.000000</td>\n",
              "      <td>40.000000</td>\n",
              "      <td>1.00000</td>\n",
              "      <td>2504.000000</td>\n",
              "    </tr>\n",
              "    <tr>\n",
              "      <th>25%</th>\n",
              "      <td>750.750000</td>\n",
              "      <td>308.000000</td>\n",
              "      <td>6.000000</td>\n",
              "      <td>4.000000</td>\n",
              "      <td>3.000000</td>\n",
              "      <td>5.000000</td>\n",
              "      <td>0.000000</td>\n",
              "      <td>83.000000</td>\n",
              "      <td>3.000000</td>\n",
              "      <td>55.000000</td>\n",
              "      <td>2.00000</td>\n",
              "      <td>3354.000000</td>\n",
              "    </tr>\n",
              "    <tr>\n",
              "      <th>50%</th>\n",
              "      <td>1500.500000</td>\n",
              "      <td>325.000000</td>\n",
              "      <td>7.000000</td>\n",
              "      <td>5.000000</td>\n",
              "      <td>4.000000</td>\n",
              "      <td>6.000000</td>\n",
              "      <td>71.000000</td>\n",
              "      <td>96.000000</td>\n",
              "      <td>4.000000</td>\n",
              "      <td>70.000000</td>\n",
              "      <td>4.00000</td>\n",
              "      <td>3771.000000</td>\n",
              "    </tr>\n",
              "    <tr>\n",
              "      <th>75%</th>\n",
              "      <td>2250.250000</td>\n",
              "      <td>343.000000</td>\n",
              "      <td>8.000000</td>\n",
              "      <td>6.000000</td>\n",
              "      <td>6.000000</td>\n",
              "      <td>7.000000</td>\n",
              "      <td>96.000000</td>\n",
              "      <td>109.000000</td>\n",
              "      <td>5.000000</td>\n",
              "      <td>85.000000</td>\n",
              "      <td>5.00000</td>\n",
              "      <td>4208.000000</td>\n",
              "    </tr>\n",
              "    <tr>\n",
              "      <th>max</th>\n",
              "      <td>3000.000000</td>\n",
              "      <td>360.000000</td>\n",
              "      <td>9.000000</td>\n",
              "      <td>8.000000</td>\n",
              "      <td>8.000000</td>\n",
              "      <td>10.000000</td>\n",
              "      <td>120.000000</td>\n",
              "      <td>120.000000</td>\n",
              "      <td>7.000000</td>\n",
              "      <td>100.000000</td>\n",
              "      <td>6.00000</td>\n",
              "      <td>5216.000000</td>\n",
              "    </tr>\n",
              "  </tbody>\n",
              "</table>\n",
              "</div>\n",
              "      <button class=\"colab-df-convert\" onclick=\"convertToInteractive('df-b5b1da15-2305-49fd-b481-97cd4bf802ac')\"\n",
              "              title=\"Convert this dataframe to an interactive table.\"\n",
              "              style=\"display:none;\">\n",
              "        \n",
              "  <svg xmlns=\"http://www.w3.org/2000/svg\" height=\"24px\"viewBox=\"0 0 24 24\"\n",
              "       width=\"24px\">\n",
              "    <path d=\"M0 0h24v24H0V0z\" fill=\"none\"/>\n",
              "    <path d=\"M18.56 5.44l.94 2.06.94-2.06 2.06-.94-2.06-.94-.94-2.06-.94 2.06-2.06.94zm-11 1L8.5 8.5l.94-2.06 2.06-.94-2.06-.94L8.5 2.5l-.94 2.06-2.06.94zm10 10l.94 2.06.94-2.06 2.06-.94-2.06-.94-.94-2.06-.94 2.06-2.06.94z\"/><path d=\"M17.41 7.96l-1.37-1.37c-.4-.4-.92-.59-1.43-.59-.52 0-1.04.2-1.43.59L10.3 9.45l-7.72 7.72c-.78.78-.78 2.05 0 2.83L4 21.41c.39.39.9.59 1.41.59.51 0 1.02-.2 1.41-.59l7.78-7.78 2.81-2.81c.8-.78.8-2.07 0-2.86zM5.41 20L4 18.59l7.72-7.72 1.47 1.35L5.41 20z\"/>\n",
              "  </svg>\n",
              "      </button>\n",
              "      \n",
              "  <style>\n",
              "    .colab-df-container {\n",
              "      display:flex;\n",
              "      flex-wrap:wrap;\n",
              "      gap: 12px;\n",
              "    }\n",
              "\n",
              "    .colab-df-convert {\n",
              "      background-color: #E8F0FE;\n",
              "      border: none;\n",
              "      border-radius: 50%;\n",
              "      cursor: pointer;\n",
              "      display: none;\n",
              "      fill: #1967D2;\n",
              "      height: 32px;\n",
              "      padding: 0 0 0 0;\n",
              "      width: 32px;\n",
              "    }\n",
              "\n",
              "    .colab-df-convert:hover {\n",
              "      background-color: #E2EBFA;\n",
              "      box-shadow: 0px 1px 2px rgba(60, 64, 67, 0.3), 0px 1px 3px 1px rgba(60, 64, 67, 0.15);\n",
              "      fill: #174EA6;\n",
              "    }\n",
              "\n",
              "    [theme=dark] .colab-df-convert {\n",
              "      background-color: #3B4455;\n",
              "      fill: #D2E3FC;\n",
              "    }\n",
              "\n",
              "    [theme=dark] .colab-df-convert:hover {\n",
              "      background-color: #434B5C;\n",
              "      box-shadow: 0px 1px 3px 1px rgba(0, 0, 0, 0.15);\n",
              "      filter: drop-shadow(0px 1px 2px rgba(0, 0, 0, 0.3));\n",
              "      fill: #FFFFFF;\n",
              "    }\n",
              "  </style>\n",
              "\n",
              "      <script>\n",
              "        const buttonEl =\n",
              "          document.querySelector('#df-b5b1da15-2305-49fd-b481-97cd4bf802ac button.colab-df-convert');\n",
              "        buttonEl.style.display =\n",
              "          google.colab.kernel.accessAllowed ? 'block' : 'none';\n",
              "\n",
              "        async function convertToInteractive(key) {\n",
              "          const element = document.querySelector('#df-b5b1da15-2305-49fd-b481-97cd4bf802ac');\n",
              "          const dataTable =\n",
              "            await google.colab.kernel.invokeFunction('convertToInteractive',\n",
              "                                                     [key], {});\n",
              "          if (!dataTable) return;\n",
              "\n",
              "          const docLinkHtml = 'Like what you see? Visit the ' +\n",
              "            '<a target=\"_blank\" href=https://colab.research.google.com/notebooks/data_table.ipynb>data table notebook</a>'\n",
              "            + ' to learn more about interactive tables.';\n",
              "          element.innerHTML = '';\n",
              "          dataTable['output_type'] = 'display_data';\n",
              "          await google.colab.output.renderOutput(dataTable, element);\n",
              "          const docLink = document.createElement('div');\n",
              "          docLink.innerHTML = docLinkHtml;\n",
              "          element.appendChild(docLink);\n",
              "        }\n",
              "      </script>\n",
              "    </div>\n",
              "  </div>\n",
              "  "
            ]
          },
          "metadata": {},
          "execution_count": 11
        }
      ]
    },
    {
      "cell_type": "code",
      "source": [
        "df.dtypes # Checking the datatype of each column"
      ],
      "metadata": {
        "colab": {
          "base_uri": "https://localhost:8080/"
        },
        "id": "WT-d7bQmg29g",
        "outputId": "967b4c05-dcde-438e-b2c1-c077c67972f5"
      },
      "execution_count": null,
      "outputs": [
        {
          "output_type": "execute_result",
          "data": {
            "text/plain": [
              "Id                 int64\n",
              "Area(total)        int64\n",
              "Trooms             int64\n",
              "Nbedrooms          int64\n",
              "Nbwashrooms        int64\n",
              "Twashrooms         int64\n",
              "roof              object\n",
              "Roof(Area)         int64\n",
              "Lawn(Area)         int64\n",
              "Nfloors            int64\n",
              "API                int64\n",
              "ANB                int64\n",
              "Expected price     int64\n",
              "Grade             object\n",
              "dtype: object"
            ]
          },
          "metadata": {},
          "execution_count": 12
        }
      ]
    },
    {
      "cell_type": "markdown",
      "source": [
        "1.1)Univariate Analysis:"
      ],
      "metadata": {
        "id": "FZ7M1HZkg5tf"
      }
    },
    {
      "cell_type": "markdown",
      "source": [
        "Univariate Analysis on categorical columns"
      ],
      "metadata": {
        "id": "1mGvZsVxlHBR"
      }
    },
    {
      "cell_type": "code",
      "source": [
        "def info_of_cat(col): \n",
        "    print(f\"Unique values in {col} are: {df[col].unique()}\") # unique: returns the unique values in the col\n",
        "    print(f\"Mode of {col} is {df[col].mode()[0]}\")  # mode: returns the mode of the column\n",
        "    print(f\"Number of missing values in {col} is {df[col].isnull().sum()}\") # isnull().sum() counts the number of null in dataframe\n",
        "    if df[col].isnull().sum() > 0:  # check if null values are present\n",
        "        print(f\"\\nThere are null values in the {col} column\")"
      ],
      "metadata": {
        "id": "VW7_NxGng6eM"
      },
      "execution_count": null,
      "outputs": []
    },
    {
      "cell_type": "markdown",
      "source": [
        "Analysis of roof"
      ],
      "metadata": {
        "id": "Z_occgMfhexQ"
      }
    },
    {
      "cell_type": "code",
      "source": [
        "info_of_cat(\"roof\") #function returns all the information required for the level 1 analysis"
      ],
      "metadata": {
        "colab": {
          "base_uri": "https://localhost:8080/"
        },
        "id": "O_fSqyJwhkPL",
        "outputId": "32ab4cdf-0db3-4514-9a25-f32f3ee6c26f"
      },
      "execution_count": null,
      "outputs": [
        {
          "output_type": "stream",
          "name": "stdout",
          "text": [
            "Unique values in roof are: ['NO' 'YES']\n",
            "Mode of roof is YES\n",
            "Number of missing values in roof is 0\n"
          ]
        }
      ]
    },
    {
      "cell_type": "code",
      "source": [
        "fig, ax = plt.subplots(1, 2, figsize = (15, 7))\n",
        "ax[0].set_title(\"Count of roof\")                  # Set the title of the graph\n",
        "percentage = df[\"roof\"].value_counts()         # value_counts: returns the count of values in series: return series\n",
        "labels = list(df[\"roof\"].value_counts().index) # Converting the index of value counts into list\n",
        "\n",
        "sb.countplot(x = df[\"roof\"], ax = ax[0],order=['NO' 'YES'])\n",
        "plt.pie(percentage,labels = labels, autopct= \"%0.2f%%\")  # autopct: to print the percentage on pie wedge. 2 decimal points used "
      ],
      "metadata": {
        "colab": {
          "base_uri": "https://localhost:8080/",
          "height": 562
        },
        "id": "vKqsCASlhtT2",
        "outputId": "bd8d45db-60dc-416c-fe81-ed1037be2695"
      },
      "execution_count": null,
      "outputs": [
        {
          "output_type": "execute_result",
          "data": {
            "text/plain": [
              "([<matplotlib.patches.Wedge at 0x7fb3f321c670>,\n",
              "  <matplotlib.patches.Wedge at 0x7fb3f321ceb0>],\n",
              " [Text(-0.04951561840336428, 1.0988849819403905, 'YES'),\n",
              "  Text(0.049515515518326246, -1.0988849865763726, 'NO')],\n",
              " [Text(-0.027008519129107785, 0.599391808331122, '51.43%'),\n",
              "  Text(0.027008463009996132, -0.5993918108598395, '48.57%')])"
            ]
          },
          "metadata": {},
          "execution_count": 15
        },
        {
          "output_type": "display_data",
          "data": {
            "text/plain": [
              "<Figure size 1080x504 with 2 Axes>"
            ],
            "image/png": "[encoded data removed]"
          },
          "metadata": {
            "needs_background": "light"
          }
        }
      ]
    },
    {
      "cell_type": "markdown",
      "source": [
        "Interpretation:\n",
        "\n",
        "1)From the above pie chart and count plot we can make out that 48.57% houses don't have roofs.\n",
        "\n",
        "2) So this is the most important factor that can affect the grade of the house."
      ],
      "metadata": {
        "id": "3mIvgLs-iNwo"
      }
    },
    {
      "cell_type": "markdown",
      "source": [
        "Analysis of Grade"
      ],
      "metadata": {
        "id": "4-v2DeSRirCd"
      }
    },
    {
      "cell_type": "code",
      "source": [
        "info_of_cat(\"Grade\") #function returns all the information required for the level 1 analysis"
      ],
      "metadata": {
        "colab": {
          "base_uri": "https://localhost:8080/"
        },
        "id": "yMKGumhIiytS",
        "outputId": "f5572d72-5ea8-462f-e220-14994c3a6f99"
      },
      "execution_count": null,
      "outputs": [
        {
          "output_type": "stream",
          "name": "stdout",
          "text": [
            "Unique values in Grade are: ['D' 'C' 'B' 'A' 'E']\n",
            "Mode of Grade is D\n",
            "Number of missing values in Grade is 0\n"
          ]
        }
      ]
    },
    {
      "cell_type": "code",
      "source": [
        "fig, ax = plt.subplots(1, 2, figsize = (15, 7))\n",
        "ax[0].set_title(\"Grade\")                  # Set the title of the graph\n",
        "percentage = df[\"Grade\"].value_counts()         # value_counts: returns the count of values in series: return series\n",
        "labels = list(df[\"Grade\"].value_counts().index) # Converting the index of value counts into list\n",
        "\n",
        "sb.countplot(x = df[\"Grade\"], ax = ax[0],order=['D','C','B','A','E'])\n",
        "plt.pie(percentage,labels = labels, autopct= \"%0.2f%%\")  # autopct: to print the percentage on pie wedge. 2 decimal points used "
      ],
      "metadata": {
        "colab": {
          "base_uri": "https://localhost:8080/",
          "height": 718
        },
        "id": "fRNxDluJi9Dt",
        "outputId": "5991969a-1705-49a8-edc6-30f8a9879844"
      },
      "execution_count": null,
      "outputs": [
        {
          "output_type": "execute_result",
          "data": {
            "text/plain": [
              "([<matplotlib.patches.Wedge at 0x7fb3f2d27d60>,\n",
              "  <matplotlib.patches.Wedge at 0x7fb3f2d1d7f0>,\n",
              "  <matplotlib.patches.Wedge at 0x7fb3f2cb62b0>,\n",
              "  <matplotlib.patches.Wedge at 0x7fb3f2cb6e80>,\n",
              "  <matplotlib.patches.Wedge at 0x7fb3f2cc4550>],\n",
              " [Text(0.26238675799559436, 1.0682477190373783, 'D'),\n",
              "  Text(-1.0607085922171344, -0.29137138225423737, 'C'),\n",
              "  Text(0.012670921643155142, -1.099927019281149, 'B'),\n",
              "  Text(0.9219098060322013, -0.6000685873645355, 'A'),\n",
              "  Text(1.096518097567199, -0.08745319724064353, 'E')],\n",
              " [Text(0.14312004981577872, 0.5826805740203881, '42.33%'),\n",
              "  Text(-0.5785683230275278, -0.15892984486594763, '23.87%'),\n",
              "  Text(0.0069114118053573495, -0.5999601923351721, '17.97%'),\n",
              "  Text(0.5028598941993825, -0.3273101385624739, '13.30%'),\n",
              "  Text(0.5981007804911994, -0.047701743949441926, '2.53%')])"
            ]
          },
          "metadata": {},
          "execution_count": 17
        },
        {
          "output_type": "display_data",
          "data": {
            "text/plain": [
              "<Figure size 1080x504 with 2 Axes>"
            ],
            "image/png": "[encoded data removed]"
          },
          "metadata": {
            "needs_background": "light"
          }
        }
      ]
    },
    {
      "cell_type": "markdown",
      "source": [
        "Interpetation:\n",
        "\n",
        "1) From pie chart and countplot we can notice that about 42.33% houses fall in the D grade category\n",
        "\n",
        "2) 23.87% houses fall in the C grade category\n",
        "\n",
        "3) 17.97% houses fall in the B grade category\n",
        "\n",
        "4) 2.53% fall in E grade category\n",
        "\n",
        "5) 13.30% houses fall in A grade category\n",
        "\n",
        "From the above analysis we can make out that there are majority of houses that fall in D grade category"
      ],
      "metadata": {
        "id": "AD2pLQ96jRm1"
      }
    },
    {
      "cell_type": "markdown",
      "source": [
        "Analysis on numeric columns "
      ],
      "metadata": {
        "id": "Fu_mTY6tlCQL"
      }
    },
    {
      "cell_type": "code",
      "source": [
        "def info_of_numerical(col):\n",
        "    print(f\"The mean of the {col} is {df[col].mean()}\")\n",
        "    print(f\"The median of the {col} is {df[col].median()}\")\n",
        "    print(f\"The mode of the {col} is {df[col].mode()[0]}\")\n",
        "    print(f\"The standard deviation of the {col} is {df[col].std()}\")\n",
        "    print(f\"Number of missing values in the {col} is {df[col].isnull().sum()}\")"
      ],
      "metadata": {
        "id": "oTdf7qyVlWpA"
      },
      "execution_count": null,
      "outputs": []
    },
    {
      "cell_type": "markdown",
      "source": [
        "Analysis of the Id:"
      ],
      "metadata": {
        "id": "i2nrKRZYlbNJ"
      }
    },
    {
      "cell_type": "code",
      "source": [
        "info_of_numerical(\"Id\")"
      ],
      "metadata": {
        "colab": {
          "base_uri": "https://localhost:8080/"
        },
        "id": "QCCcLzi5llZJ",
        "outputId": "31c66ba0-adab-4e26-c9a3-561c8731a9cc"
      },
      "execution_count": null,
      "outputs": [
        {
          "output_type": "stream",
          "name": "stdout",
          "text": [
            "The mean of the Id is 1500.5\n",
            "The median of the Id is 1500.5\n",
            "The mode of the Id is 1\n",
            "The standard deviation of the Id is 866.1697293256098\n",
            "Number of missing values in the Id is 0\n"
          ]
        }
      ]
    },
    {
      "cell_type": "code",
      "source": [
        "fig, ax = plt.subplots(1, 2, figsize= (20, 7))               # Creating the space for the 2 images, first argument in subplots is rows and second is columns and the figure size\n",
        "sb.histplot(x = df[\"Id\"], ax =ax[1], color = \"blue\") # ax[1] means image will plot at the second space\n",
        "sb.boxplot(x = df[\"Id\"], ax = ax[0], color = \"yellow\") # ax[0] means image will plot at the second space\n",
        "plt.show()"
      ],
      "metadata": {
        "colab": {
          "base_uri": "https://localhost:8080/",
          "height": 442
        },
        "id": "xLwTyvV2l1g0",
        "outputId": "2b5b39ad-aede-42db-ba5f-26587f64be0d"
      },
      "execution_count": null,
      "outputs": [
        {
          "output_type": "display_data",
          "data": {
            "text/plain": [
              "<Figure size 1440x504 with 2 Axes>"
            ],
            "image/png": "[encoded data removed]"
          },
          "metadata": {
            "needs_background": "light"
          }
        }
      ]
    },
    {
      "cell_type": "markdown",
      "source": [
        "Interpretation: Usually id follows the normal distribution."
      ],
      "metadata": {
        "id": "4bFMPdQymRPr"
      }
    },
    {
      "cell_type": "markdown",
      "source": [
        "Analysis of the Area(total):"
      ],
      "metadata": {
        "id": "DG4Y-68Lmpcz"
      }
    },
    {
      "cell_type": "code",
      "source": [
        "info_of_numerical(\"Area(total)\")"
      ],
      "metadata": {
        "colab": {
          "base_uri": "https://localhost:8080/"
        },
        "id": "lITMiYIemqjF",
        "outputId": "f9b75d69-7ce7-4657-b98b-770c424cbac0"
      },
      "execution_count": null,
      "outputs": [
        {
          "output_type": "stream",
          "name": "stdout",
          "text": [
            "The mean of the Area(total) is 325.117\n",
            "The median of the Area(total) is 325.0\n",
            "The mode of the Area(total) is 344\n",
            "The standard deviation of the Area(total) is 20.507742444421382\n",
            "Number of missing values in the Area(total) is 0\n"
          ]
        }
      ]
    },
    {
      "cell_type": "code",
      "source": [
        "fig, ax = plt.subplots(1, 2, figsize= (20, 7))               # Creating the space for the 2 images, first argument in subplots is rows and second is columns and the figure size\n",
        "sb.histplot(x = df[\"Area(total)\"], ax =ax[1], color = \"red\") # ax[1] means image will plot at the second space\n",
        "sb.boxplot(x = df[\"Area(total)\"], ax = ax[0], color = \"orange\") # ax[0] means image will plot at the second space\n",
        "plt.show()"
      ],
      "metadata": {
        "colab": {
          "base_uri": "https://localhost:8080/",
          "height": 442
        },
        "id": "5Z9CwV63mvGl",
        "outputId": "fb001033-229d-4d28-887b-243a920b66d4"
      },
      "execution_count": null,
      "outputs": [
        {
          "output_type": "display_data",
          "data": {
            "text/plain": [
              "<Figure size 1440x504 with 2 Axes>"
            ],
            "image/png": "[encoded data removed]"
          },
          "metadata": {
            "needs_background": "light"
          }
        }
      ]
    },
    {
      "cell_type": "markdown",
      "source": [
        "Interpretation:\n",
        "\n",
        " Area(total) of house follows normal distribution as there no houses whose area is more than 360 ."
      ],
      "metadata": {
        "id": "_mvhC_-7nM4P"
      }
    },
    {
      "cell_type": "markdown",
      "source": [
        "\n",
        "Analysis of the Trooms:"
      ],
      "metadata": {
        "id": "KmiBa4mpnssG"
      }
    },
    {
      "cell_type": "code",
      "source": [
        "info_of_numerical(\"Trooms\")"
      ],
      "metadata": {
        "colab": {
          "base_uri": "https://localhost:8080/"
        },
        "id": "mMAQPNbuntvw",
        "outputId": "d5636a93-9cd8-4278-bae3-d55f97b17a28"
      },
      "execution_count": null,
      "outputs": [
        {
          "output_type": "stream",
          "name": "stdout",
          "text": [
            "The mean of the Trooms is 7.0216666666666665\n",
            "The median of the Trooms is 7.0\n",
            "The mode of the Trooms is 9\n",
            "The standard deviation of the Trooms is 1.4212214860439663\n",
            "Number of missing values in the Trooms is 0\n"
          ]
        }
      ]
    },
    {
      "cell_type": "code",
      "source": [
        "fig, ax = plt.subplots(1, 2, figsize= (20, 7))               # Creating the space for the 2 images, first argument in subplots is rows and second is columns and the figure size\n",
        "sb.histplot(x = df[\"Trooms\"], ax =ax[1], color = \"brown\") # ax[1] means image will plot at the second space\n",
        "sb.boxplot(x = df[\"Trooms\"], ax = ax[0], color = \"purple\") # ax[0] means image will plot at the second space\n",
        "plt.show()"
      ],
      "metadata": {
        "colab": {
          "base_uri": "https://localhost:8080/",
          "height": 442
        },
        "id": "DScTJy8Qnxgt",
        "outputId": "12555c73-74c4-4125-b10f-cf8db5943e1f"
      },
      "execution_count": null,
      "outputs": [
        {
          "output_type": "display_data",
          "data": {
            "text/plain": [
              "<Figure size 1440x504 with 2 Axes>"
            ],
            "image/png": "[encoded data removed]"
          },
          "metadata": {
            "needs_background": "light"
          }
        }
      ]
    },
    {
      "cell_type": "markdown",
      "source": [
        "Interpretation:\n",
        "\n",
        "From the box plot and hist plot we can understand that majority of houses are having total of 9 rooms"
      ],
      "metadata": {
        "id": "XJh_YiunoSXt"
      }
    },
    {
      "cell_type": "markdown",
      "source": [
        "Analysis of the Nbedrooms:"
      ],
      "metadata": {
        "id": "jhKFiHi3oo4c"
      }
    },
    {
      "cell_type": "code",
      "source": [
        "info_of_numerical(\"Nbedrooms\")"
      ],
      "metadata": {
        "colab": {
          "base_uri": "https://localhost:8080/"
        },
        "id": "OIUBE0h5opeo",
        "outputId": "1430ea09-65e0-458c-9172-bac2bc576de4"
      },
      "execution_count": null,
      "outputs": [
        {
          "output_type": "stream",
          "name": "stdout",
          "text": [
            "The mean of the Nbedrooms is 5.023\n",
            "The median of the Nbedrooms is 5.0\n",
            "The mode of the Nbedrooms is 4\n",
            "The standard deviation of the Nbedrooms is 1.6348379833316555\n",
            "Number of missing values in the Nbedrooms is 0\n"
          ]
        }
      ]
    },
    {
      "cell_type": "code",
      "source": [
        "fig, ax = plt.subplots(1, 2, figsize= (20, 7))               # Creating the space for the 2 images, first argument in subplots is rows and second is columns and the figure size\n",
        "sb.histplot(x = df[\"Nbedrooms\"], ax =ax[1], color = \"green\") # ax[1] means image will plot at the second space\n",
        "sb.boxplot(x = df[\"Nbedrooms\"], ax = ax[0], color = \"red\") # ax[0] means image will plot at the second space\n",
        "plt.show()"
      ],
      "metadata": {
        "colab": {
          "base_uri": "https://localhost:8080/",
          "height": 442
        },
        "id": "qJhzBAWuosdV",
        "outputId": "36a95df8-5ad5-42d9-b013-6b926b6e6a7d"
      },
      "execution_count": null,
      "outputs": [
        {
          "output_type": "display_data",
          "data": {
            "text/plain": [
              "<Figure size 1440x504 with 2 Axes>"
            ],
            "image/png": "[encoded data removed]"
          },
          "metadata": {
            "needs_background": "light"
          }
        }
      ]
    },
    {
      "cell_type": "markdown",
      "source": [
        "Interpretation:\n",
        "\n",
        "From the box plot and hist plot we can make out that total number of bedrooms are 4 in majority of houses "
      ],
      "metadata": {
        "id": "c0HUaWmEpPZN"
      }
    },
    {
      "cell_type": "markdown",
      "source": [
        "Analysis of the Nbwashrooms:"
      ],
      "metadata": {
        "id": "JvBZJ-cApjXi"
      }
    },
    {
      "cell_type": "code",
      "source": [
        "info_of_numerical(\"Nbwashrooms\")"
      ],
      "metadata": {
        "colab": {
          "base_uri": "https://localhost:8080/"
        },
        "id": "NlBuAmZkpj91",
        "outputId": "817ff926-dd89-4b73-bd04-7f7a74a106d8"
      },
      "execution_count": null,
      "outputs": [
        {
          "output_type": "stream",
          "name": "stdout",
          "text": [
            "The mean of the Nbwashrooms is 4.5136666666666665\n",
            "The median of the Nbwashrooms is 4.0\n",
            "The mode of the Nbwashrooms is 4\n",
            "The standard deviation of the Nbwashrooms is 1.7152630307459467\n",
            "Number of missing values in the Nbwashrooms is 0\n"
          ]
        }
      ]
    },
    {
      "cell_type": "code",
      "source": [
        "fig, ax = plt.subplots(1, 2, figsize= (20, 7))               # Creating the space for the 2 images, first argument in subplots is rows and second is columns and the figure size\n",
        "sb.histplot(x = df[\"Nbwashrooms\"], ax =ax[1], color = \"orange\") # ax[1] means image will plot at the second space\n",
        "sb.boxplot(x = df[\"Nbwashrooms\"], ax = ax[0], color = \"blue\") # ax[0] means image will plot at the second space\n",
        "plt.show()"
      ],
      "metadata": {
        "colab": {
          "base_uri": "https://localhost:8080/",
          "height": 442
        },
        "id": "MEa9Hqempnoa",
        "outputId": "d0b3c369-186e-4d5d-b149-e7b7a2f0af53"
      },
      "execution_count": null,
      "outputs": [
        {
          "output_type": "display_data",
          "data": {
            "text/plain": [
              "<Figure size 1440x504 with 2 Axes>"
            ],
            "image/png": "[encoded data removed]"
          },
          "metadata": {
            "needs_background": "light"
          }
        }
      ]
    },
    {
      "cell_type": "markdown",
      "source": [
        "Interpretation:\n",
        "\n",
        "From the box plot and hist plot we can make out that total number of Nbwashrooms are 4 in majority of houses "
      ],
      "metadata": {
        "id": "MlL53sK9qA4l"
      }
    },
    {
      "cell_type": "markdown",
      "source": [
        "Analysis of the Twashrooms:"
      ],
      "metadata": {
        "id": "97hZy2PiqLJu"
      }
    },
    {
      "cell_type": "code",
      "source": [
        "info_of_numerical(\"Twashrooms\")"
      ],
      "metadata": {
        "colab": {
          "base_uri": "https://localhost:8080/"
        },
        "id": "TNwWqQ-BqMZR",
        "outputId": "702bb827-599f-479d-c053-9152398d84e0"
      },
      "execution_count": null,
      "outputs": [
        {
          "output_type": "stream",
          "name": "stdout",
          "text": [
            "The mean of the Twashrooms is 6.010666666666666\n",
            "The median of the Twashrooms is 6.0\n",
            "The mode of the Twashrooms is 5\n",
            "The standard deviation of the Twashrooms is 1.786136328284218\n",
            "Number of missing values in the Twashrooms is 0\n"
          ]
        }
      ]
    },
    {
      "cell_type": "code",
      "source": [
        "fig, ax = plt.subplots(1, 2, figsize= (20, 7))               # Creating the space for the 2 images, first argument in subplots is rows and second is columns and the figure size\n",
        "sb.histplot(x = df[\"Twashrooms\"], ax =ax[1], color = \"green\") # ax[1] means image will plot at the second space\n",
        "sb.boxplot(x = df[\"Twashrooms\"], ax = ax[0], color = \"yellow\") # ax[0] means image will plot at the second space\n",
        "plt.show()"
      ],
      "metadata": {
        "colab": {
          "base_uri": "https://localhost:8080/",
          "height": 442
        },
        "id": "f3t2JWXwqP3f",
        "outputId": "2d7258ea-8044-4dde-a3d0-3fe1cbbfd3cf"
      },
      "execution_count": null,
      "outputs": [
        {
          "output_type": "display_data",
          "data": {
            "text/plain": [
              "<Figure size 1440x504 with 2 Axes>"
            ],
            "image/png": "[encoded data removed]"
          },
          "metadata": {
            "needs_background": "light"
          }
        }
      ]
    },
    {
      "cell_type": "markdown",
      "source": [
        "Interpretation:\n",
        "\n",
        "From the box plot and hist plot we can make out that total number of Twashrooms are 4 in majority of houses "
      ],
      "metadata": {
        "id": "SM-HclnZsJq4"
      }
    },
    {
      "cell_type": "code",
      "source": [
        "df.dtypes"
      ],
      "metadata": {
        "colab": {
          "base_uri": "https://localhost:8080/"
        },
        "id": "Xkptz8pCsPsN",
        "outputId": "ad7fb546-ea01-4df7-f6f1-25fbed240e24"
      },
      "execution_count": null,
      "outputs": [
        {
          "output_type": "execute_result",
          "data": {
            "text/plain": [
              "Id                 int64\n",
              "Area(total)        int64\n",
              "Trooms             int64\n",
              "Nbedrooms          int64\n",
              "Nbwashrooms        int64\n",
              "Twashrooms         int64\n",
              "roof              object\n",
              "Roof(Area)         int64\n",
              "Lawn(Area)         int64\n",
              "Nfloors            int64\n",
              "API                int64\n",
              "ANB                int64\n",
              "Expected price     int64\n",
              "Grade             object\n",
              "dtype: object"
            ]
          },
          "metadata": {},
          "execution_count": 31
        }
      ]
    },
    {
      "cell_type": "markdown",
      "source": [
        "Analysis on Roof(Area)"
      ],
      "metadata": {
        "id": "VKjTBoF3sNZM"
      }
    },
    {
      "cell_type": "code",
      "source": [
        "info_of_numerical(\"Roof(Area)\")"
      ],
      "metadata": {
        "colab": {
          "base_uri": "https://localhost:8080/"
        },
        "id": "qS1rgtFHsYkf",
        "outputId": "39cd2d6c-d87d-44c7-852f-499b556c60aa"
      },
      "execution_count": null,
      "outputs": [
        {
          "output_type": "stream",
          "name": "stdout",
          "text": [
            "The mean of the Roof(Area) is 48.980666666666664\n",
            "The median of the Roof(Area) is 71.0\n",
            "The mode of the Roof(Area) is 0\n",
            "The standard deviation of the Roof(Area) is 48.74664129867331\n",
            "Number of missing values in the Roof(Area) is 0\n"
          ]
        }
      ]
    },
    {
      "cell_type": "code",
      "source": [
        "fig, ax = plt.subplots(1, 2, figsize= (20, 7))               # Creating the space for the 2 images, first argument in subplots is rows and second is columns and the figure size\n",
        "sb.histplot(x = df[\"Roof(Area)\"], ax =ax[1], color = \"pink\") # ax[1] means image will plot at the second space\n",
        "sb.boxplot(x = df[\"Roof(Area)\"], ax = ax[0], color = \"orange\") # ax[0] means image will plot at the second space\n",
        "plt.show()"
      ],
      "metadata": {
        "colab": {
          "base_uri": "https://localhost:8080/",
          "height": 442
        },
        "id": "0xDKaOW4smQK",
        "outputId": "24f54f68-4999-4717-bcb8-4d8fd93d77cd"
      },
      "execution_count": null,
      "outputs": [
        {
          "output_type": "display_data",
          "data": {
            "text/plain": [
              "<Figure size 1440x504 with 2 Axes>"
            ],
            "image/png": "[encoded data removed]"
          },
          "metadata": {
            "needs_background": "light"
          }
        }
      ]
    },
    {
      "cell_type": "markdown",
      "source": [
        "Interpretation:\n",
        "\n",
        "So from the above pie chart and boxplot we say that there is no roof area for majority of houses because majority of houses don't have roofs"
      ],
      "metadata": {
        "id": "aUmnoI6rTcOT"
      }
    },
    {
      "cell_type": "markdown",
      "source": [
        "Analysis on Lawn(Area)  "
      ],
      "metadata": {
        "id": "fPp_uf9Ms5-F"
      }
    },
    {
      "cell_type": "code",
      "source": [
        "info_of_numerical(\"Lawn(Area)\")"
      ],
      "metadata": {
        "colab": {
          "base_uri": "https://localhost:8080/"
        },
        "id": "t6tifNyWtDbk",
        "outputId": "21cf66f4-94a7-4a94-8af2-ef35d40fc535"
      },
      "execution_count": null,
      "outputs": [
        {
          "output_type": "stream",
          "name": "stdout",
          "text": [
            "The mean of the Lawn(Area) is 95.60933333333334\n",
            "The median of the Lawn(Area) is 96.0\n",
            "The mode of the Lawn(Area) is 101\n",
            "The standard deviation of the Lawn(Area) is 14.83738843555085\n",
            "Number of missing values in the Lawn(Area) is 0\n"
          ]
        }
      ]
    },
    {
      "cell_type": "code",
      "source": [
        "fig, ax = plt.subplots(1, 2, figsize= (20, 7))               # Creating the space for the 2 images, first argument in subplots is rows and second is columns and the figure size\n",
        "sb.histplot(x = df[\"Lawn(Area)\"], ax =ax[1], color = \"green\") # ax[1] means image will plot at the second space\n",
        "sb.boxplot(x = df[\"Lawn(Area)\"], ax = ax[0], color = \"yellow\") # ax[0] means image will plot at the second space\n",
        "plt.show()"
      ],
      "metadata": {
        "colab": {
          "base_uri": "https://localhost:8080/",
          "height": 442
        },
        "id": "Eh2SaYFOtHjL",
        "outputId": "60630b7e-45f9-46bd-d4b5-66432d11b8b9"
      },
      "execution_count": null,
      "outputs": [
        {
          "output_type": "display_data",
          "data": {
            "text/plain": [
              "<Figure size 1440x504 with 2 Axes>"
            ],
            "image/png": "[encoded data removed]"
          },
          "metadata": {
            "needs_background": "light"
          }
        }
      ]
    },
    {
      "cell_type": "markdown",
      "source": [
        "Interpretation:\n",
        "\n",
        "From the box plot and hist plot we can make out that on an average the Lawn(Area) for the houses is 96 and maximum is 101"
      ],
      "metadata": {
        "id": "tr6mxDT2tpID"
      }
    },
    {
      "cell_type": "markdown",
      "source": [
        "Analysis on Nfloors "
      ],
      "metadata": {
        "id": "esQW3N5yuBaM"
      }
    },
    {
      "cell_type": "code",
      "source": [
        "info_of_numerical(\"Nfloors\")"
      ],
      "metadata": {
        "colab": {
          "base_uri": "https://localhost:8080/"
        },
        "id": "EtwpnD8ZuKhN",
        "outputId": "dce11b98-7f40-47e6-a588-95780beb4adb"
      },
      "execution_count": null,
      "outputs": [
        {
          "output_type": "stream",
          "name": "stdout",
          "text": [
            "The mean of the Nfloors is 4.013333333333334\n",
            "The median of the Nfloors is 4.0\n",
            "The mode of the Nfloors is 3\n",
            "The standard deviation of the Nfloors is 1.6215317893903767\n",
            "Number of missing values in the Nfloors is 0\n"
          ]
        }
      ]
    },
    {
      "cell_type": "code",
      "source": [
        "fig, ax = plt.subplots(1, 2, figsize= (20, 7))               # Creating the space for the 2 images, first argument in subplots is rows and second is columns and the figure size\n",
        "sb.histplot(x = df[\"Nfloors\"], ax =ax[1], color = \"yellow\") # ax[1] means image will plot at the second space\n",
        "sb.boxplot(x = df[\"Nfloors\"], ax = ax[0], color = \"blue\") # ax[0] means image will plot at the second space\n",
        "plt.show()"
      ],
      "metadata": {
        "colab": {
          "base_uri": "https://localhost:8080/",
          "height": 442
        },
        "id": "9tPPrR4fuOVH",
        "outputId": "6680753c-80d0-4f3e-b634-89adf5afdb6a"
      },
      "execution_count": null,
      "outputs": [
        {
          "output_type": "display_data",
          "data": {
            "text/plain": [
              "<Figure size 1440x504 with 2 Axes>"
            ],
            "image/png": "[encoded data removed]"
          },
          "metadata": {
            "needs_background": "light"
          }
        }
      ]
    },
    {
      "cell_type": "markdown",
      "source": [
        "Interpretation:\n",
        "\n",
        "From the box plot and hist plot we can make out that on an average the number of floors are 4 for the houses and maximum number of houses have 3 floors"
      ],
      "metadata": {
        "id": "WdEZ35RVumo7"
      }
    },
    {
      "cell_type": "code",
      "source": [
        "df.dtypes"
      ],
      "metadata": {
        "colab": {
          "base_uri": "https://localhost:8080/"
        },
        "id": "dmHpL4v5vSz2",
        "outputId": "1dc473b1-1248-4d3e-cf8d-5c451ffae7e3"
      },
      "execution_count": null,
      "outputs": [
        {
          "output_type": "execute_result",
          "data": {
            "text/plain": [
              "Id                 int64\n",
              "Area(total)        int64\n",
              "Trooms             int64\n",
              "Nbedrooms          int64\n",
              "Nbwashrooms        int64\n",
              "Twashrooms         int64\n",
              "roof              object\n",
              "Roof(Area)         int64\n",
              "Lawn(Area)         int64\n",
              "Nfloors            int64\n",
              "API                int64\n",
              "ANB                int64\n",
              "Expected price     int64\n",
              "Grade             object\n",
              "dtype: object"
            ]
          },
          "metadata": {},
          "execution_count": 38
        }
      ]
    },
    {
      "cell_type": "markdown",
      "source": [
        "Analysis of API "
      ],
      "metadata": {
        "id": "6ONk3HmzvRG-"
      }
    },
    {
      "cell_type": "code",
      "source": [
        "info_of_numerical(\"API\")"
      ],
      "metadata": {
        "colab": {
          "base_uri": "https://localhost:8080/"
        },
        "id": "MObdtRYOvaU7",
        "outputId": "2fac8f89-972b-4a33-d562-bcdee2ffd13d"
      },
      "execution_count": null,
      "outputs": [
        {
          "output_type": "stream",
          "name": "stdout",
          "text": [
            "The mean of the API is 70.19066666666667\n",
            "The median of the API is 70.0\n",
            "The mode of the API is 77\n",
            "The standard deviation of the API is 17.563460306410782\n",
            "Number of missing values in the API is 0\n"
          ]
        }
      ]
    },
    {
      "cell_type": "code",
      "source": [
        "fig, ax = plt.subplots(1, 2, figsize= (20, 7))               # Creating the space for the 2 images, first argument in subplots is rows and second is columns and the figure size\n",
        "sb.histplot(x = df[\"API\"], ax =ax[1], color = \"red\") # ax[1] means image will plot at the second space\n",
        "sb.boxplot(x = df[\"API\"], ax = ax[0], color = \"orange\") # ax[0] means image will plot at the second space\n",
        "plt.show()"
      ],
      "metadata": {
        "colab": {
          "base_uri": "https://localhost:8080/",
          "height": 442
        },
        "id": "TotIWHAIvd7D",
        "outputId": "89fa6da7-d792-438b-9aff-17e52ccdbf1b"
      },
      "execution_count": null,
      "outputs": [
        {
          "output_type": "display_data",
          "data": {
            "text/plain": [
              "<Figure size 1440x504 with 2 Axes>"
            ],
            "image/png": "[encoded data removed]"
          },
          "metadata": {
            "needs_background": "light"
          }
        }
      ]
    },
    {
      "cell_type": "markdown",
      "source": [
        "Interpretation:\n",
        "\n",
        "From the box plot and hist plot we can make out that on an average the API is 70"
      ],
      "metadata": {
        "id": "ljDi6Z1qwLzC"
      }
    },
    {
      "cell_type": "markdown",
      "source": [
        "Analysis of ANB   "
      ],
      "metadata": {
        "id": "Co0899xKwYKm"
      }
    },
    {
      "cell_type": "code",
      "source": [
        "info_of_numerical(\"ANB\")"
      ],
      "metadata": {
        "colab": {
          "base_uri": "https://localhost:8080/"
        },
        "id": "aIUygnVdwa7j",
        "outputId": "221f5859-c5b3-4e26-af83-b2e465cd47d4"
      },
      "execution_count": null,
      "outputs": [
        {
          "output_type": "stream",
          "name": "stdout",
          "text": [
            "The mean of the ANB is 3.479\n",
            "The median of the ANB is 4.0\n",
            "The mode of the ANB is 5\n",
            "The standard deviation of the ANB is 1.6942596727222399\n",
            "Number of missing values in the ANB is 0\n"
          ]
        }
      ]
    },
    {
      "cell_type": "code",
      "source": [
        "fig, ax = plt.subplots(1, 2, figsize= (20, 7))               # Creating the space for the 2 images, first argument in subplots is rows and second is columns and the figure size\n",
        "sb.histplot(x = df[\"ANB\"], ax =ax[1], color = \"red\") # ax[1] means image will plot at the second space\n",
        "sb.boxplot(x = df[\"ANB\"], ax = ax[0], color = \"green\") # ax[0] means image will plot at the second space\n",
        "plt.show()"
      ],
      "metadata": {
        "colab": {
          "base_uri": "https://localhost:8080/",
          "height": 442
        },
        "id": "MmnBlHgawe74",
        "outputId": "ebb397c9-201c-4848-ea44-2e35ba3d77ce"
      },
      "execution_count": null,
      "outputs": [
        {
          "output_type": "display_data",
          "data": {
            "text/plain": [
              "<Figure size 1440x504 with 2 Axes>"
            ],
            "image/png": "[encoded data removed]"
          },
          "metadata": {
            "needs_background": "light"
          }
        }
      ]
    },
    {
      "cell_type": "markdown",
      "source": [
        "Interpretation:\n",
        "\n",
        "From the box plot and hist plot we can make out that for the most of the houses the ANB is 5"
      ],
      "metadata": {
        "id": "g-sPj2MMwzYL"
      }
    },
    {
      "cell_type": "markdown",
      "source": [
        "Analysis on Expected price "
      ],
      "metadata": {
        "id": "pKJ-7OZ0w_40"
      }
    },
    {
      "cell_type": "code",
      "source": [
        "info_of_numerical(\"Expected price\")"
      ],
      "metadata": {
        "colab": {
          "base_uri": "https://localhost:8080/"
        },
        "id": "aJGKYp7-xHKT",
        "outputId": "072b39ea-11a7-40ef-bdb1-a085aa7f5e94"
      },
      "execution_count": null,
      "outputs": [
        {
          "output_type": "stream",
          "name": "stdout",
          "text": [
            "The mean of the Expected price is 3782.9383333333335\n",
            "The median of the Expected price is 3771.0\n",
            "The mode of the Expected price is 3335\n",
            "The standard deviation of the Expected price is 567.1899952345073\n",
            "Number of missing values in the Expected price is 0\n"
          ]
        }
      ]
    },
    {
      "cell_type": "code",
      "source": [
        "fig, ax = plt.subplots(1, 2, figsize= (20, 7))               # Creating the space for the 2 images, first argument in subplots is rows and second is columns and the figure size\n",
        "sb.histplot(x = df[\"Expected price\"], ax =ax[1], color = \"orange\") # ax[1] means image will plot at the second space\n",
        "sb.boxplot(x = df[\"Expected price\"], ax = ax[0], color = \"m\") # ax[0] means image will plot at the second space\n",
        "plt.show()"
      ],
      "metadata": {
        "colab": {
          "base_uri": "https://localhost:8080/",
          "height": 442
        },
        "id": "h_6sozXKxMiZ",
        "outputId": "f1a16c17-76fe-4a28-c2ce-0c91983d8e4c"
      },
      "execution_count": null,
      "outputs": [
        {
          "output_type": "display_data",
          "data": {
            "text/plain": [
              "<Figure size 1440x504 with 2 Axes>"
            ],
            "image/png": "[encoded data removed]"
          },
          "metadata": {
            "needs_background": "light"
          }
        }
      ]
    },
    {
      "cell_type": "markdown",
      "source": [
        "Interpretation:\n",
        "\n",
        "From the box plot and hist plot we can make out that for the most of the houses on an avearge cost 3782.93"
      ],
      "metadata": {
        "id": "MdybxTalxvOA"
      }
    },
    {
      "cell_type": "code",
      "source": [
        "df.dtypes"
      ],
      "metadata": {
        "colab": {
          "base_uri": "https://localhost:8080/"
        },
        "id": "oeRuWo4yyVrf",
        "outputId": "b666f49e-2a76-4547-b1a7-a6694b7e7132"
      },
      "execution_count": null,
      "outputs": [
        {
          "output_type": "execute_result",
          "data": {
            "text/plain": [
              "Id                 int64\n",
              "Area(total)        int64\n",
              "Trooms             int64\n",
              "Nbedrooms          int64\n",
              "Nbwashrooms        int64\n",
              "Twashrooms         int64\n",
              "roof              object\n",
              "Roof(Area)         int64\n",
              "Lawn(Area)         int64\n",
              "Nfloors            int64\n",
              "API                int64\n",
              "ANB                int64\n",
              "Expected price     int64\n",
              "Grade             object\n",
              "dtype: object"
            ]
          },
          "metadata": {},
          "execution_count": 45
        }
      ]
    },
    {
      "cell_type": "markdown",
      "source": [
        "Bivariate Analysis"
      ],
      "metadata": {
        "id": "DV_HyVtwyEdU"
      }
    },
    {
      "cell_type": "markdown",
      "source": [
        "Analysis of total rooms and Grade"
      ],
      "metadata": {
        "id": "bcceq_CsyNxd"
      }
    },
    {
      "cell_type": "code",
      "source": [
        "pd.crosstab(df.Grade,df.Trooms).plot.bar()\n",
        "plt.title(\"Grade vs Trooms\")"
      ],
      "metadata": {
        "colab": {
          "base_uri": "https://localhost:8080/",
          "height": 310
        },
        "id": "YnGiTnkf2hSh",
        "outputId": "c5d7ee3d-8be8-4d56-becb-f552046de3fa"
      },
      "execution_count": null,
      "outputs": [
        {
          "output_type": "execute_result",
          "data": {
            "text/plain": [
              "Text(0.5, 1.0, 'Grade vs Trooms')"
            ]
          },
          "metadata": {},
          "execution_count": 46
        },
        {
          "output_type": "display_data",
          "data": {
            "text/plain": [
              "<Figure size 432x288 with 1 Axes>"
            ],
            "image/png": "[encoded data removed]"
          },
          "metadata": {
            "needs_background": "light"
          }
        }
      ]
    },
    {
      "cell_type": "markdown",
      "source": [
        "Interpretation:\n",
        "\n",
        "As the total no.of rooms increases the grade of the house also increases"
      ],
      "metadata": {
        "id": "1DasLZmM3W7U"
      }
    },
    {
      "cell_type": "markdown",
      "source": [
        "Analysis of Nfloors and Grade"
      ],
      "metadata": {
        "id": "HyjZ4KT53u2J"
      }
    },
    {
      "cell_type": "code",
      "source": [
        "pd.crosstab(df.Grade,df.Nfloors).plot.bar()\n",
        "plt.title(\"Grade vs Nfloors\")"
      ],
      "metadata": {
        "colab": {
          "base_uri": "https://localhost:8080/",
          "height": 310
        },
        "id": "9gMeII0F34rJ",
        "outputId": "37867bbf-c07d-44b5-ac9b-3b286e9ec7ee"
      },
      "execution_count": null,
      "outputs": [
        {
          "output_type": "execute_result",
          "data": {
            "text/plain": [
              "Text(0.5, 1.0, 'Grade vs Nfloors')"
            ]
          },
          "metadata": {},
          "execution_count": 47
        },
        {
          "output_type": "display_data",
          "data": {
            "text/plain": [
              "<Figure size 432x288 with 1 Axes>"
            ],
            "image/png": "[encoded data removed]"
          },
          "metadata": {
            "needs_background": "light"
          }
        }
      ]
    },
    {
      "cell_type": "markdown",
      "source": [
        "Interpretation:\n",
        "\n",
        "As the total no.of floors increases the grade of the house also increases"
      ],
      "metadata": {
        "id": "QtRYFdHv4Z-N"
      }
    },
    {
      "cell_type": "markdown",
      "source": [
        "Analysis of total area and expected price"
      ],
      "metadata": {
        "id": "oaygWlbN4wGA"
      }
    },
    {
      "cell_type": "code",
      "source": [
        "pd.crosstab(df.Grade,df.Nbedrooms).plot.bar()\n",
        "plt.title(\"Grade vs Nbedrooms \")"
      ],
      "metadata": {
        "colab": {
          "base_uri": "https://localhost:8080/",
          "height": 310
        },
        "id": "E69A9mx06oZe",
        "outputId": "94d48b33-a33d-42b6-8743-7e3e6d84cfe0"
      },
      "execution_count": null,
      "outputs": [
        {
          "output_type": "execute_result",
          "data": {
            "text/plain": [
              "Text(0.5, 1.0, 'Grade vs Nbedrooms ')"
            ]
          },
          "metadata": {},
          "execution_count": 48
        },
        {
          "output_type": "display_data",
          "data": {
            "text/plain": [
              "<Figure size 432x288 with 1 Axes>"
            ],
            "image/png": "[encoded data removed]"
          },
          "metadata": {
            "needs_background": "light"
          }
        }
      ]
    },
    {
      "cell_type": "markdown",
      "source": [
        "Interpretation:\n",
        "\n",
        "As the total no.of Nbedrooms increases the grade of the house also increases"
      ],
      "metadata": {
        "id": "9gAJIjcy7tPJ"
      }
    },
    {
      "cell_type": "markdown",
      "source": [
        "Feature Engineering"
      ],
      "metadata": {
        "id": "XzutW0Bf79hm"
      }
    },
    {
      "cell_type": "code",
      "source": [
        "df.dtypes"
      ],
      "metadata": {
        "colab": {
          "base_uri": "https://localhost:8080/"
        },
        "id": "4CQ3Z7nV8EcO",
        "outputId": "3a2a6164-af41-44d7-98ff-1b15b014dcdd"
      },
      "execution_count": null,
      "outputs": [
        {
          "output_type": "execute_result",
          "data": {
            "text/plain": [
              "Id                 int64\n",
              "Area(total)        int64\n",
              "Trooms             int64\n",
              "Nbedrooms          int64\n",
              "Nbwashrooms        int64\n",
              "Twashrooms         int64\n",
              "roof              object\n",
              "Roof(Area)         int64\n",
              "Lawn(Area)         int64\n",
              "Nfloors            int64\n",
              "API                int64\n",
              "ANB                int64\n",
              "Expected price     int64\n",
              "Grade             object\n",
              "dtype: object"
            ]
          },
          "metadata": {},
          "execution_count": 49
        }
      ]
    },
    {
      "cell_type": "markdown",
      "source": [
        "Converting non-numeric(object) to categorical columns"
      ],
      "metadata": {
        "id": "vVbRRxpV8LE_"
      }
    },
    {
      "cell_type": "code",
      "source": [
        "df['roof']=df['roof'].astype('category')\n",
        "df['Grade']=df['Grade'].astype('category')"
      ],
      "metadata": {
        "id": "V1sq8PPf8Se_"
      },
      "execution_count": null,
      "outputs": []
    },
    {
      "cell_type": "code",
      "source": [
        "df.dtypes"
      ],
      "metadata": {
        "colab": {
          "base_uri": "https://localhost:8080/"
        },
        "id": "FN90erYy8hQF",
        "outputId": "41775197-9c74-43ca-b476-6453eee16feb"
      },
      "execution_count": null,
      "outputs": [
        {
          "output_type": "execute_result",
          "data": {
            "text/plain": [
              "Id                   int64\n",
              "Area(total)          int64\n",
              "Trooms               int64\n",
              "Nbedrooms            int64\n",
              "Nbwashrooms          int64\n",
              "Twashrooms           int64\n",
              "roof              category\n",
              "Roof(Area)           int64\n",
              "Lawn(Area)           int64\n",
              "Nfloors              int64\n",
              "API                  int64\n",
              "ANB                  int64\n",
              "Expected price       int64\n",
              "Grade             category\n",
              "dtype: object"
            ]
          },
          "metadata": {},
          "execution_count": 51
        }
      ]
    },
    {
      "cell_type": "markdown",
      "source": [
        "Converting categorical label to numeric using label encoder technique"
      ],
      "metadata": {
        "id": "NMZNg3fh8lgf"
      }
    },
    {
      "cell_type": "code",
      "source": [
        "label_encoder = preprocessing.LabelEncoder()\n",
        "df['roof']=label_encoder.fit_transform(df['roof'])\n",
        "\n",
        "df['Grade']=label_encoder.fit_transform(df['Grade'])"
      ],
      "metadata": {
        "id": "uKZGOSVg8kSR"
      },
      "execution_count": null,
      "outputs": []
    },
    {
      "cell_type": "code",
      "source": [
        "df.dtypes"
      ],
      "metadata": {
        "colab": {
          "base_uri": "https://localhost:8080/"
        },
        "id": "trkd4s7G9qxx",
        "outputId": "32be2613-d882-49f6-9293-3b827a8b713a"
      },
      "execution_count": null,
      "outputs": [
        {
          "output_type": "execute_result",
          "data": {
            "text/plain": [
              "Id                int64\n",
              "Area(total)       int64\n",
              "Trooms            int64\n",
              "Nbedrooms         int64\n",
              "Nbwashrooms       int64\n",
              "Twashrooms        int64\n",
              "roof              int64\n",
              "Roof(Area)        int64\n",
              "Lawn(Area)        int64\n",
              "Nfloors           int64\n",
              "API               int64\n",
              "ANB               int64\n",
              "Expected price    int64\n",
              "Grade             int64\n",
              "dtype: object"
            ]
          },
          "metadata": {},
          "execution_count": 53
        }
      ]
    },
    {
      "cell_type": "markdown",
      "source": [
        "Feature scaling"
      ],
      "metadata": {
        "id": "Au4QqN3b9oL3"
      }
    },
    {
      "cell_type": "code",
      "source": [
        "def feature_scale(scale):\n",
        "  numerics = ['int16', 'int32', 'int64', 'float16', 'float32', 'float64']\n",
        "  new_df = df.select_dtypes(include=numerics)\n",
        "  if scale == 'minmax':\n",
        "    scaler = MinMaxScaler()\n",
        "  else:\n",
        "    scaler = StandardScaler()\n",
        "  df_scaled = pd.DataFrame(scaler.fit_transform(new_df.to_numpy()),columns=new_df.columns)\n",
        "  return df_scaled\n"
      ],
      "metadata": {
        "id": "bBisi3KB9vG_"
      },
      "execution_count": null,
      "outputs": []
    },
    {
      "cell_type": "code",
      "source": [
        "scale = 'minmax'\n",
        "df1_scaled = feature_scale(scale)\n",
        "df1_scaled"
      ],
      "metadata": {
        "colab": {
          "base_uri": "https://localhost:8080/",
          "height": 424
        },
        "id": "YhckWCbB-vRV",
        "outputId": "2206f305-83af-4f85-f1cd-0e80b027bf40"
      },
      "execution_count": null,
      "outputs": [
        {
          "output_type": "execute_result",
          "data": {
            "text/plain": [
              "            Id  Area(total)  Trooms  Nbedrooms  Nbwashrooms  Twashrooms  roof  \\\n",
              "0     0.000000     0.700000    0.25   0.500000     0.428571       0.500   0.0   \n",
              "1     0.000333     0.971429    0.00   0.333333     0.285714       0.250   1.0   \n",
              "2     0.000667     0.485714    0.50   0.500000     0.428571       0.375   1.0   \n",
              "3     0.001000     0.571429    0.25   0.333333     0.285714       0.375   1.0   \n",
              "4     0.001334     0.428571    0.50   0.333333     0.428571       0.375   0.0   \n",
              "...        ...          ...     ...        ...          ...         ...   ...   \n",
              "2995  0.998666     0.728571    1.00   0.666667     0.571429       0.625   1.0   \n",
              "2996  0.999000     0.028571    1.00   1.000000     0.857143       0.750   1.0   \n",
              "2997  0.999333     0.542857    0.50   0.333333     0.285714       0.375   0.0   \n",
              "2998  0.999667     0.042857    1.00   0.833333     0.857143       0.750   0.0   \n",
              "2999  1.000000     0.757143    0.50   0.666667     0.714286       0.750   0.0   \n",
              "\n",
              "      Roof(Area)  Lawn(Area)   Nfloors       API  ANB  Expected price  Grade  \n",
              "0       0.000000        0.12  0.166667  0.650000  1.0        0.360251   0.75  \n",
              "1       0.591667        0.52  0.333333  0.533333  0.6        0.370944   0.75  \n",
              "2       0.841667        0.94  0.666667  0.400000  0.4        0.458702   0.50  \n",
              "3       0.841667        0.24  0.166667  0.316667  0.2        0.232301   0.75  \n",
              "4       0.000000        0.10  0.333333  0.000000  0.0        0.493732   0.75  \n",
              "...          ...         ...       ...       ...  ...             ...    ...  \n",
              "2995    0.791667        0.90  0.666667  0.833333  0.2        0.642330   0.25  \n",
              "2996    0.966667        0.34  1.000000  0.950000  0.6        0.460546   0.00  \n",
              "2997    0.000000        0.16  0.666667  0.916667  1.0        0.406711   0.75  \n",
              "2998    0.000000        0.16  1.000000  0.183333  0.4        0.624631   0.25  \n",
              "2999    0.000000        0.76  0.666667  0.916667  0.4        0.590339   0.50  \n",
              "\n",
              "[3000 rows x 14 columns]"
            ],
            "text/html": [
              "\n",
              "  <div id=\"df-812391c7-f53f-4d1a-a5e6-fa3bcaa60faf\">\n",
              "    <div class=\"colab-df-container\">\n",
              "      <div>\n",
              "<style scoped>\n",
              "    .dataframe tbody tr th:only-of-type {\n",
              "        vertical-align: middle;\n",
              "    }\n",
              "\n",
              "    .dataframe tbody tr th {\n",
              "        vertical-align: top;\n",
              "    }\n",
              "\n",
              "    .dataframe thead th {\n",
              "        text-align: right;\n",
              "    }\n",
              "</style>\n",
              "<table border=\"1\" class=\"dataframe\">\n",
              "  <thead>\n",
              "    <tr style=\"text-align: right;\">\n",
              "      <th></th>\n",
              "      <th>Id</th>\n",
              "      <th>Area(total)</th>\n",
              "      <th>Trooms</th>\n",
              "      <th>Nbedrooms</th>\n",
              "      <th>Nbwashrooms</th>\n",
              "      <th>Twashrooms</th>\n",
              "      <th>roof</th>\n",
              "      <th>Roof(Area)</th>\n",
              "      <th>Lawn(Area)</th>\n",
              "      <th>Nfloors</th>\n",
              "      <th>API</th>\n",
              "      <th>ANB</th>\n",
              "      <th>Expected price</th>\n",
              "      <th>Grade</th>\n",
              "    </tr>\n",
              "  </thead>\n",
              "  <tbody>\n",
              "    <tr>\n",
              "      <th>0</th>\n",
              "      <td>0.000000</td>\n",
              "      <td>0.700000</td>\n",
              "      <td>0.25</td>\n",
              "      <td>0.500000</td>\n",
              "      <td>0.428571</td>\n",
              "      <td>0.500</td>\n",
              "      <td>0.0</td>\n",
              "      <td>0.000000</td>\n",
              "      <td>0.12</td>\n",
              "      <td>0.166667</td>\n",
              "      <td>0.650000</td>\n",
              "      <td>1.0</td>\n",
              "      <td>0.360251</td>\n",
              "      <td>0.75</td>\n",
              "    </tr>\n",
              "    <tr>\n",
              "      <th>1</th>\n",
              "      <td>0.000333</td>\n",
              "      <td>0.971429</td>\n",
              "      <td>0.00</td>\n",
              "      <td>0.333333</td>\n",
              "      <td>0.285714</td>\n",
              "      <td>0.250</td>\n",
              "      <td>1.0</td>\n",
              "      <td>0.591667</td>\n",
              "      <td>0.52</td>\n",
              "      <td>0.333333</td>\n",
              "      <td>0.533333</td>\n",
              "      <td>0.6</td>\n",
              "      <td>0.370944</td>\n",
              "      <td>0.75</td>\n",
              "    </tr>\n",
              "    <tr>\n",
              "      <th>2</th>\n",
              "      <td>0.000667</td>\n",
              "      <td>0.485714</td>\n",
              "      <td>0.50</td>\n",
              "      <td>0.500000</td>\n",
              "      <td>0.428571</td>\n",
              "      <td>0.375</td>\n",
              "      <td>1.0</td>\n",
              "      <td>0.841667</td>\n",
              "      <td>0.94</td>\n",
              "      <td>0.666667</td>\n",
              "      <td>0.400000</td>\n",
              "      <td>0.4</td>\n",
              "      <td>0.458702</td>\n",
              "      <td>0.50</td>\n",
              "    </tr>\n",
              "    <tr>\n",
              "      <th>3</th>\n",
              "      <td>0.001000</td>\n",
              "      <td>0.571429</td>\n",
              "      <td>0.25</td>\n",
              "      <td>0.333333</td>\n",
              "      <td>0.285714</td>\n",
              "      <td>0.375</td>\n",
              "      <td>1.0</td>\n",
              "      <td>0.841667</td>\n",
              "      <td>0.24</td>\n",
              "      <td>0.166667</td>\n",
              "      <td>0.316667</td>\n",
              "      <td>0.2</td>\n",
              "      <td>0.232301</td>\n",
              "      <td>0.75</td>\n",
              "    </tr>\n",
              "    <tr>\n",
              "      <th>4</th>\n",
              "      <td>0.001334</td>\n",
              "      <td>0.428571</td>\n",
              "      <td>0.50</td>\n",
              "      <td>0.333333</td>\n",
              "      <td>0.428571</td>\n",
              "      <td>0.375</td>\n",
              "      <td>0.0</td>\n",
              "      <td>0.000000</td>\n",
              "      <td>0.10</td>\n",
              "      <td>0.333333</td>\n",
              "      <td>0.000000</td>\n",
              "      <td>0.0</td>\n",
              "      <td>0.493732</td>\n",
              "      <td>0.75</td>\n",
              "    </tr>\n",
              "    <tr>\n",
              "      <th>...</th>\n",
              "      <td>...</td>\n",
              "      <td>...</td>\n",
              "      <td>...</td>\n",
              "      <td>...</td>\n",
              "      <td>...</td>\n",
              "      <td>...</td>\n",
              "      <td>...</td>\n",
              "      <td>...</td>\n",
              "      <td>...</td>\n",
              "      <td>...</td>\n",
              "      <td>...</td>\n",
              "      <td>...</td>\n",
              "      <td>...</td>\n",
              "      <td>...</td>\n",
              "    </tr>\n",
              "    <tr>\n",
              "      <th>2995</th>\n",
              "      <td>0.998666</td>\n",
              "      <td>0.728571</td>\n",
              "      <td>1.00</td>\n",
              "      <td>0.666667</td>\n",
              "      <td>0.571429</td>\n",
              "      <td>0.625</td>\n",
              "      <td>1.0</td>\n",
              "      <td>0.791667</td>\n",
              "      <td>0.90</td>\n",
              "      <td>0.666667</td>\n",
              "      <td>0.833333</td>\n",
              "      <td>0.2</td>\n",
              "      <td>0.642330</td>\n",
              "      <td>0.25</td>\n",
              "    </tr>\n",
              "    <tr>\n",
              "      <th>2996</th>\n",
              "      <td>0.999000</td>\n",
              "      <td>0.028571</td>\n",
              "      <td>1.00</td>\n",
              "      <td>1.000000</td>\n",
              "      <td>0.857143</td>\n",
              "      <td>0.750</td>\n",
              "      <td>1.0</td>\n",
              "      <td>0.966667</td>\n",
              "      <td>0.34</td>\n",
              "      <td>1.000000</td>\n",
              "      <td>0.950000</td>\n",
              "      <td>0.6</td>\n",
              "      <td>0.460546</td>\n",
              "      <td>0.00</td>\n",
              "    </tr>\n",
              "    <tr>\n",
              "      <th>2997</th>\n",
              "      <td>0.999333</td>\n",
              "      <td>0.542857</td>\n",
              "      <td>0.50</td>\n",
              "      <td>0.333333</td>\n",
              "      <td>0.285714</td>\n",
              "      <td>0.375</td>\n",
              "      <td>0.0</td>\n",
              "      <td>0.000000</td>\n",
              "      <td>0.16</td>\n",
              "      <td>0.666667</td>\n",
              "      <td>0.916667</td>\n",
              "      <td>1.0</td>\n",
              "      <td>0.406711</td>\n",
              "      <td>0.75</td>\n",
              "    </tr>\n",
              "    <tr>\n",
              "      <th>2998</th>\n",
              "      <td>0.999667</td>\n",
              "      <td>0.042857</td>\n",
              "      <td>1.00</td>\n",
              "      <td>0.833333</td>\n",
              "      <td>0.857143</td>\n",
              "      <td>0.750</td>\n",
              "      <td>0.0</td>\n",
              "      <td>0.000000</td>\n",
              "      <td>0.16</td>\n",
              "      <td>1.000000</td>\n",
              "      <td>0.183333</td>\n",
              "      <td>0.4</td>\n",
              "      <td>0.624631</td>\n",
              "      <td>0.25</td>\n",
              "    </tr>\n",
              "    <tr>\n",
              "      <th>2999</th>\n",
              "      <td>1.000000</td>\n",
              "      <td>0.757143</td>\n",
              "      <td>0.50</td>\n",
              "      <td>0.666667</td>\n",
              "      <td>0.714286</td>\n",
              "      <td>0.750</td>\n",
              "      <td>0.0</td>\n",
              "      <td>0.000000</td>\n",
              "      <td>0.76</td>\n",
              "      <td>0.666667</td>\n",
              "      <td>0.916667</td>\n",
              "      <td>0.4</td>\n",
              "      <td>0.590339</td>\n",
              "      <td>0.50</td>\n",
              "    </tr>\n",
              "  </tbody>\n",
              "</table>\n",
              "<p>3000 rows × 14 columns</p>\n",
              "</div>\n",
              "      <button class=\"colab-df-convert\" onclick=\"convertToInteractive('df-812391c7-f53f-4d1a-a5e6-fa3bcaa60faf')\"\n",
              "              title=\"Convert this dataframe to an interactive table.\"\n",
              "              style=\"display:none;\">\n",
              "        \n",
              "  <svg xmlns=\"http://www.w3.org/2000/svg\" height=\"24px\"viewBox=\"0 0 24 24\"\n",
              "       width=\"24px\">\n",
              "    <path d=\"M0 0h24v24H0V0z\" fill=\"none\"/>\n",
              "    <path d=\"M18.56 5.44l.94 2.06.94-2.06 2.06-.94-2.06-.94-.94-2.06-.94 2.06-2.06.94zm-11 1L8.5 8.5l.94-2.06 2.06-.94-2.06-.94L8.5 2.5l-.94 2.06-2.06.94zm10 10l.94 2.06.94-2.06 2.06-.94-2.06-.94-.94-2.06-.94 2.06-2.06.94z\"/><path d=\"M17.41 7.96l-1.37-1.37c-.4-.4-.92-.59-1.43-.59-.52 0-1.04.2-1.43.59L10.3 9.45l-7.72 7.72c-.78.78-.78 2.05 0 2.83L4 21.41c.39.39.9.59 1.41.59.51 0 1.02-.2 1.41-.59l7.78-7.78 2.81-2.81c.8-.78.8-2.07 0-2.86zM5.41 20L4 18.59l7.72-7.72 1.47 1.35L5.41 20z\"/>\n",
              "  </svg>\n",
              "      </button>\n",
              "      \n",
              "  <style>\n",
              "    .colab-df-container {\n",
              "      display:flex;\n",
              "      flex-wrap:wrap;\n",
              "      gap: 12px;\n",
              "    }\n",
              "\n",
              "    .colab-df-convert {\n",
              "      background-color: #E8F0FE;\n",
              "      border: none;\n",
              "      border-radius: 50%;\n",
              "      cursor: pointer;\n",
              "      display: none;\n",
              "      fill: #1967D2;\n",
              "      height: 32px;\n",
              "      padding: 0 0 0 0;\n",
              "      width: 32px;\n",
              "    }\n",
              "\n",
              "    .colab-df-convert:hover {\n",
              "      background-color: #E2EBFA;\n",
              "      box-shadow: 0px 1px 2px rgba(60, 64, 67, 0.3), 0px 1px 3px 1px rgba(60, 64, 67, 0.15);\n",
              "      fill: #174EA6;\n",
              "    }\n",
              "\n",
              "    [theme=dark] .colab-df-convert {\n",
              "      background-color: #3B4455;\n",
              "      fill: #D2E3FC;\n",
              "    }\n",
              "\n",
              "    [theme=dark] .colab-df-convert:hover {\n",
              "      background-color: #434B5C;\n",
              "      box-shadow: 0px 1px 3px 1px rgba(0, 0, 0, 0.15);\n",
              "      filter: drop-shadow(0px 1px 2px rgba(0, 0, 0, 0.3));\n",
              "      fill: #FFFFFF;\n",
              "    }\n",
              "  </style>\n",
              "\n",
              "      <script>\n",
              "        const buttonEl =\n",
              "          document.querySelector('#df-812391c7-f53f-4d1a-a5e6-fa3bcaa60faf button.colab-df-convert');\n",
              "        buttonEl.style.display =\n",
              "          google.colab.kernel.accessAllowed ? 'block' : 'none';\n",
              "\n",
              "        async function convertToInteractive(key) {\n",
              "          const element = document.querySelector('#df-812391c7-f53f-4d1a-a5e6-fa3bcaa60faf');\n",
              "          const dataTable =\n",
              "            await google.colab.kernel.invokeFunction('convertToInteractive',\n",
              "                                                     [key], {});\n",
              "          if (!dataTable) return;\n",
              "\n",
              "          const docLinkHtml = 'Like what you see? Visit the ' +\n",
              "            '<a target=\"_blank\" href=https://colab.research.google.com/notebooks/data_table.ipynb>data table notebook</a>'\n",
              "            + ' to learn more about interactive tables.';\n",
              "          element.innerHTML = '';\n",
              "          dataTable['output_type'] = 'display_data';\n",
              "          await google.colab.output.renderOutput(dataTable, element);\n",
              "          const docLink = document.createElement('div');\n",
              "          docLink.innerHTML = docLinkHtml;\n",
              "          element.appendChild(docLink);\n",
              "        }\n",
              "      </script>\n",
              "    </div>\n",
              "  </div>\n",
              "  "
            ]
          },
          "metadata": {},
          "execution_count": 55
        }
      ]
    },
    {
      "cell_type": "code",
      "source": [
        "corr_df=df1_scaled.corr()\n",
        "corr_df"
      ],
      "metadata": {
        "colab": {
          "base_uri": "https://localhost:8080/",
          "height": 587
        },
        "id": "nz90xhpq_nEb",
        "outputId": "9d9509fb-4b8a-4790-83e9-875f5ad93e3b"
      },
      "execution_count": null,
      "outputs": [
        {
          "output_type": "execute_result",
          "data": {
            "text/plain": [
              "                      Id  Area(total)    Trooms  Nbedrooms  Nbwashrooms  \\\n",
              "Id              1.000000     0.003186  0.003165   0.004814     0.003496   \n",
              "Area(total)     0.003186     1.000000  0.019041   0.031328     0.031819   \n",
              "Trooms          0.003165     0.019041  1.000000   0.865878     0.827072   \n",
              "Nbedrooms       0.004814     0.031328  0.865878   1.000000     0.956578   \n",
              "Nbwashrooms     0.003496     0.031819  0.827072   0.956578     1.000000   \n",
              "Twashrooms      0.001092     0.038509  0.794870   0.919158     0.960007   \n",
              "roof            0.011059     0.014229  0.025142   0.023058     0.028549   \n",
              "Roof(Area)      0.013046     0.017029  0.026550   0.025073     0.028832   \n",
              "Lawn(Area)      0.006309    -0.002118  0.009557   0.000054     0.006617   \n",
              "Nfloors        -0.010939     0.016819  0.862367   0.742132     0.711936   \n",
              "API            -0.003739    -0.000182  0.007502   0.002820     0.011413   \n",
              "ANB            -0.013219    -0.010846  0.007321   0.015403     0.008475   \n",
              "Expected price  0.009216     0.274507  0.820170   0.715687     0.683659   \n",
              "Grade          -0.006074    -0.177332 -0.875145  -0.865389    -0.847319   \n",
              "\n",
              "                Twashrooms      roof  Roof(Area)  Lawn(Area)   Nfloors  \\\n",
              "Id                0.001092  0.011059    0.013046    0.006309 -0.010939   \n",
              "Area(total)       0.038509  0.014229    0.017029   -0.002118  0.016819   \n",
              "Trooms            0.794870  0.025142    0.026550    0.009557  0.862367   \n",
              "Nbedrooms         0.919158  0.023058    0.025073    0.000054  0.742132   \n",
              "Nbwashrooms       0.960007  0.028549    0.028832    0.006617  0.711936   \n",
              "Twashrooms        1.000000  0.028212    0.028763    0.008386  0.684966   \n",
              "roof              0.028212  1.000000    0.976561   -0.004640  0.014985   \n",
              "Roof(Area)        0.028763  0.976561    1.000000   -0.006831  0.013840   \n",
              "Lawn(Area)        0.008386 -0.004640   -0.006831    1.000000  0.013771   \n",
              "Nfloors           0.684966  0.014985    0.013840    0.013771  1.000000   \n",
              "API               0.012361 -0.007983   -0.006331    0.011477 -0.002255   \n",
              "ANB               0.016492 -0.020511   -0.015529    0.025751  0.020614   \n",
              "Expected price    0.654627  0.007880    0.009346    0.011561  0.714598   \n",
              "Grade            -0.819280 -0.166635   -0.170259   -0.051200 -0.787623   \n",
              "\n",
              "                     API       ANB  Expected price     Grade  \n",
              "Id             -0.003739 -0.013219        0.009216 -0.006074  \n",
              "Area(total)    -0.000182 -0.010846        0.274507 -0.177332  \n",
              "Trooms          0.007502  0.007321        0.820170 -0.875145  \n",
              "Nbedrooms       0.002820  0.015403        0.715687 -0.865389  \n",
              "Nbwashrooms     0.011413  0.008475        0.683659 -0.847319  \n",
              "Twashrooms      0.012361  0.016492        0.654627 -0.819280  \n",
              "roof           -0.007983 -0.020511        0.007880 -0.166635  \n",
              "Roof(Area)     -0.006331 -0.015529        0.009346 -0.170259  \n",
              "Lawn(Area)      0.011477  0.025751        0.011561 -0.051200  \n",
              "Nfloors        -0.002255  0.020614        0.714598 -0.787623  \n",
              "API             1.000000 -0.025694        0.016575 -0.099000  \n",
              "ANB            -0.025694  1.000000        0.015583 -0.024025  \n",
              "Expected price  0.016575  0.015583        1.000000 -0.760820  \n",
              "Grade          -0.099000 -0.024025       -0.760820  1.000000  "
            ],
            "text/html": [
              "\n",
              "  <div id=\"df-2e71b0e1-df3d-4dbd-8177-1f40bfbafa3e\">\n",
              "    <div class=\"colab-df-container\">\n",
              "      <div>\n",
              "<style scoped>\n",
              "    .dataframe tbody tr th:only-of-type {\n",
              "        vertical-align: middle;\n",
              "    }\n",
              "\n",
              "    .dataframe tbody tr th {\n",
              "        vertical-align: top;\n",
              "    }\n",
              "\n",
              "    .dataframe thead th {\n",
              "        text-align: right;\n",
              "    }\n",
              "</style>\n",
              "<table border=\"1\" class=\"dataframe\">\n",
              "  <thead>\n",
              "    <tr style=\"text-align: right;\">\n",
              "      <th></th>\n",
              "      <th>Id</th>\n",
              "      <th>Area(total)</th>\n",
              "      <th>Trooms</th>\n",
              "      <th>Nbedrooms</th>\n",
              "      <th>Nbwashrooms</th>\n",
              "      <th>Twashrooms</th>\n",
              "      <th>roof</th>\n",
              "      <th>Roof(Area)</th>\n",
              "      <th>Lawn(Area)</th>\n",
              "      <th>Nfloors</th>\n",
              "      <th>API</th>\n",
              "      <th>ANB</th>\n",
              "      <th>Expected price</th>\n",
              "      <th>Grade</th>\n",
              "    </tr>\n",
              "  </thead>\n",
              "  <tbody>\n",
              "    <tr>\n",
              "      <th>Id</th>\n",
              "      <td>1.000000</td>\n",
              "      <td>0.003186</td>\n",
              "      <td>0.003165</td>\n",
              "      <td>0.004814</td>\n",
              "      <td>0.003496</td>\n",
              "      <td>0.001092</td>\n",
              "      <td>0.011059</td>\n",
              "      <td>0.013046</td>\n",
              "      <td>0.006309</td>\n",
              "      <td>-0.010939</td>\n",
              "      <td>-0.003739</td>\n",
              "      <td>-0.013219</td>\n",
              "      <td>0.009216</td>\n",
              "      <td>-0.006074</td>\n",
              "    </tr>\n",
              "    <tr>\n",
              "      <th>Area(total)</th>\n",
              "      <td>0.003186</td>\n",
              "      <td>1.000000</td>\n",
              "      <td>0.019041</td>\n",
              "      <td>0.031328</td>\n",
              "      <td>0.031819</td>\n",
              "      <td>0.038509</td>\n",
              "      <td>0.014229</td>\n",
              "      <td>0.017029</td>\n",
              "      <td>-0.002118</td>\n",
              "      <td>0.016819</td>\n",
              "      <td>-0.000182</td>\n",
              "      <td>-0.010846</td>\n",
              "      <td>0.274507</td>\n",
              "      <td>-0.177332</td>\n",
              "    </tr>\n",
              "    <tr>\n",
              "      <th>Trooms</th>\n",
              "      <td>0.003165</td>\n",
              "      <td>0.019041</td>\n",
              "      <td>1.000000</td>\n",
              "      <td>0.865878</td>\n",
              "      <td>0.827072</td>\n",
              "      <td>0.794870</td>\n",
              "      <td>0.025142</td>\n",
              "      <td>0.026550</td>\n",
              "      <td>0.009557</td>\n",
              "      <td>0.862367</td>\n",
              "      <td>0.007502</td>\n",
              "      <td>0.007321</td>\n",
              "      <td>0.820170</td>\n",
              "      <td>-0.875145</td>\n",
              "    </tr>\n",
              "    <tr>\n",
              "      <th>Nbedrooms</th>\n",
              "      <td>0.004814</td>\n",
              "      <td>0.031328</td>\n",
              "      <td>0.865878</td>\n",
              "      <td>1.000000</td>\n",
              "      <td>0.956578</td>\n",
              "      <td>0.919158</td>\n",
              "      <td>0.023058</td>\n",
              "      <td>0.025073</td>\n",
              "      <td>0.000054</td>\n",
              "      <td>0.742132</td>\n",
              "      <td>0.002820</td>\n",
              "      <td>0.015403</td>\n",
              "      <td>0.715687</td>\n",
              "      <td>-0.865389</td>\n",
              "    </tr>\n",
              "    <tr>\n",
              "      <th>Nbwashrooms</th>\n",
              "      <td>0.003496</td>\n",
              "      <td>0.031819</td>\n",
              "      <td>0.827072</td>\n",
              "      <td>0.956578</td>\n",
              "      <td>1.000000</td>\n",
              "      <td>0.960007</td>\n",
              "      <td>0.028549</td>\n",
              "      <td>0.028832</td>\n",
              "      <td>0.006617</td>\n",
              "      <td>0.711936</td>\n",
              "      <td>0.011413</td>\n",
              "      <td>0.008475</td>\n",
              "      <td>0.683659</td>\n",
              "      <td>-0.847319</td>\n",
              "    </tr>\n",
              "    <tr>\n",
              "      <th>Twashrooms</th>\n",
              "      <td>0.001092</td>\n",
              "      <td>0.038509</td>\n",
              "      <td>0.794870</td>\n",
              "      <td>0.919158</td>\n",
              "      <td>0.960007</td>\n",
              "      <td>1.000000</td>\n",
              "      <td>0.028212</td>\n",
              "      <td>0.028763</td>\n",
              "      <td>0.008386</td>\n",
              "      <td>0.684966</td>\n",
              "      <td>0.012361</td>\n",
              "      <td>0.016492</td>\n",
              "      <td>0.654627</td>\n",
              "      <td>-0.819280</td>\n",
              "    </tr>\n",
              "    <tr>\n",
              "      <th>roof</th>\n",
              "      <td>0.011059</td>\n",
              "      <td>0.014229</td>\n",
              "      <td>0.025142</td>\n",
              "      <td>0.023058</td>\n",
              "      <td>0.028549</td>\n",
              "      <td>0.028212</td>\n",
              "      <td>1.000000</td>\n",
              "      <td>0.976561</td>\n",
              "      <td>-0.004640</td>\n",
              "      <td>0.014985</td>\n",
              "      <td>-0.007983</td>\n",
              "      <td>-0.020511</td>\n",
              "      <td>0.007880</td>\n",
              "      <td>-0.166635</td>\n",
              "    </tr>\n",
              "    <tr>\n",
              "      <th>Roof(Area)</th>\n",
              "      <td>0.013046</td>\n",
              "      <td>0.017029</td>\n",
              "      <td>0.026550</td>\n",
              "      <td>0.025073</td>\n",
              "      <td>0.028832</td>\n",
              "      <td>0.028763</td>\n",
              "      <td>0.976561</td>\n",
              "      <td>1.000000</td>\n",
              "      <td>-0.006831</td>\n",
              "      <td>0.013840</td>\n",
              "      <td>-0.006331</td>\n",
              "      <td>-0.015529</td>\n",
              "      <td>0.009346</td>\n",
              "      <td>-0.170259</td>\n",
              "    </tr>\n",
              "    <tr>\n",
              "      <th>Lawn(Area)</th>\n",
              "      <td>0.006309</td>\n",
              "      <td>-0.002118</td>\n",
              "      <td>0.009557</td>\n",
              "      <td>0.000054</td>\n",
              "      <td>0.006617</td>\n",
              "      <td>0.008386</td>\n",
              "      <td>-0.004640</td>\n",
              "      <td>-0.006831</td>\n",
              "      <td>1.000000</td>\n",
              "      <td>0.013771</td>\n",
              "      <td>0.011477</td>\n",
              "      <td>0.025751</td>\n",
              "      <td>0.011561</td>\n",
              "      <td>-0.051200</td>\n",
              "    </tr>\n",
              "    <tr>\n",
              "      <th>Nfloors</th>\n",
              "      <td>-0.010939</td>\n",
              "      <td>0.016819</td>\n",
              "      <td>0.862367</td>\n",
              "      <td>0.742132</td>\n",
              "      <td>0.711936</td>\n",
              "      <td>0.684966</td>\n",
              "      <td>0.014985</td>\n",
              "      <td>0.013840</td>\n",
              "      <td>0.013771</td>\n",
              "      <td>1.000000</td>\n",
              "      <td>-0.002255</td>\n",
              "      <td>0.020614</td>\n",
              "      <td>0.714598</td>\n",
              "      <td>-0.787623</td>\n",
              "    </tr>\n",
              "    <tr>\n",
              "      <th>API</th>\n",
              "      <td>-0.003739</td>\n",
              "      <td>-0.000182</td>\n",
              "      <td>0.007502</td>\n",
              "      <td>0.002820</td>\n",
              "      <td>0.011413</td>\n",
              "      <td>0.012361</td>\n",
              "      <td>-0.007983</td>\n",
              "      <td>-0.006331</td>\n",
              "      <td>0.011477</td>\n",
              "      <td>-0.002255</td>\n",
              "      <td>1.000000</td>\n",
              "      <td>-0.025694</td>\n",
              "      <td>0.016575</td>\n",
              "      <td>-0.099000</td>\n",
              "    </tr>\n",
              "    <tr>\n",
              "      <th>ANB</th>\n",
              "      <td>-0.013219</td>\n",
              "      <td>-0.010846</td>\n",
              "      <td>0.007321</td>\n",
              "      <td>0.015403</td>\n",
              "      <td>0.008475</td>\n",
              "      <td>0.016492</td>\n",
              "      <td>-0.020511</td>\n",
              "      <td>-0.015529</td>\n",
              "      <td>0.025751</td>\n",
              "      <td>0.020614</td>\n",
              "      <td>-0.025694</td>\n",
              "      <td>1.000000</td>\n",
              "      <td>0.015583</td>\n",
              "      <td>-0.024025</td>\n",
              "    </tr>\n",
              "    <tr>\n",
              "      <th>Expected price</th>\n",
              "      <td>0.009216</td>\n",
              "      <td>0.274507</td>\n",
              "      <td>0.820170</td>\n",
              "      <td>0.715687</td>\n",
              "      <td>0.683659</td>\n",
              "      <td>0.654627</td>\n",
              "      <td>0.007880</td>\n",
              "      <td>0.009346</td>\n",
              "      <td>0.011561</td>\n",
              "      <td>0.714598</td>\n",
              "      <td>0.016575</td>\n",
              "      <td>0.015583</td>\n",
              "      <td>1.000000</td>\n",
              "      <td>-0.760820</td>\n",
              "    </tr>\n",
              "    <tr>\n",
              "      <th>Grade</th>\n",
              "      <td>-0.006074</td>\n",
              "      <td>-0.177332</td>\n",
              "      <td>-0.875145</td>\n",
              "      <td>-0.865389</td>\n",
              "      <td>-0.847319</td>\n",
              "      <td>-0.819280</td>\n",
              "      <td>-0.166635</td>\n",
              "      <td>-0.170259</td>\n",
              "      <td>-0.051200</td>\n",
              "      <td>-0.787623</td>\n",
              "      <td>-0.099000</td>\n",
              "      <td>-0.024025</td>\n",
              "      <td>-0.760820</td>\n",
              "      <td>1.000000</td>\n",
              "    </tr>\n",
              "  </tbody>\n",
              "</table>\n",
              "</div>\n",
              "      <button class=\"colab-df-convert\" onclick=\"convertToInteractive('df-2e71b0e1-df3d-4dbd-8177-1f40bfbafa3e')\"\n",
              "              title=\"Convert this dataframe to an interactive table.\"\n",
              "              style=\"display:none;\">\n",
              "        \n",
              "  <svg xmlns=\"http://www.w3.org/2000/svg\" height=\"24px\"viewBox=\"0 0 24 24\"\n",
              "       width=\"24px\">\n",
              "    <path d=\"M0 0h24v24H0V0z\" fill=\"none\"/>\n",
              "    <path d=\"M18.56 5.44l.94 2.06.94-2.06 2.06-.94-2.06-.94-.94-2.06-.94 2.06-2.06.94zm-11 1L8.5 8.5l.94-2.06 2.06-.94-2.06-.94L8.5 2.5l-.94 2.06-2.06.94zm10 10l.94 2.06.94-2.06 2.06-.94-2.06-.94-.94-2.06-.94 2.06-2.06.94z\"/><path d=\"M17.41 7.96l-1.37-1.37c-.4-.4-.92-.59-1.43-.59-.52 0-1.04.2-1.43.59L10.3 9.45l-7.72 7.72c-.78.78-.78 2.05 0 2.83L4 21.41c.39.39.9.59 1.41.59.51 0 1.02-.2 1.41-.59l7.78-7.78 2.81-2.81c.8-.78.8-2.07 0-2.86zM5.41 20L4 18.59l7.72-7.72 1.47 1.35L5.41 20z\"/>\n",
              "  </svg>\n",
              "      </button>\n",
              "      \n",
              "  <style>\n",
              "    .colab-df-container {\n",
              "      display:flex;\n",
              "      flex-wrap:wrap;\n",
              "      gap: 12px;\n",
              "    }\n",
              "\n",
              "    .colab-df-convert {\n",
              "      background-color: #E8F0FE;\n",
              "      border: none;\n",
              "      border-radius: 50%;\n",
              "      cursor: pointer;\n",
              "      display: none;\n",
              "      fill: #1967D2;\n",
              "      height: 32px;\n",
              "      padding: 0 0 0 0;\n",
              "      width: 32px;\n",
              "    }\n",
              "\n",
              "    .colab-df-convert:hover {\n",
              "      background-color: #E2EBFA;\n",
              "      box-shadow: 0px 1px 2px rgba(60, 64, 67, 0.3), 0px 1px 3px 1px rgba(60, 64, 67, 0.15);\n",
              "      fill: #174EA6;\n",
              "    }\n",
              "\n",
              "    [theme=dark] .colab-df-convert {\n",
              "      background-color: #3B4455;\n",
              "      fill: #D2E3FC;\n",
              "    }\n",
              "\n",
              "    [theme=dark] .colab-df-convert:hover {\n",
              "      background-color: #434B5C;\n",
              "      box-shadow: 0px 1px 3px 1px rgba(0, 0, 0, 0.15);\n",
              "      filter: drop-shadow(0px 1px 2px rgba(0, 0, 0, 0.3));\n",
              "      fill: #FFFFFF;\n",
              "    }\n",
              "  </style>\n",
              "\n",
              "      <script>\n",
              "        const buttonEl =\n",
              "          document.querySelector('#df-2e71b0e1-df3d-4dbd-8177-1f40bfbafa3e button.colab-df-convert');\n",
              "        buttonEl.style.display =\n",
              "          google.colab.kernel.accessAllowed ? 'block' : 'none';\n",
              "\n",
              "        async function convertToInteractive(key) {\n",
              "          const element = document.querySelector('#df-2e71b0e1-df3d-4dbd-8177-1f40bfbafa3e');\n",
              "          const dataTable =\n",
              "            await google.colab.kernel.invokeFunction('convertToInteractive',\n",
              "                                                     [key], {});\n",
              "          if (!dataTable) return;\n",
              "\n",
              "          const docLinkHtml = 'Like what you see? Visit the ' +\n",
              "            '<a target=\"_blank\" href=https://colab.research.google.com/notebooks/data_table.ipynb>data table notebook</a>'\n",
              "            + ' to learn more about interactive tables.';\n",
              "          element.innerHTML = '';\n",
              "          dataTable['output_type'] = 'display_data';\n",
              "          await google.colab.output.renderOutput(dataTable, element);\n",
              "          const docLink = document.createElement('div');\n",
              "          docLink.innerHTML = docLinkHtml;\n",
              "          element.appendChild(docLink);\n",
              "        }\n",
              "      </script>\n",
              "    </div>\n",
              "  </div>\n",
              "  "
            ]
          },
          "metadata": {},
          "execution_count": 56
        }
      ]
    },
    {
      "cell_type": "code",
      "source": [
        "sb.heatmap(corr_df)"
      ],
      "metadata": {
        "colab": {
          "base_uri": "https://localhost:8080/",
          "height": 351
        },
        "id": "q1cDQPF3_w3-",
        "outputId": "8a39b63a-245f-41de-bcbb-1edd1697222b"
      },
      "execution_count": null,
      "outputs": [
        {
          "output_type": "execute_result",
          "data": {
            "text/plain": [
              "<matplotlib.axes._subplots.AxesSubplot at 0x7fb3f2b71550>"
            ]
          },
          "metadata": {},
          "execution_count": 57
        },
        {
          "output_type": "display_data",
          "data": {
            "text/plain": [
              "<Figure size 432x288 with 2 Axes>"
            ],
            "image/png": "[encoded data removed]"
          },
          "metadata": {
            "needs_background": "light"
          }
        }
      ]
    },
    {
      "cell_type": "markdown",
      "source": [
        "Modelling - Logistic Regression\n",
        "\n",
        "1) Split the data into train,test sets.\n",
        "\n",
        "2) Logistic Regression - train the model and predict the outcome for the test data and calculate the accuracy of the training dataset\n",
        "\n",
        "3) Test the accuracy of the model on the test data\n",
        "\n",
        "Which factor seems to be most important one when decideing the grade of the house "
      ],
      "metadata": {
        "id": "mbY4tBGuAgtc"
      }
    },
    {
      "cell_type": "markdown",
      "source": [
        "Preparation of training and testing dataset"
      ],
      "metadata": {
        "id": "E7Mf90T9AvPm"
      }
    },
    {
      "cell_type": "code",
      "source": [
        "# Creating test and training dataset\n",
        "\n",
        "df_train,df_test = train_test_split(df,train_size=0.8)\n",
        "\n",
        "print(\"Size of the training dataset\",df_train.shape)\n",
        "print(\"Size of the testing dataset\",df_test.shape)"
      ],
      "metadata": {
        "colab": {
          "base_uri": "https://localhost:8080/"
        },
        "id": "uHjJI3xBAhkF",
        "outputId": "65ef6aae-5c4f-4ae7-903b-5446fb1d4792"
      },
      "execution_count": null,
      "outputs": [
        {
          "output_type": "stream",
          "name": "stdout",
          "text": [
            "Size of the training dataset (2400, 14)\n",
            "Size of the testing dataset (600, 14)\n"
          ]
        }
      ]
    },
    {
      "cell_type": "code",
      "source": [
        "x_train = df_train.drop(columns='Grade',axis=1)\n",
        "y_train = df_train['Grade']\n",
        "x_test = df_test.drop(columns='Grade',axis=1)\n",
        "y_test = df_test['Grade']\n",
        "x_train.shape,y_train.shape,x_test.shape,y_test.shape"
      ],
      "metadata": {
        "colab": {
          "base_uri": "https://localhost:8080/"
        },
        "id": "Fi1YDnwg_02a",
        "outputId": "41bfae12-5f20-4f0d-fb62-19f1abae03db"
      },
      "execution_count": null,
      "outputs": [
        {
          "output_type": "execute_result",
          "data": {
            "text/plain": [
              "((2400, 13), (2400,), (600, 13), (600,))"
            ]
          },
          "metadata": {},
          "execution_count": 59
        }
      ]
    },
    {
      "cell_type": "markdown",
      "source": [
        "2. Training the model"
      ],
      "metadata": {
        "id": "T3kOjLxfCX0u"
      }
    },
    {
      "cell_type": "code",
      "source": [
        "logreg = LogisticRegression().fit(x_train,y_train)\n",
        "\n",
        "# Using the trained model to predict the outcome of the x_test dataset\n",
        "y_pred=logreg.predict(x_test)\n",
        "\n",
        "# Calculating the accuracy of the training dataset\n",
        "\n",
        "acc_log = round(logreg.score(x_train,y_train) * 100, 2)\n",
        "acc_log\n",
        "\n",
        "y_pred = logreg.predict(x_test)\n",
        "\n",
        "# Calculating the accuracy of the training dataset\n",
        "\n",
        "acc_log = round(logreg.score(x_train,y_train)*100,2)\n",
        "acc_log"
      ],
      "metadata": {
        "colab": {
          "base_uri": "https://localhost:8080/"
        },
        "id": "E0LPezjCCcTN",
        "outputId": "2d100230-e837-4939-b0f5-afbbfdf06ee0"
      },
      "execution_count": null,
      "outputs": [
        {
          "output_type": "execute_result",
          "data": {
            "text/plain": [
              "55.12"
            ]
          },
          "metadata": {},
          "execution_count": 60
        }
      ]
    },
    {
      "cell_type": "code",
      "source": [
        "# Indicate the value of the slope for each\n",
        "\n",
        "df = pd.DataFrame(df_train.columns.delete(0))\n",
        "df.columns=['Feature']\n",
        "df['Correlation'] = pd.Series(logreg.coef_[0])\n",
        "\n",
        "df.sort_values(by='Correlation',ascending = False)\n"
      ],
      "metadata": {
        "colab": {
          "base_uri": "https://localhost:8080/",
          "height": 457
        },
        "id": "pcRKdgnumKLL",
        "outputId": "28c36674-0f26-4452-e813-f7be9b2806c4"
      },
      "execution_count": null,
      "outputs": [
        {
          "output_type": "execute_result",
          "data": {
            "text/plain": [
              "           Feature  Correlation\n",
              "7       Lawn(Area)     0.010726\n",
              "12           Grade     0.003216\n",
              "4       Twashrooms     0.002335\n",
              "5             roof     0.002156\n",
              "3      Nbwashrooms     0.002105\n",
              "9              API     0.001569\n",
              "2        Nbedrooms     0.000904\n",
              "6       Roof(Area)     0.000109\n",
              "0      Area(total)    -0.000024\n",
              "11  Expected price    -0.000406\n",
              "10             ANB    -0.007327\n",
              "8          Nfloors    -0.011362\n",
              "1           Trooms    -0.036771"
            ],
            "text/html": [
              "\n",
              "  <div id=\"df-36062132-aac7-48cf-a69a-8832496f3d92\">\n",
              "    <div class=\"colab-df-container\">\n",
              "      <div>\n",
              "<style scoped>\n",
              "    .dataframe tbody tr th:only-of-type {\n",
              "        vertical-align: middle;\n",
              "    }\n",
              "\n",
              "    .dataframe tbody tr th {\n",
              "        vertical-align: top;\n",
              "    }\n",
              "\n",
              "    .dataframe thead th {\n",
              "        text-align: right;\n",
              "    }\n",
              "</style>\n",
              "<table border=\"1\" class=\"dataframe\">\n",
              "  <thead>\n",
              "    <tr style=\"text-align: right;\">\n",
              "      <th></th>\n",
              "      <th>Feature</th>\n",
              "      <th>Correlation</th>\n",
              "    </tr>\n",
              "  </thead>\n",
              "  <tbody>\n",
              "    <tr>\n",
              "      <th>7</th>\n",
              "      <td>Lawn(Area)</td>\n",
              "      <td>0.010726</td>\n",
              "    </tr>\n",
              "    <tr>\n",
              "      <th>12</th>\n",
              "      <td>Grade</td>\n",
              "      <td>0.003216</td>\n",
              "    </tr>\n",
              "    <tr>\n",
              "      <th>4</th>\n",
              "      <td>Twashrooms</td>\n",
              "      <td>0.002335</td>\n",
              "    </tr>\n",
              "    <tr>\n",
              "      <th>5</th>\n",
              "      <td>roof</td>\n",
              "      <td>0.002156</td>\n",
              "    </tr>\n",
              "    <tr>\n",
              "      <th>3</th>\n",
              "      <td>Nbwashrooms</td>\n",
              "      <td>0.002105</td>\n",
              "    </tr>\n",
              "    <tr>\n",
              "      <th>9</th>\n",
              "      <td>API</td>\n",
              "      <td>0.001569</td>\n",
              "    </tr>\n",
              "    <tr>\n",
              "      <th>2</th>\n",
              "      <td>Nbedrooms</td>\n",
              "      <td>0.000904</td>\n",
              "    </tr>\n",
              "    <tr>\n",
              "      <th>6</th>\n",
              "      <td>Roof(Area)</td>\n",
              "      <td>0.000109</td>\n",
              "    </tr>\n",
              "    <tr>\n",
              "      <th>0</th>\n",
              "      <td>Area(total)</td>\n",
              "      <td>-0.000024</td>\n",
              "    </tr>\n",
              "    <tr>\n",
              "      <th>11</th>\n",
              "      <td>Expected price</td>\n",
              "      <td>-0.000406</td>\n",
              "    </tr>\n",
              "    <tr>\n",
              "      <th>10</th>\n",
              "      <td>ANB</td>\n",
              "      <td>-0.007327</td>\n",
              "    </tr>\n",
              "    <tr>\n",
              "      <th>8</th>\n",
              "      <td>Nfloors</td>\n",
              "      <td>-0.011362</td>\n",
              "    </tr>\n",
              "    <tr>\n",
              "      <th>1</th>\n",
              "      <td>Trooms</td>\n",
              "      <td>-0.036771</td>\n",
              "    </tr>\n",
              "  </tbody>\n",
              "</table>\n",
              "</div>\n",
              "      <button class=\"colab-df-convert\" onclick=\"convertToInteractive('df-36062132-aac7-48cf-a69a-8832496f3d92')\"\n",
              "              title=\"Convert this dataframe to an interactive table.\"\n",
              "              style=\"display:none;\">\n",
              "        \n",
              "  <svg xmlns=\"http://www.w3.org/2000/svg\" height=\"24px\"viewBox=\"0 0 24 24\"\n",
              "       width=\"24px\">\n",
              "    <path d=\"M0 0h24v24H0V0z\" fill=\"none\"/>\n",
              "    <path d=\"M18.56 5.44l.94 2.06.94-2.06 2.06-.94-2.06-.94-.94-2.06-.94 2.06-2.06.94zm-11 1L8.5 8.5l.94-2.06 2.06-.94-2.06-.94L8.5 2.5l-.94 2.06-2.06.94zm10 10l.94 2.06.94-2.06 2.06-.94-2.06-.94-.94-2.06-.94 2.06-2.06.94z\"/><path d=\"M17.41 7.96l-1.37-1.37c-.4-.4-.92-.59-1.43-.59-.52 0-1.04.2-1.43.59L10.3 9.45l-7.72 7.72c-.78.78-.78 2.05 0 2.83L4 21.41c.39.39.9.59 1.41.59.51 0 1.02-.2 1.41-.59l7.78-7.78 2.81-2.81c.8-.78.8-2.07 0-2.86zM5.41 20L4 18.59l7.72-7.72 1.47 1.35L5.41 20z\"/>\n",
              "  </svg>\n",
              "      </button>\n",
              "      \n",
              "  <style>\n",
              "    .colab-df-container {\n",
              "      display:flex;\n",
              "      flex-wrap:wrap;\n",
              "      gap: 12px;\n",
              "    }\n",
              "\n",
              "    .colab-df-convert {\n",
              "      background-color: #E8F0FE;\n",
              "      border: none;\n",
              "      border-radius: 50%;\n",
              "      cursor: pointer;\n",
              "      display: none;\n",
              "      fill: #1967D2;\n",
              "      height: 32px;\n",
              "      padding: 0 0 0 0;\n",
              "      width: 32px;\n",
              "    }\n",
              "\n",
              "    .colab-df-convert:hover {\n",
              "      background-color: #E2EBFA;\n",
              "      box-shadow: 0px 1px 2px rgba(60, 64, 67, 0.3), 0px 1px 3px 1px rgba(60, 64, 67, 0.15);\n",
              "      fill: #174EA6;\n",
              "    }\n",
              "\n",
              "    [theme=dark] .colab-df-convert {\n",
              "      background-color: #3B4455;\n",
              "      fill: #D2E3FC;\n",
              "    }\n",
              "\n",
              "    [theme=dark] .colab-df-convert:hover {\n",
              "      background-color: #434B5C;\n",
              "      box-shadow: 0px 1px 3px 1px rgba(0, 0, 0, 0.15);\n",
              "      filter: drop-shadow(0px 1px 2px rgba(0, 0, 0, 0.3));\n",
              "      fill: #FFFFFF;\n",
              "    }\n",
              "  </style>\n",
              "\n",
              "      <script>\n",
              "        const buttonEl =\n",
              "          document.querySelector('#df-36062132-aac7-48cf-a69a-8832496f3d92 button.colab-df-convert');\n",
              "        buttonEl.style.display =\n",
              "          google.colab.kernel.accessAllowed ? 'block' : 'none';\n",
              "\n",
              "        async function convertToInteractive(key) {\n",
              "          const element = document.querySelector('#df-36062132-aac7-48cf-a69a-8832496f3d92');\n",
              "          const dataTable =\n",
              "            await google.colab.kernel.invokeFunction('convertToInteractive',\n",
              "                                                     [key], {});\n",
              "          if (!dataTable) return;\n",
              "\n",
              "          const docLinkHtml = 'Like what you see? Visit the ' +\n",
              "            '<a target=\"_blank\" href=https://colab.research.google.com/notebooks/data_table.ipynb>data table notebook</a>'\n",
              "            + ' to learn more about interactive tables.';\n",
              "          element.innerHTML = '';\n",
              "          dataTable['output_type'] = 'display_data';\n",
              "          await google.colab.output.renderOutput(dataTable, element);\n",
              "          const docLink = document.createElement('div');\n",
              "          docLink.innerHTML = docLinkHtml;\n",
              "          element.appendChild(docLink);\n",
              "        }\n",
              "      </script>\n",
              "    </div>\n",
              "  </div>\n",
              "  "
            ]
          },
          "metadata": {},
          "execution_count": 61
        }
      ]
    },
    {
      "cell_type": "code",
      "source": [
        "#model.intercept indicates the intercecpt with y-axis\n",
        "\n",
        "logreg.intercept_"
      ],
      "metadata": {
        "colab": {
          "base_uri": "https://localhost:8080/"
        },
        "id": "By3hYkK3nBEp",
        "outputId": "fbeb7dc2-7b12-4976-e971-c0684c6aceb3"
      },
      "execution_count": null,
      "outputs": [
        {
          "output_type": "execute_result",
          "data": {
            "text/plain": [
              "array([-1.51724493e-04, -9.23982553e-05, -7.20020895e-06,  1.87716347e-04,\n",
              "        6.36066101e-05])"
            ]
          },
          "metadata": {},
          "execution_count": 62
        }
      ]
    },
    {
      "cell_type": "code",
      "source": [
        "#Evaluate the model on the test data\n",
        "\n",
        "logreg.score(x_test,y_test)"
      ],
      "metadata": {
        "colab": {
          "base_uri": "https://localhost:8080/"
        },
        "id": "QaVBWuN9nE8h",
        "outputId": "e23962ce-7698-41f1-de6f-c0b536d85a64"
      },
      "execution_count": null,
      "outputs": [
        {
          "output_type": "execute_result",
          "data": {
            "text/plain": [
              "0.5433333333333333"
            ]
          },
          "metadata": {},
          "execution_count": 63
        }
      ]
    },
    {
      "cell_type": "code",
      "source": [
        "np.unique(y_pred)"
      ],
      "metadata": {
        "colab": {
          "base_uri": "https://localhost:8080/"
        },
        "id": "27Di2xi5nQ3V",
        "outputId": "db91b076-0af5-4fa4-9dc6-7ca90d476519"
      },
      "execution_count": null,
      "outputs": [
        {
          "output_type": "execute_result",
          "data": {
            "text/plain": [
              "array([0, 1, 2, 3])"
            ]
          },
          "metadata": {},
          "execution_count": 64
        }
      ]
    },
    {
      "cell_type": "code",
      "source": [
        "from collections import Counter\n",
        "\n",
        "x=0\n",
        "d=Counter(y_pred)\n",
        "print('{} has occured {} times'.format(x,d[x]))"
      ],
      "metadata": {
        "colab": {
          "base_uri": "https://localhost:8080/"
        },
        "id": "KInU5Mt-naSQ",
        "outputId": "790fe7e7-0ff5-4649-e245-a59db7d5d90a"
      },
      "execution_count": null,
      "outputs": [
        {
          "output_type": "stream",
          "name": "stdout",
          "text": [
            "0 has occured 51 times\n"
          ]
        }
      ]
    },
    {
      "cell_type": "markdown",
      "source": [
        "Evaluation: Confusion matrix, ROC-AUC"
      ],
      "metadata": {
        "id": "rKEjr55lnvvm"
      }
    },
    {
      "cell_type": "markdown",
      "source": [
        "Confusion Matrix"
      ],
      "metadata": {
        "id": "GbhN_uCRn1qH"
      }
    },
    {
      "cell_type": "code",
      "source": [
        "from sklearn.metrics import confusion_matrix\n",
        "\n",
        "print(confusion_matrix(y_test,y_pred))\n",
        "\n",
        "#print(\"tn={},fp={},fn={},tp={}\".format(tn,fp,fn,tp))"
      ],
      "metadata": {
        "id": "xZdil-pUn3yh",
        "colab": {
          "base_uri": "https://localhost:8080/"
        },
        "outputId": "dde27251-0e8b-4ea3-e3fd-65f29e66c1ca"
      },
      "execution_count": null,
      "outputs": [
        {
          "output_type": "stream",
          "name": "stdout",
          "text": [
            "[[ 23  40  19   2   0]\n",
            " [ 19  49  25  12   0]\n",
            " [  9  29  31  66   0]\n",
            " [  0   9  31 223   0]\n",
            " [  0   0   1  12   0]]\n"
          ]
        }
      ]
    },
    {
      "cell_type": "code",
      "source": [
        "confusion_matrix(y_test,y_pred).ravel()\n",
        "#tn, fp, fn, tp = confusion_matrix(y_test,y_pred).ravel()"
      ],
      "metadata": {
        "colab": {
          "base_uri": "https://localhost:8080/"
        },
        "id": "i4DUkI3qCbfp",
        "outputId": "8874346e-6e0e-44fb-c4bd-0e704e19da9d"
      },
      "execution_count": null,
      "outputs": [
        {
          "output_type": "execute_result",
          "data": {
            "text/plain": [
              "array([ 23,  40,  19,   2,   0,  19,  49,  25,  12,   0,   9,  29,  31,\n",
              "        66,   0,   0,   9,  31, 223,   0,   0,   0,   1,  12,   0])"
            ]
          },
          "metadata": {},
          "execution_count": 67
        }
      ]
    },
    {
      "cell_type": "code",
      "source": [
        "np.diagonal(confusion_matrix(y_test,y_pred)) # True positives"
      ],
      "metadata": {
        "colab": {
          "base_uri": "https://localhost:8080/"
        },
        "id": "uEsuMdwEC9Zd",
        "outputId": "4c87192c-f95e-4c82-cc12-d5cd8bd2de95"
      },
      "execution_count": null,
      "outputs": [
        {
          "output_type": "execute_result",
          "data": {
            "text/plain": [
              "array([ 23,  49,  31, 223,   0])"
            ]
          },
          "metadata": {},
          "execution_count": 68
        }
      ]
    },
    {
      "cell_type": "code",
      "source": [
        "from sklearn.metrics import f1_score\n",
        "from sklearn.metrics import recall_score\n",
        "from sklearn.metrics import accuracy_score\n",
        "from sklearn.metrics import precision_score\n",
        "\n",
        "print('accuracy',accuracy_score(y_test,y_pred))\n",
        "print('recall_score',recall_score(y_test,y_pred,average='weighted'))\n",
        "print('f1_score',f1_score(y_test,y_pred,average='weighted'))\n",
        "print('precision_score',precision_score(y_test,y_pred,average='weighted'))"
      ],
      "metadata": {
        "id": "ITbNpldan0n8",
        "colab": {
          "base_uri": "https://localhost:8080/"
        },
        "outputId": "d5beb828-3654-4d6d-9314-f71e19212505"
      },
      "execution_count": null,
      "outputs": [
        {
          "output_type": "stream",
          "name": "stdout",
          "text": [
            "accuracy 0.5433333333333333\n",
            "recall_score 0.5433333333333333\n",
            "f1_score 0.5175002727009403\n",
            "precision_score 0.5061560251413507\n"
          ]
        }
      ]
    },
    {
      "cell_type": "code",
      "source": [
        "from sklearn.linear_model import LogisticRegression\n",
        "from sklearn.tree import DecisionTreeClassifier\n",
        "from sklearn.naive_bayes import GaussianNB\n",
        "\n",
        "# Splitting the data into training/testing\n",
        "from sklearn.model_selection import train_test_split\n",
        "from sklearn.preprocessing import MinMaxScaler\n",
        "\n",
        "# Metrics\n",
        "\n",
        "from sklearn.metrics import mean_squared_error, mean_absolute_error,median_absolute_error\n",
        "from sklearn.metrics import recall_score\n",
        "from sklearn.metrics import f1_score\n",
        "from sklearn.metrics import accuracy_score\n",
        "from sklearn.metrics import precision_score\n"
      ],
      "metadata": {
        "id": "hF8PMJ1B9D1c"
      },
      "execution_count": null,
      "outputs": []
    },
    {
      "cell_type": "code",
      "source": [
        "x_train.head"
      ],
      "metadata": {
        "colab": {
          "base_uri": "https://localhost:8080/"
        },
        "id": "Iz7pS2IBGc1X",
        "outputId": "67605055-1552-47ad-d57b-ac6b501fad95"
      },
      "execution_count": null,
      "outputs": [
        {
          "output_type": "execute_result",
          "data": {
            "text/plain": [
              "<bound method NDFrame.head of         Id  Area(total)  Trooms  Nbedrooms  Nbwashrooms  Twashrooms  roof  \\\n",
              "509    510          311       9          8            7           8     0   \n",
              "736    737          311       8          7            7           9     1   \n",
              "1375  1376          321       9          6            6           8     0   \n",
              "2393  2394          324       9          7            6           7     1   \n",
              "2195  2196          307       6          3            2           3     1   \n",
              "...    ...          ...     ...        ...          ...         ...   ...   \n",
              "602    603          320       5          2            1           2     0   \n",
              "2397  2398          341       7          5            5           7     1   \n",
              "973    974          333       8          5            5           6     0   \n",
              "787    788          302       5          4            4           5     1   \n",
              "103    104          338       5          3            3           4     1   \n",
              "\n",
              "      Roof(Area)  Lawn(Area)  Nfloors  API  ANB  Expected price  \n",
              "509            0         111        5   52    3            4469  \n",
              "736           85          82        4   48    5            3585  \n",
              "1375           0          82        5   63    1            4176  \n",
              "2393          80          74        5   59    2            4172  \n",
              "2195          92          82        3   95    2            3133  \n",
              "...          ...         ...      ...  ...  ...             ...  \n",
              "602            0         116        2   75    5            3317  \n",
              "2397         112         119        4   77    6            4263  \n",
              "973            0          85        6   60    1            3672  \n",
              "787          114          73        1   93    3            3178  \n",
              "103           87         108        2   69    2            3121  \n",
              "\n",
              "[2400 rows x 13 columns]>"
            ]
          },
          "metadata": {},
          "execution_count": 71
        }
      ]
    },
    {
      "cell_type": "markdown",
      "source": [
        "Build the model(GaussianNB)"
      ],
      "metadata": {
        "id": "w5T10HpgDzWQ"
      }
    },
    {
      "cell_type": "code",
      "source": [
        "# Fitting Naive Bayes to the Training set  \n",
        " \n",
        "classifier = GaussianNB()  \n",
        "classifier.fit(x_train, y_train) "
      ],
      "metadata": {
        "colab": {
          "base_uri": "https://localhost:8080/"
        },
        "id": "wGMw_a_gD5cM",
        "outputId": "6b9e0d9f-2639-4b02-ed73-eeeabd208cb8"
      },
      "execution_count": null,
      "outputs": [
        {
          "output_type": "execute_result",
          "data": {
            "text/plain": [
              "GaussianNB()"
            ]
          },
          "metadata": {},
          "execution_count": 72
        }
      ]
    },
    {
      "cell_type": "markdown",
      "source": [
        "Predict Data"
      ],
      "metadata": {
        "id": "sPz6bGcQD-bL"
      }
    },
    {
      "cell_type": "code",
      "source": [
        "# Predicting the Test set results  \n",
        "y_pred = classifier.predict(x_test)  "
      ],
      "metadata": {
        "id": "tv6upggFD_dp"
      },
      "execution_count": null,
      "outputs": []
    },
    {
      "cell_type": "markdown",
      "source": [
        "Evaluate the Model"
      ],
      "metadata": {
        "id": "rlAZD8TkEFp0"
      }
    },
    {
      "cell_type": "code",
      "source": [
        "# Making the Confusion Matrix  \n",
        " \n",
        "cm = confusion_matrix(y_test, y_pred)  \n",
        "cm"
      ],
      "metadata": {
        "colab": {
          "base_uri": "https://localhost:8080/"
        },
        "id": "aVpQQ_WMEGVS",
        "outputId": "99cde1f9-4b62-4e5c-ab0e-cc860bcc793a"
      },
      "execution_count": null,
      "outputs": [
        {
          "output_type": "execute_result",
          "data": {
            "text/plain": [
              "array([[ 71,  13,   0,   0,   0],\n",
              "       [ 11,  83,  11,   0,   0],\n",
              "       [  0,  23,  96,  16,   0],\n",
              "       [  0,   0,  34, 221,   8],\n",
              "       [  0,   0,   0,   4,   9]])"
            ]
          },
          "metadata": {},
          "execution_count": 74
        }
      ]
    },
    {
      "cell_type": "code",
      "source": [
        "accuracy_score(y_test, y_pred)"
      ],
      "metadata": {
        "colab": {
          "base_uri": "https://localhost:8080/"
        },
        "id": "hI-AXcy2EJZF",
        "outputId": "c3ff9f04-fce2-43fb-a53f-de73acc3801a"
      },
      "execution_count": null,
      "outputs": [
        {
          "output_type": "execute_result",
          "data": {
            "text/plain": [
              "0.8"
            ]
          },
          "metadata": {},
          "execution_count": 75
        }
      ]
    },
    {
      "cell_type": "code",
      "source": [
        "from sklearn.metrics import recall_score\n",
        "from sklearn.metrics import f1_score\n",
        "from sklearn.metrics import accuracy_score\n",
        "from sklearn.metrics import precision_score\n",
        "\n",
        "print('accuracy:', accuracy_score(y_test, y_pred))\n",
        "print('recall:', recall_score(y_test, y_pred, average='weighted'))\n",
        "print('f1-score:', f1_score(y_test, y_pred, average='weighted'))\n",
        "print('precision:', precision_score(y_test, y_pred, average='weighted'))"
      ],
      "metadata": {
        "colab": {
          "base_uri": "https://localhost:8080/"
        },
        "id": "b8a7upDNKR57",
        "outputId": "eefe3fe8-7c83-499b-fff4-8b90140c5435"
      },
      "execution_count": null,
      "outputs": [
        {
          "output_type": "stream",
          "name": "stdout",
          "text": [
            "accuracy: 0.8\n",
            "recall: 0.8\n",
            "f1-score: 0.8033796509363887\n",
            "precision: 0.809897536419732\n"
          ]
        }
      ]
    },
    {
      "cell_type": "markdown",
      "source": [
        "Modeling - Decision Tree Classifier"
      ],
      "metadata": {
        "id": "Lm2R17b-EXsn"
      }
    },
    {
      "cell_type": "code",
      "source": [
        "# Create Decision Tree classifer object\n",
        "clf = DecisionTreeClassifier(max_depth=3)\n",
        "\n",
        "# Train Decision Tree Classifer\n",
        "clf = clf.fit(x_train,y_train)\n",
        "\n",
        "#Predict the response for test dataset\n",
        "y_pred = clf.predict(x_test)"
      ],
      "metadata": {
        "id": "nVqvc6vBEYpc"
      },
      "execution_count": null,
      "outputs": []
    },
    {
      "cell_type": "markdown",
      "source": [
        "Evaluation"
      ],
      "metadata": {
        "id": "5jHYWd3tEedx"
      }
    },
    {
      "cell_type": "code",
      "source": [
        "from sklearn.metrics import accuracy_score"
      ],
      "metadata": {
        "id": "-88Nm2txJuaU"
      },
      "execution_count": null,
      "outputs": []
    },
    {
      "cell_type": "code",
      "source": [
        "# Model Accuracy, how often is the classifier correct?\n",
        "print(\"Accuracy:\",accuracy_score(y_test, y_pred))"
      ],
      "metadata": {
        "colab": {
          "base_uri": "https://localhost:8080/"
        },
        "id": "SNUd6sevEfMU",
        "outputId": "c5b476d9-23bd-4845-e836-6e44d2c2f7ac"
      },
      "execution_count": null,
      "outputs": [
        {
          "output_type": "stream",
          "name": "stdout",
          "text": [
            "Accuracy: 0.7616666666666667\n"
          ]
        }
      ]
    },
    {
      "cell_type": "code",
      "source": [
        "# confusion matrix\n",
        "from sklearn.metrics import confusion_matrix\n",
        "confusion_matrix(y_test,y_pred)"
      ],
      "metadata": {
        "colab": {
          "base_uri": "https://localhost:8080/"
        },
        "id": "IQsRx4QdEkhr",
        "outputId": "5b263986-f6fd-411e-a91b-d4bf482e84c4"
      },
      "execution_count": null,
      "outputs": [
        {
          "output_type": "execute_result",
          "data": {
            "text/plain": [
              "array([[ 67,  17,   0,   0,   0],\n",
              "       [ 10,  69,  26,   0,   0],\n",
              "       [  0,   4, 125,   6,   0],\n",
              "       [  0,   0,  67, 196,   0],\n",
              "       [  0,   0,   0,  13,   0]])"
            ]
          },
          "metadata": {},
          "execution_count": 80
        }
      ]
    },
    {
      "cell_type": "code",
      "source": [
        "from sklearn.metrics import recall_score\n",
        "from sklearn.metrics import f1_score\n",
        "from sklearn.metrics import accuracy_score\n",
        "from sklearn.metrics import precision_score\n",
        "\n",
        "print('accuracy:', accuracy_score(y_test, y_pred))\n",
        "print('recall:', recall_score(y_test, y_pred, average='weighted'))\n",
        "print('f1-score:', f1_score(y_test, y_pred, average='weighted'))\n",
        "print('precision:', precision_score(y_test, y_pred, average='weighted'))"
      ],
      "metadata": {
        "colab": {
          "base_uri": "https://localhost:8080/"
        },
        "id": "HY06PWU3EpH0",
        "outputId": "a4afa15a-cca0-472c-9b8f-702774df5e1a"
      },
      "execution_count": null,
      "outputs": [
        {
          "output_type": "stream",
          "name": "stdout",
          "text": [
            "accuracy: 0.7616666666666667\n",
            "recall: 0.7616666666666667\n",
            "f1-score: 0.7591863488499356\n",
            "precision: 0.7845955091775446\n"
          ]
        }
      ]
    },
    {
      "cell_type": "code",
      "source": [
        "plt.figure(figsize=(10, 7))\n",
        "ax = sb.distplot(y_test, hist=True, color=\"r\", label=\"Actual Value\")\n",
        "sb.distplot(y_pred, hist=True, color=\"b\", label=\"Predicted Values\", ax=ax)\n",
        "plt.title('Actual vs Precited value')\n",
        "plt.legend()\n",
        "plt.show()"
      ],
      "metadata": {
        "colab": {
          "base_uri": "https://localhost:8080/",
          "height": 458
        },
        "id": "9qBbTH0yDbcC",
        "outputId": "54bad226-4c57-4ca0-b00c-b903f25e51b0"
      },
      "execution_count": null,
      "outputs": [
        {
          "output_type": "display_data",
          "data": {
            "text/plain": [
              "<Figure size 720x504 with 1 Axes>"
            ],
            "image/png": "[encoded data removed]"
          },
          "metadata": {
            "needs_background": "light"
          }
        }
      ]
    },
    {
      "cell_type": "code",
      "source": [
        "Result_df = pd.DataFrame({\"Models\":[\"Logistic Regression\",\"GaussianNB\",\"RandomForestClassifier\"],\"Accuracy\":[0.53,0.805,0.74],\"precision\":[0.497,0.813,0.735],\"Recall\":[0.533,0.805,0.74],\"f1\":[0.508,0.806,0.720]})"
      ],
      "metadata": {
        "id": "k6cbwkW4MJsI"
      },
      "execution_count": null,
      "outputs": []
    },
    {
      "cell_type": "code",
      "source": [
        "Result_df"
      ],
      "metadata": {
        "colab": {
          "base_uri": "https://localhost:8080/",
          "height": 143
        },
        "id": "cVhQbIYsNNM1",
        "outputId": "4bc4ad3f-9dfd-4442-fb4b-9526f6ff7c5b"
      },
      "execution_count": null,
      "outputs": [
        {
          "output_type": "execute_result",
          "data": {
            "text/plain": [
              "                   Models  Accuracy  precision  Recall     f1\n",
              "0     Logistic Regression     0.530      0.497   0.533  0.508\n",
              "1              GaussianNB     0.805      0.813   0.805  0.806\n",
              "2  RandomForestClassifier     0.740      0.735   0.740  0.720"
            ],
            "text/html": [
              "\n",
              "  <div id=\"df-3446020a-e7cc-449e-aca0-cf4a239bf3a3\">\n",
              "    <div class=\"colab-df-container\">\n",
              "      <div>\n",
              "<style scoped>\n",
              "    .dataframe tbody tr th:only-of-type {\n",
              "        vertical-align: middle;\n",
              "    }\n",
              "\n",
              "    .dataframe tbody tr th {\n",
              "        vertical-align: top;\n",
              "    }\n",
              "\n",
              "    .dataframe thead th {\n",
              "        text-align: right;\n",
              "    }\n",
              "</style>\n",
              "<table border=\"1\" class=\"dataframe\">\n",
              "  <thead>\n",
              "    <tr style=\"text-align: right;\">\n",
              "      <th></th>\n",
              "      <th>Models</th>\n",
              "      <th>Accuracy</th>\n",
              "      <th>precision</th>\n",
              "      <th>Recall</th>\n",
              "      <th>f1</th>\n",
              "    </tr>\n",
              "  </thead>\n",
              "  <tbody>\n",
              "    <tr>\n",
              "      <th>0</th>\n",
              "      <td>Logistic Regression</td>\n",
              "      <td>0.530</td>\n",
              "      <td>0.497</td>\n",
              "      <td>0.533</td>\n",
              "      <td>0.508</td>\n",
              "    </tr>\n",
              "    <tr>\n",
              "      <th>1</th>\n",
              "      <td>GaussianNB</td>\n",
              "      <td>0.805</td>\n",
              "      <td>0.813</td>\n",
              "      <td>0.805</td>\n",
              "      <td>0.806</td>\n",
              "    </tr>\n",
              "    <tr>\n",
              "      <th>2</th>\n",
              "      <td>RandomForestClassifier</td>\n",
              "      <td>0.740</td>\n",
              "      <td>0.735</td>\n",
              "      <td>0.740</td>\n",
              "      <td>0.720</td>\n",
              "    </tr>\n",
              "  </tbody>\n",
              "</table>\n",
              "</div>\n",
              "      <button class=\"colab-df-convert\" onclick=\"convertToInteractive('df-3446020a-e7cc-449e-aca0-cf4a239bf3a3')\"\n",
              "              title=\"Convert this dataframe to an interactive table.\"\n",
              "              style=\"display:none;\">\n",
              "        \n",
              "  <svg xmlns=\"http://www.w3.org/2000/svg\" height=\"24px\"viewBox=\"0 0 24 24\"\n",
              "       width=\"24px\">\n",
              "    <path d=\"M0 0h24v24H0V0z\" fill=\"none\"/>\n",
              "    <path d=\"M18.56 5.44l.94 2.06.94-2.06 2.06-.94-2.06-.94-.94-2.06-.94 2.06-2.06.94zm-11 1L8.5 8.5l.94-2.06 2.06-.94-2.06-.94L8.5 2.5l-.94 2.06-2.06.94zm10 10l.94 2.06.94-2.06 2.06-.94-2.06-.94-.94-2.06-.94 2.06-2.06.94z\"/><path d=\"M17.41 7.96l-1.37-1.37c-.4-.4-.92-.59-1.43-.59-.52 0-1.04.2-1.43.59L10.3 9.45l-7.72 7.72c-.78.78-.78 2.05 0 2.83L4 21.41c.39.39.9.59 1.41.59.51 0 1.02-.2 1.41-.59l7.78-7.78 2.81-2.81c.8-.78.8-2.07 0-2.86zM5.41 20L4 18.59l7.72-7.72 1.47 1.35L5.41 20z\"/>\n",
              "  </svg>\n",
              "      </button>\n",
              "      \n",
              "  <style>\n",
              "    .colab-df-container {\n",
              "      display:flex;\n",
              "      flex-wrap:wrap;\n",
              "      gap: 12px;\n",
              "    }\n",
              "\n",
              "    .colab-df-convert {\n",
              "      background-color: #E8F0FE;\n",
              "      border: none;\n",
              "      border-radius: 50%;\n",
              "      cursor: pointer;\n",
              "      display: none;\n",
              "      fill: #1967D2;\n",
              "      height: 32px;\n",
              "      padding: 0 0 0 0;\n",
              "      width: 32px;\n",
              "    }\n",
              "\n",
              "    .colab-df-convert:hover {\n",
              "      background-color: #E2EBFA;\n",
              "      box-shadow: 0px 1px 2px rgba(60, 64, 67, 0.3), 0px 1px 3px 1px rgba(60, 64, 67, 0.15);\n",
              "      fill: #174EA6;\n",
              "    }\n",
              "\n",
              "    [theme=dark] .colab-df-convert {\n",
              "      background-color: #3B4455;\n",
              "      fill: #D2E3FC;\n",
              "    }\n",
              "\n",
              "    [theme=dark] .colab-df-convert:hover {\n",
              "      background-color: #434B5C;\n",
              "      box-shadow: 0px 1px 3px 1px rgba(0, 0, 0, 0.15);\n",
              "      filter: drop-shadow(0px 1px 2px rgba(0, 0, 0, 0.3));\n",
              "      fill: #FFFFFF;\n",
              "    }\n",
              "  </style>\n",
              "\n",
              "      <script>\n",
              "        const buttonEl =\n",
              "          document.querySelector('#df-3446020a-e7cc-449e-aca0-cf4a239bf3a3 button.colab-df-convert');\n",
              "        buttonEl.style.display =\n",
              "          google.colab.kernel.accessAllowed ? 'block' : 'none';\n",
              "\n",
              "        async function convertToInteractive(key) {\n",
              "          const element = document.querySelector('#df-3446020a-e7cc-449e-aca0-cf4a239bf3a3');\n",
              "          const dataTable =\n",
              "            await google.colab.kernel.invokeFunction('convertToInteractive',\n",
              "                                                     [key], {});\n",
              "          if (!dataTable) return;\n",
              "\n",
              "          const docLinkHtml = 'Like what you see? Visit the ' +\n",
              "            '<a target=\"_blank\" href=https://colab.research.google.com/notebooks/data_table.ipynb>data table notebook</a>'\n",
              "            + ' to learn more about interactive tables.';\n",
              "          element.innerHTML = '';\n",
              "          dataTable['output_type'] = 'display_data';\n",
              "          await google.colab.output.renderOutput(dataTable, element);\n",
              "          const docLink = document.createElement('div');\n",
              "          docLink.innerHTML = docLinkHtml;\n",
              "          element.appendChild(docLink);\n",
              "        }\n",
              "      </script>\n",
              "    </div>\n",
              "  </div>\n",
              "  "
            ]
          },
          "metadata": {},
          "execution_count": 84
        }
      ]
    },
    {
      "cell_type": "markdown",
      "source": [
        "Conclusion:\n",
        "\n",
        "GaussianNB performs better than Logistic Regression and RandomForestClassifier as it has high accuracy score 0.80 as compared to other models."
      ],
      "metadata": {
        "id": "aqDZGl36nuJY"
      }
    }
  ]
}