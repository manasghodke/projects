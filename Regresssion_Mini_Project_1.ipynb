{
  "cells": [
    {
      "cell_type": "markdown",
      "source": [
        "Prediction  Of The  Sales  Of  The  Stores  Using  Machine  Learning Regression Algorithms\n",
        "\n"
      ],
      "metadata": {
        "id": "HwxRWd7tenT3"
      }
    },
    {
      "cell_type": "markdown",
      "source": [
        "Importing necessary libraries"
      ],
      "metadata": {
        "id": "0XsWSCZBPYIs"
      }
    },
    {
      "cell_type": "code",
      "execution_count": null,
      "metadata": {
        "id": "grzKDkPZ_mWB"
      },
      "outputs": [],
      "source": [
        "import numpy as np # For mathematical calculations\n",
        "import pandas as pd # for creating dataframe\n",
        "import matplotlib.pyplot as plt # Used for graph visualization\n",
        "import seaborn as sb  # Used for graph visualization\n",
        "import warnings  # Ignpre warnings\n",
        "warnings.filterwarnings(\"ignore\")\n",
        "\n",
        "from sklearn import preprocessing  # Used for data cleaning\n",
        "from sklearn.preprocessing import LabelEncoder # Used for label encoding\n",
        "from sklearn.model_selection import train_test_split # used for train_test_split\n",
        "from sklearn.preprocessing import StandardScaler # Used for scaling\n",
        "from sklearn.metrics import confusion_matrix # used to draw a confusion matrix\n",
        "from sklearn.metrics import precision_score, recall_score , accuracy_score # Used for calculating score\n",
        "from sklearn.tree import DecisionTreeClassifier # Used for making model\n",
        "from sklearn.tree import DecisionTreeRegressor # Used for making model\n",
        "from sklearn.metrics import recall_score # calculate recall score\n",
        "from sklearn.metrics import f1_score # calculate f1 score\n",
        "from sklearn.metrics import accuracy_score # calculate accuracy score\n",
        "from sklearn.metrics import precision_score # calculate precision_score\n",
        "from sklearn.metrics import mean_squared_error # for calculation of MSE value\n",
        "from sklearn.metrics import mean_absolute_error # for calculation mae value"
      ]
    },
    {
      "cell_type": "code",
      "execution_count": null,
      "metadata": {
        "colab": {
          "base_uri": "https://localhost:8080/"
        },
        "id": "ln6f5G7-9vS_",
        "outputId": "e67f4b90-6d7a-4b3d-ddef-948ff30d6a70"
      },
      "outputs": [
        {
          "output_type": "stream",
          "name": "stdout",
          "text": [
            "Drive already mounted at /content/drive/; to attempt to forcibly remount, call drive.mount(\"/content/drive/\", force_remount=True).\n"
          ]
        }
      ],
      "source": [
        "from google.colab import drive\n",
        "drive.mount('/content/drive/')"
      ]
    },
    {
      "cell_type": "code",
      "execution_count": null,
      "metadata": {
        "colab": {
          "base_uri": "https://localhost:8080/"
        },
        "id": "FMe1Lh1e_JhG",
        "outputId": "688245df-8467-46b5-c6d3-68d298998aa5"
      },
      "outputs": [
        {
          "output_type": "stream",
          "name": "stdout",
          "text": [
            "/content/drive/My Drive/Python_CSV files\n"
          ]
        }
      ],
      "source": [
        "%cd /content/drive/My Drive/Python_CSV files/"
      ]
    },
    {
      "cell_type": "markdown",
      "source": [
        "Loading The Dataset"
      ],
      "metadata": {
        "id": "LAADrDvaPjoY"
      }
    },
    {
      "cell_type": "code",
      "execution_count": null,
      "metadata": {
        "id": "WsJUsupr_Sy-"
      },
      "outputs": [],
      "source": [
        "df=pd.read_csv(\"DS3_C6_S1_Regression_StoreSales_Data_Project.csv\") # Used for reading  the csv file"
      ]
    },
    {
      "cell_type": "code",
      "execution_count": null,
      "metadata": {
        "colab": {
          "base_uri": "https://localhost:8080/",
          "height": 357
        },
        "id": "3LWPviXWBV-c",
        "outputId": "4dc442db-a9d9-4131-dcf8-1eba2a3ee68f"
      },
      "outputs": [
        {
          "output_type": "execute_result",
          "data": {
            "text/plain": [
              "  Item_Identifier  Item_Weight Item_Fat_Content  Item_Visibility  \\\n",
              "0           FDA15         9.30          Low Fat         0.016047   \n",
              "1           DRC01         5.92          Regular         0.019278   \n",
              "2           FDN15        17.50          Low Fat         0.016760   \n",
              "3           FDX07        19.20          Regular         0.074402   \n",
              "4           NCD19         8.93          Low Fat         0.064299   \n",
              "\n",
              "               Item_Type  Item_MRP Outlet_Identifier  \\\n",
              "0                  Dairy  249.8092            OUT049   \n",
              "1            Soft Drinks   48.2692            OUT018   \n",
              "2                   Meat  141.6180            OUT049   \n",
              "3  Fruits and Vegetables  182.0950            OUT010   \n",
              "4              Household   53.8614            OUT013   \n",
              "\n",
              "   Outlet_Establishment_Year Outlet_Size Outlet_Location_Type  \\\n",
              "0                       1999      Medium               Tier 1   \n",
              "1                       2009      Medium               Tier 3   \n",
              "2                       1999      Medium               Tier 1   \n",
              "3                       1998      Medium               Tier 3   \n",
              "4                       1987        High               Tier 3   \n",
              "\n",
              "         Outlet_Type  Item_Outlet_Sales  \n",
              "0  Supermarket Type1          3735.1380  \n",
              "1  Supermarket Type2           443.4228  \n",
              "2  Supermarket Type1          2097.2700  \n",
              "3      Grocery Store           732.3800  \n",
              "4  Supermarket Type1           994.7052  "
            ],
            "text/html": [
              "\n",
              "  <div id=\"df-48d227db-428f-4237-b38b-07d7dd8505e9\">\n",
              "    <div class=\"colab-df-container\">\n",
              "      <div>\n",
              "<style scoped>\n",
              "    .dataframe tbody tr th:only-of-type {\n",
              "        vertical-align: middle;\n",
              "    }\n",
              "\n",
              "    .dataframe tbody tr th {\n",
              "        vertical-align: top;\n",
              "    }\n",
              "\n",
              "    .dataframe thead th {\n",
              "        text-align: right;\n",
              "    }\n",
              "</style>\n",
              "<table border=\"1\" class=\"dataframe\">\n",
              "  <thead>\n",
              "    <tr style=\"text-align: right;\">\n",
              "      <th></th>\n",
              "      <th>Item_Identifier</th>\n",
              "      <th>Item_Weight</th>\n",
              "      <th>Item_Fat_Content</th>\n",
              "      <th>Item_Visibility</th>\n",
              "      <th>Item_Type</th>\n",
              "      <th>Item_MRP</th>\n",
              "      <th>Outlet_Identifier</th>\n",
              "      <th>Outlet_Establishment_Year</th>\n",
              "      <th>Outlet_Size</th>\n",
              "      <th>Outlet_Location_Type</th>\n",
              "      <th>Outlet_Type</th>\n",
              "      <th>Item_Outlet_Sales</th>\n",
              "    </tr>\n",
              "  </thead>\n",
              "  <tbody>\n",
              "    <tr>\n",
              "      <th>0</th>\n",
              "      <td>FDA15</td>\n",
              "      <td>9.30</td>\n",
              "      <td>Low Fat</td>\n",
              "      <td>0.016047</td>\n",
              "      <td>Dairy</td>\n",
              "      <td>249.8092</td>\n",
              "      <td>OUT049</td>\n",
              "      <td>1999</td>\n",
              "      <td>Medium</td>\n",
              "      <td>Tier 1</td>\n",
              "      <td>Supermarket Type1</td>\n",
              "      <td>3735.1380</td>\n",
              "    </tr>\n",
              "    <tr>\n",
              "      <th>1</th>\n",
              "      <td>DRC01</td>\n",
              "      <td>5.92</td>\n",
              "      <td>Regular</td>\n",
              "      <td>0.019278</td>\n",
              "      <td>Soft Drinks</td>\n",
              "      <td>48.2692</td>\n",
              "      <td>OUT018</td>\n",
              "      <td>2009</td>\n",
              "      <td>Medium</td>\n",
              "      <td>Tier 3</td>\n",
              "      <td>Supermarket Type2</td>\n",
              "      <td>443.4228</td>\n",
              "    </tr>\n",
              "    <tr>\n",
              "      <th>2</th>\n",
              "      <td>FDN15</td>\n",
              "      <td>17.50</td>\n",
              "      <td>Low Fat</td>\n",
              "      <td>0.016760</td>\n",
              "      <td>Meat</td>\n",
              "      <td>141.6180</td>\n",
              "      <td>OUT049</td>\n",
              "      <td>1999</td>\n",
              "      <td>Medium</td>\n",
              "      <td>Tier 1</td>\n",
              "      <td>Supermarket Type1</td>\n",
              "      <td>2097.2700</td>\n",
              "    </tr>\n",
              "    <tr>\n",
              "      <th>3</th>\n",
              "      <td>FDX07</td>\n",
              "      <td>19.20</td>\n",
              "      <td>Regular</td>\n",
              "      <td>0.074402</td>\n",
              "      <td>Fruits and Vegetables</td>\n",
              "      <td>182.0950</td>\n",
              "      <td>OUT010</td>\n",
              "      <td>1998</td>\n",
              "      <td>Medium</td>\n",
              "      <td>Tier 3</td>\n",
              "      <td>Grocery Store</td>\n",
              "      <td>732.3800</td>\n",
              "    </tr>\n",
              "    <tr>\n",
              "      <th>4</th>\n",
              "      <td>NCD19</td>\n",
              "      <td>8.93</td>\n",
              "      <td>Low Fat</td>\n",
              "      <td>0.064299</td>\n",
              "      <td>Household</td>\n",
              "      <td>53.8614</td>\n",
              "      <td>OUT013</td>\n",
              "      <td>1987</td>\n",
              "      <td>High</td>\n",
              "      <td>Tier 3</td>\n",
              "      <td>Supermarket Type1</td>\n",
              "      <td>994.7052</td>\n",
              "    </tr>\n",
              "  </tbody>\n",
              "</table>\n",
              "</div>\n",
              "      <button class=\"colab-df-convert\" onclick=\"convertToInteractive('df-48d227db-428f-4237-b38b-07d7dd8505e9')\"\n",
              "              title=\"Convert this dataframe to an interactive table.\"\n",
              "              style=\"display:none;\">\n",
              "        \n",
              "  <svg xmlns=\"http://www.w3.org/2000/svg\" height=\"24px\"viewBox=\"0 0 24 24\"\n",
              "       width=\"24px\">\n",
              "    <path d=\"M0 0h24v24H0V0z\" fill=\"none\"/>\n",
              "    <path d=\"M18.56 5.44l.94 2.06.94-2.06 2.06-.94-2.06-.94-.94-2.06-.94 2.06-2.06.94zm-11 1L8.5 8.5l.94-2.06 2.06-.94-2.06-.94L8.5 2.5l-.94 2.06-2.06.94zm10 10l.94 2.06.94-2.06 2.06-.94-2.06-.94-.94-2.06-.94 2.06-2.06.94z\"/><path d=\"M17.41 7.96l-1.37-1.37c-.4-.4-.92-.59-1.43-.59-.52 0-1.04.2-1.43.59L10.3 9.45l-7.72 7.72c-.78.78-.78 2.05 0 2.83L4 21.41c.39.39.9.59 1.41.59.51 0 1.02-.2 1.41-.59l7.78-7.78 2.81-2.81c.8-.78.8-2.07 0-2.86zM5.41 20L4 18.59l7.72-7.72 1.47 1.35L5.41 20z\"/>\n",
              "  </svg>\n",
              "      </button>\n",
              "      \n",
              "  <style>\n",
              "    .colab-df-container {\n",
              "      display:flex;\n",
              "      flex-wrap:wrap;\n",
              "      gap: 12px;\n",
              "    }\n",
              "\n",
              "    .colab-df-convert {\n",
              "      background-color: #E8F0FE;\n",
              "      border: none;\n",
              "      border-radius: 50%;\n",
              "      cursor: pointer;\n",
              "      display: none;\n",
              "      fill: #1967D2;\n",
              "      height: 32px;\n",
              "      padding: 0 0 0 0;\n",
              "      width: 32px;\n",
              "    }\n",
              "\n",
              "    .colab-df-convert:hover {\n",
              "      background-color: #E2EBFA;\n",
              "      box-shadow: 0px 1px 2px rgba(60, 64, 67, 0.3), 0px 1px 3px 1px rgba(60, 64, 67, 0.15);\n",
              "      fill: #174EA6;\n",
              "    }\n",
              "\n",
              "    [theme=dark] .colab-df-convert {\n",
              "      background-color: #3B4455;\n",
              "      fill: #D2E3FC;\n",
              "    }\n",
              "\n",
              "    [theme=dark] .colab-df-convert:hover {\n",
              "      background-color: #434B5C;\n",
              "      box-shadow: 0px 1px 3px 1px rgba(0, 0, 0, 0.15);\n",
              "      filter: drop-shadow(0px 1px 2px rgba(0, 0, 0, 0.3));\n",
              "      fill: #FFFFFF;\n",
              "    }\n",
              "  </style>\n",
              "\n",
              "      <script>\n",
              "        const buttonEl =\n",
              "          document.querySelector('#df-48d227db-428f-4237-b38b-07d7dd8505e9 button.colab-df-convert');\n",
              "        buttonEl.style.display =\n",
              "          google.colab.kernel.accessAllowed ? 'block' : 'none';\n",
              "\n",
              "        async function convertToInteractive(key) {\n",
              "          const element = document.querySelector('#df-48d227db-428f-4237-b38b-07d7dd8505e9');\n",
              "          const dataTable =\n",
              "            await google.colab.kernel.invokeFunction('convertToInteractive',\n",
              "                                                     [key], {});\n",
              "          if (!dataTable) return;\n",
              "\n",
              "          const docLinkHtml = 'Like what you see? Visit the ' +\n",
              "            '<a target=\"_blank\" href=https://colab.research.google.com/notebooks/data_table.ipynb>data table notebook</a>'\n",
              "            + ' to learn more about interactive tables.';\n",
              "          element.innerHTML = '';\n",
              "          dataTable['output_type'] = 'display_data';\n",
              "          await google.colab.output.renderOutput(dataTable, element);\n",
              "          const docLink = document.createElement('div');\n",
              "          docLink.innerHTML = docLinkHtml;\n",
              "          element.appendChild(docLink);\n",
              "        }\n",
              "      </script>\n",
              "    </div>\n",
              "  </div>\n",
              "  "
            ]
          },
          "metadata": {},
          "execution_count": 5
        }
      ],
      "source": [
        "df.head() # Retrieves the first 5 rows from the dataframe"
      ]
    },
    {
      "cell_type": "code",
      "execution_count": null,
      "metadata": {
        "colab": {
          "base_uri": "https://localhost:8080/"
        },
        "id": "rNdPJkhABYqg",
        "outputId": "cd30e141-b00c-496c-9726-a19d48742b42"
      },
      "outputs": [
        {
          "output_type": "execute_result",
          "data": {
            "text/plain": [
              "(14204, 12)"
            ]
          },
          "metadata": {},
          "execution_count": 6
        }
      ],
      "source": [
        "df.shape # Used for checking the number of rows and columns in the dataframe"
      ]
    },
    {
      "cell_type": "code",
      "execution_count": null,
      "metadata": {
        "colab": {
          "base_uri": "https://localhost:8080/"
        },
        "id": "I4FwnPyPBlLq",
        "outputId": "c2c8bcc0-6c4e-446f-dcae-50863e668a80"
      },
      "outputs": [
        {
          "output_type": "execute_result",
          "data": {
            "text/plain": [
              "Item_Identifier               object\n",
              "Item_Weight                  float64\n",
              "Item_Fat_Content              object\n",
              "Item_Visibility              float64\n",
              "Item_Type                     object\n",
              "Item_MRP                     float64\n",
              "Outlet_Identifier             object\n",
              "Outlet_Establishment_Year      int64\n",
              "Outlet_Size                   object\n",
              "Outlet_Location_Type          object\n",
              "Outlet_Type                   object\n",
              "Item_Outlet_Sales            float64\n",
              "dtype: object"
            ]
          },
          "metadata": {},
          "execution_count": 7
        }
      ],
      "source": [
        "df.dtypes # Used for checking the datatypes of attributes in the dataframe"
      ]
    },
    {
      "cell_type": "code",
      "execution_count": null,
      "metadata": {
        "colab": {
          "base_uri": "https://localhost:8080/"
        },
        "id": "5YXDcVZ5BnuU",
        "outputId": "bc5a0762-0992-4c07-d329-0f5287f786d4"
      },
      "outputs": [
        {
          "output_type": "execute_result",
          "data": {
            "text/plain": [
              "Index(['Item_Identifier', 'Item_Weight', 'Item_Fat_Content', 'Item_Visibility',\n",
              "       'Item_Type', 'Item_MRP', 'Outlet_Identifier',\n",
              "       'Outlet_Establishment_Year', 'Outlet_Size', 'Outlet_Location_Type',\n",
              "       'Outlet_Type', 'Item_Outlet_Sales'],\n",
              "      dtype='object')"
            ]
          },
          "metadata": {},
          "execution_count": 8
        }
      ],
      "source": [
        "df.columns # Used for checking the columns in the dataframe"
      ]
    },
    {
      "cell_type": "code",
      "execution_count": null,
      "metadata": {
        "colab": {
          "base_uri": "https://localhost:8080/"
        },
        "id": "CyfaPgD7BqIn",
        "outputId": "ac53489a-f65d-4704-c457-5e4013908852"
      },
      "outputs": [
        {
          "output_type": "execute_result",
          "data": {
            "text/plain": [
              "<bound method DataFrame.info of       Item_Identifier  Item_Weight Item_Fat_Content  Item_Visibility  \\\n",
              "0               FDA15         9.30          Low Fat         0.016047   \n",
              "1               DRC01         5.92          Regular         0.019278   \n",
              "2               FDN15        17.50          Low Fat         0.016760   \n",
              "3               FDX07        19.20          Regular         0.074402   \n",
              "4               NCD19         8.93          Low Fat         0.064299   \n",
              "...               ...          ...              ...              ...   \n",
              "14199           FDB58        10.50          Regular         0.013496   \n",
              "14200           FDD47         7.60          Regular         0.142991   \n",
              "14201           NCO17        10.00          Low Fat         0.073529   \n",
              "14202           FDJ26        15.30          Regular         0.064709   \n",
              "14203           FDU37         9.50          Regular         0.104720   \n",
              "\n",
              "                   Item_Type  Item_MRP Outlet_Identifier  \\\n",
              "0                      Dairy  249.8092            OUT049   \n",
              "1                Soft Drinks   48.2692            OUT018   \n",
              "2                       Meat  141.6180            OUT049   \n",
              "3      Fruits and Vegetables  182.0950            OUT010   \n",
              "4                  Household   53.8614            OUT013   \n",
              "...                      ...       ...               ...   \n",
              "14199            Snack Foods  141.3154            OUT046   \n",
              "14200          Starchy Foods  169.1448            OUT018   \n",
              "14201     Health and Hygiene  118.7440            OUT045   \n",
              "14202                 Canned  214.6218            OUT017   \n",
              "14203                 Canned   79.7960            OUT045   \n",
              "\n",
              "       Outlet_Establishment_Year Outlet_Size Outlet_Location_Type  \\\n",
              "0                           1999      Medium               Tier 1   \n",
              "1                           2009      Medium               Tier 3   \n",
              "2                           1999      Medium               Tier 1   \n",
              "3                           1998      Medium               Tier 3   \n",
              "4                           1987        High               Tier 3   \n",
              "...                          ...         ...                  ...   \n",
              "14199                       1997       Small               Tier 1   \n",
              "14200                       2009      Medium               Tier 3   \n",
              "14201                       2002       Small               Tier 2   \n",
              "14202                       2007       Small               Tier 2   \n",
              "14203                       2002       Small               Tier 2   \n",
              "\n",
              "             Outlet_Type  Item_Outlet_Sales  \n",
              "0      Supermarket Type1          3735.1380  \n",
              "1      Supermarket Type2           443.4228  \n",
              "2      Supermarket Type1          2097.2700  \n",
              "3          Grocery Store           732.3800  \n",
              "4      Supermarket Type1           994.7052  \n",
              "...                  ...                ...  \n",
              "14199  Supermarket Type1                NaN  \n",
              "14200  Supermarket Type2                NaN  \n",
              "14201  Supermarket Type1                NaN  \n",
              "14202  Supermarket Type1                NaN  \n",
              "14203  Supermarket Type1                NaN  \n",
              "\n",
              "[14204 rows x 12 columns]>"
            ]
          },
          "metadata": {},
          "execution_count": 9
        }
      ],
      "source": [
        "df.info # Used to check the information of whole dataframe."
      ]
    },
    {
      "cell_type": "markdown",
      "source": [
        "Checking For Null values in the dataset"
      ],
      "metadata": {
        "id": "42lxA2l5QmId"
      }
    },
    {
      "cell_type": "code",
      "execution_count": null,
      "metadata": {
        "colab": {
          "base_uri": "https://localhost:8080/"
        },
        "id": "XnKg7on3BsSL",
        "outputId": "d3dc02f4-359d-456b-92b6-289167066a18"
      },
      "outputs": [
        {
          "output_type": "execute_result",
          "data": {
            "text/plain": [
              "Item_Identifier                 0\n",
              "Item_Weight                     0\n",
              "Item_Fat_Content                0\n",
              "Item_Visibility                 0\n",
              "Item_Type                       0\n",
              "Item_MRP                        0\n",
              "Outlet_Identifier               0\n",
              "Outlet_Establishment_Year       0\n",
              "Outlet_Size                     0\n",
              "Outlet_Location_Type            0\n",
              "Outlet_Type                     0\n",
              "Item_Outlet_Sales            5681\n",
              "dtype: int64"
            ]
          },
          "metadata": {},
          "execution_count": 10
        }
      ],
      "source": [
        "df.isnull().sum() # Used for checking the null values in the dataset"
      ]
    },
    {
      "cell_type": "markdown",
      "source": [
        "Interpretation:\n",
        "\n",
        "Here we found that Item_Outlet_Sales contains 5681 missing values.\n",
        "\n",
        "In order to remove those missing values we have to perform missing value treatment "
      ],
      "metadata": {
        "id": "CWl8DHCqQyNa"
      }
    },
    {
      "cell_type": "markdown",
      "source": [
        "Missing Values Treatment"
      ],
      "metadata": {
        "id": "OGfIJOQbRN4F"
      }
    },
    {
      "cell_type": "code",
      "execution_count": null,
      "metadata": {
        "id": "tKzm5171CWF8"
      },
      "outputs": [],
      "source": [
        "#df['Item_Outlet_Sales']=df['Item_Outlet_Sales'].fillna(df['Item_Outlet_Sales'].mean()) # used to replace missing value by taking the mean"
      ]
    },
    {
      "cell_type": "code",
      "source": [
        "df=df.dropna()\n",
        "df"
      ],
      "metadata": {
        "colab": {
          "base_uri": "https://localhost:8080/",
          "height": 661
        },
        "id": "sbbdDTbUE3LF",
        "outputId": "cabaf5a7-8472-4c65-b169-7a39f55c2ad9"
      },
      "execution_count": null,
      "outputs": [
        {
          "output_type": "execute_result",
          "data": {
            "text/plain": [
              "     Item_Identifier  Item_Weight Item_Fat_Content  Item_Visibility  \\\n",
              "0              FDA15        9.300          Low Fat         0.016047   \n",
              "1              DRC01        5.920          Regular         0.019278   \n",
              "2              FDN15       17.500          Low Fat         0.016760   \n",
              "3              FDX07       19.200          Regular         0.074402   \n",
              "4              NCD19        8.930          Low Fat         0.064299   \n",
              "...              ...          ...              ...              ...   \n",
              "8518           FDF22        6.865          Low Fat         0.056783   \n",
              "8519           FDS36        8.380          Regular         0.046982   \n",
              "8520           NCJ29       10.600          Low Fat         0.035186   \n",
              "8521           FDN46        7.210          Regular         0.145221   \n",
              "8522           DRG01       14.800          Low Fat         0.044878   \n",
              "\n",
              "                  Item_Type  Item_MRP Outlet_Identifier  \\\n",
              "0                     Dairy  249.8092            OUT049   \n",
              "1               Soft Drinks   48.2692            OUT018   \n",
              "2                      Meat  141.6180            OUT049   \n",
              "3     Fruits and Vegetables  182.0950            OUT010   \n",
              "4                 Household   53.8614            OUT013   \n",
              "...                     ...       ...               ...   \n",
              "8518            Snack Foods  214.5218            OUT013   \n",
              "8519           Baking Goods  108.1570            OUT045   \n",
              "8520     Health and Hygiene   85.1224            OUT035   \n",
              "8521            Snack Foods  103.1332            OUT018   \n",
              "8522            Soft Drinks   75.4670            OUT046   \n",
              "\n",
              "      Outlet_Establishment_Year Outlet_Size Outlet_Location_Type  \\\n",
              "0                          1999      Medium               Tier 1   \n",
              "1                          2009      Medium               Tier 3   \n",
              "2                          1999      Medium               Tier 1   \n",
              "3                          1998      Medium               Tier 3   \n",
              "4                          1987        High               Tier 3   \n",
              "...                         ...         ...                  ...   \n",
              "8518                       1987        High               Tier 3   \n",
              "8519                       2002       Small               Tier 2   \n",
              "8520                       2004       Small               Tier 2   \n",
              "8521                       2009      Medium               Tier 3   \n",
              "8522                       1997       Small               Tier 1   \n",
              "\n",
              "            Outlet_Type  Item_Outlet_Sales  \n",
              "0     Supermarket Type1          3735.1380  \n",
              "1     Supermarket Type2           443.4228  \n",
              "2     Supermarket Type1          2097.2700  \n",
              "3         Grocery Store           732.3800  \n",
              "4     Supermarket Type1           994.7052  \n",
              "...                 ...                ...  \n",
              "8518  Supermarket Type1          2778.3834  \n",
              "8519  Supermarket Type1           549.2850  \n",
              "8520  Supermarket Type1          1193.1136  \n",
              "8521  Supermarket Type2          1845.5976  \n",
              "8522  Supermarket Type1           765.6700  \n",
              "\n",
              "[8523 rows x 12 columns]"
            ],
            "text/html": [
              "\n",
              "  <div id=\"df-b39a0ba2-47ff-424c-a9dc-d9aa1ef890a2\">\n",
              "    <div class=\"colab-df-container\">\n",
              "      <div>\n",
              "<style scoped>\n",
              "    .dataframe tbody tr th:only-of-type {\n",
              "        vertical-align: middle;\n",
              "    }\n",
              "\n",
              "    .dataframe tbody tr th {\n",
              "        vertical-align: top;\n",
              "    }\n",
              "\n",
              "    .dataframe thead th {\n",
              "        text-align: right;\n",
              "    }\n",
              "</style>\n",
              "<table border=\"1\" class=\"dataframe\">\n",
              "  <thead>\n",
              "    <tr style=\"text-align: right;\">\n",
              "      <th></th>\n",
              "      <th>Item_Identifier</th>\n",
              "      <th>Item_Weight</th>\n",
              "      <th>Item_Fat_Content</th>\n",
              "      <th>Item_Visibility</th>\n",
              "      <th>Item_Type</th>\n",
              "      <th>Item_MRP</th>\n",
              "      <th>Outlet_Identifier</th>\n",
              "      <th>Outlet_Establishment_Year</th>\n",
              "      <th>Outlet_Size</th>\n",
              "      <th>Outlet_Location_Type</th>\n",
              "      <th>Outlet_Type</th>\n",
              "      <th>Item_Outlet_Sales</th>\n",
              "    </tr>\n",
              "  </thead>\n",
              "  <tbody>\n",
              "    <tr>\n",
              "      <th>0</th>\n",
              "      <td>FDA15</td>\n",
              "      <td>9.300</td>\n",
              "      <td>Low Fat</td>\n",
              "      <td>0.016047</td>\n",
              "      <td>Dairy</td>\n",
              "      <td>249.8092</td>\n",
              "      <td>OUT049</td>\n",
              "      <td>1999</td>\n",
              "      <td>Medium</td>\n",
              "      <td>Tier 1</td>\n",
              "      <td>Supermarket Type1</td>\n",
              "      <td>3735.1380</td>\n",
              "    </tr>\n",
              "    <tr>\n",
              "      <th>1</th>\n",
              "      <td>DRC01</td>\n",
              "      <td>5.920</td>\n",
              "      <td>Regular</td>\n",
              "      <td>0.019278</td>\n",
              "      <td>Soft Drinks</td>\n",
              "      <td>48.2692</td>\n",
              "      <td>OUT018</td>\n",
              "      <td>2009</td>\n",
              "      <td>Medium</td>\n",
              "      <td>Tier 3</td>\n",
              "      <td>Supermarket Type2</td>\n",
              "      <td>443.4228</td>\n",
              "    </tr>\n",
              "    <tr>\n",
              "      <th>2</th>\n",
              "      <td>FDN15</td>\n",
              "      <td>17.500</td>\n",
              "      <td>Low Fat</td>\n",
              "      <td>0.016760</td>\n",
              "      <td>Meat</td>\n",
              "      <td>141.6180</td>\n",
              "      <td>OUT049</td>\n",
              "      <td>1999</td>\n",
              "      <td>Medium</td>\n",
              "      <td>Tier 1</td>\n",
              "      <td>Supermarket Type1</td>\n",
              "      <td>2097.2700</td>\n",
              "    </tr>\n",
              "    <tr>\n",
              "      <th>3</th>\n",
              "      <td>FDX07</td>\n",
              "      <td>19.200</td>\n",
              "      <td>Regular</td>\n",
              "      <td>0.074402</td>\n",
              "      <td>Fruits and Vegetables</td>\n",
              "      <td>182.0950</td>\n",
              "      <td>OUT010</td>\n",
              "      <td>1998</td>\n",
              "      <td>Medium</td>\n",
              "      <td>Tier 3</td>\n",
              "      <td>Grocery Store</td>\n",
              "      <td>732.3800</td>\n",
              "    </tr>\n",
              "    <tr>\n",
              "      <th>4</th>\n",
              "      <td>NCD19</td>\n",
              "      <td>8.930</td>\n",
              "      <td>Low Fat</td>\n",
              "      <td>0.064299</td>\n",
              "      <td>Household</td>\n",
              "      <td>53.8614</td>\n",
              "      <td>OUT013</td>\n",
              "      <td>1987</td>\n",
              "      <td>High</td>\n",
              "      <td>Tier 3</td>\n",
              "      <td>Supermarket Type1</td>\n",
              "      <td>994.7052</td>\n",
              "    </tr>\n",
              "    <tr>\n",
              "      <th>...</th>\n",
              "      <td>...</td>\n",
              "      <td>...</td>\n",
              "      <td>...</td>\n",
              "      <td>...</td>\n",
              "      <td>...</td>\n",
              "      <td>...</td>\n",
              "      <td>...</td>\n",
              "      <td>...</td>\n",
              "      <td>...</td>\n",
              "      <td>...</td>\n",
              "      <td>...</td>\n",
              "      <td>...</td>\n",
              "    </tr>\n",
              "    <tr>\n",
              "      <th>8518</th>\n",
              "      <td>FDF22</td>\n",
              "      <td>6.865</td>\n",
              "      <td>Low Fat</td>\n",
              "      <td>0.056783</td>\n",
              "      <td>Snack Foods</td>\n",
              "      <td>214.5218</td>\n",
              "      <td>OUT013</td>\n",
              "      <td>1987</td>\n",
              "      <td>High</td>\n",
              "      <td>Tier 3</td>\n",
              "      <td>Supermarket Type1</td>\n",
              "      <td>2778.3834</td>\n",
              "    </tr>\n",
              "    <tr>\n",
              "      <th>8519</th>\n",
              "      <td>FDS36</td>\n",
              "      <td>8.380</td>\n",
              "      <td>Regular</td>\n",
              "      <td>0.046982</td>\n",
              "      <td>Baking Goods</td>\n",
              "      <td>108.1570</td>\n",
              "      <td>OUT045</td>\n",
              "      <td>2002</td>\n",
              "      <td>Small</td>\n",
              "      <td>Tier 2</td>\n",
              "      <td>Supermarket Type1</td>\n",
              "      <td>549.2850</td>\n",
              "    </tr>\n",
              "    <tr>\n",
              "      <th>8520</th>\n",
              "      <td>NCJ29</td>\n",
              "      <td>10.600</td>\n",
              "      <td>Low Fat</td>\n",
              "      <td>0.035186</td>\n",
              "      <td>Health and Hygiene</td>\n",
              "      <td>85.1224</td>\n",
              "      <td>OUT035</td>\n",
              "      <td>2004</td>\n",
              "      <td>Small</td>\n",
              "      <td>Tier 2</td>\n",
              "      <td>Supermarket Type1</td>\n",
              "      <td>1193.1136</td>\n",
              "    </tr>\n",
              "    <tr>\n",
              "      <th>8521</th>\n",
              "      <td>FDN46</td>\n",
              "      <td>7.210</td>\n",
              "      <td>Regular</td>\n",
              "      <td>0.145221</td>\n",
              "      <td>Snack Foods</td>\n",
              "      <td>103.1332</td>\n",
              "      <td>OUT018</td>\n",
              "      <td>2009</td>\n",
              "      <td>Medium</td>\n",
              "      <td>Tier 3</td>\n",
              "      <td>Supermarket Type2</td>\n",
              "      <td>1845.5976</td>\n",
              "    </tr>\n",
              "    <tr>\n",
              "      <th>8522</th>\n",
              "      <td>DRG01</td>\n",
              "      <td>14.800</td>\n",
              "      <td>Low Fat</td>\n",
              "      <td>0.044878</td>\n",
              "      <td>Soft Drinks</td>\n",
              "      <td>75.4670</td>\n",
              "      <td>OUT046</td>\n",
              "      <td>1997</td>\n",
              "      <td>Small</td>\n",
              "      <td>Tier 1</td>\n",
              "      <td>Supermarket Type1</td>\n",
              "      <td>765.6700</td>\n",
              "    </tr>\n",
              "  </tbody>\n",
              "</table>\n",
              "<p>8523 rows × 12 columns</p>\n",
              "</div>\n",
              "      <button class=\"colab-df-convert\" onclick=\"convertToInteractive('df-b39a0ba2-47ff-424c-a9dc-d9aa1ef890a2')\"\n",
              "              title=\"Convert this dataframe to an interactive table.\"\n",
              "              style=\"display:none;\">\n",
              "        \n",
              "  <svg xmlns=\"http://www.w3.org/2000/svg\" height=\"24px\"viewBox=\"0 0 24 24\"\n",
              "       width=\"24px\">\n",
              "    <path d=\"M0 0h24v24H0V0z\" fill=\"none\"/>\n",
              "    <path d=\"M18.56 5.44l.94 2.06.94-2.06 2.06-.94-2.06-.94-.94-2.06-.94 2.06-2.06.94zm-11 1L8.5 8.5l.94-2.06 2.06-.94-2.06-.94L8.5 2.5l-.94 2.06-2.06.94zm10 10l.94 2.06.94-2.06 2.06-.94-2.06-.94-.94-2.06-.94 2.06-2.06.94z\"/><path d=\"M17.41 7.96l-1.37-1.37c-.4-.4-.92-.59-1.43-.59-.52 0-1.04.2-1.43.59L10.3 9.45l-7.72 7.72c-.78.78-.78 2.05 0 2.83L4 21.41c.39.39.9.59 1.41.59.51 0 1.02-.2 1.41-.59l7.78-7.78 2.81-2.81c.8-.78.8-2.07 0-2.86zM5.41 20L4 18.59l7.72-7.72 1.47 1.35L5.41 20z\"/>\n",
              "  </svg>\n",
              "      </button>\n",
              "      \n",
              "  <style>\n",
              "    .colab-df-container {\n",
              "      display:flex;\n",
              "      flex-wrap:wrap;\n",
              "      gap: 12px;\n",
              "    }\n",
              "\n",
              "    .colab-df-convert {\n",
              "      background-color: #E8F0FE;\n",
              "      border: none;\n",
              "      border-radius: 50%;\n",
              "      cursor: pointer;\n",
              "      display: none;\n",
              "      fill: #1967D2;\n",
              "      height: 32px;\n",
              "      padding: 0 0 0 0;\n",
              "      width: 32px;\n",
              "    }\n",
              "\n",
              "    .colab-df-convert:hover {\n",
              "      background-color: #E2EBFA;\n",
              "      box-shadow: 0px 1px 2px rgba(60, 64, 67, 0.3), 0px 1px 3px 1px rgba(60, 64, 67, 0.15);\n",
              "      fill: #174EA6;\n",
              "    }\n",
              "\n",
              "    [theme=dark] .colab-df-convert {\n",
              "      background-color: #3B4455;\n",
              "      fill: #D2E3FC;\n",
              "    }\n",
              "\n",
              "    [theme=dark] .colab-df-convert:hover {\n",
              "      background-color: #434B5C;\n",
              "      box-shadow: 0px 1px 3px 1px rgba(0, 0, 0, 0.15);\n",
              "      filter: drop-shadow(0px 1px 2px rgba(0, 0, 0, 0.3));\n",
              "      fill: #FFFFFF;\n",
              "    }\n",
              "  </style>\n",
              "\n",
              "      <script>\n",
              "        const buttonEl =\n",
              "          document.querySelector('#df-b39a0ba2-47ff-424c-a9dc-d9aa1ef890a2 button.colab-df-convert');\n",
              "        buttonEl.style.display =\n",
              "          google.colab.kernel.accessAllowed ? 'block' : 'none';\n",
              "\n",
              "        async function convertToInteractive(key) {\n",
              "          const element = document.querySelector('#df-b39a0ba2-47ff-424c-a9dc-d9aa1ef890a2');\n",
              "          const dataTable =\n",
              "            await google.colab.kernel.invokeFunction('convertToInteractive',\n",
              "                                                     [key], {});\n",
              "          if (!dataTable) return;\n",
              "\n",
              "          const docLinkHtml = 'Like what you see? Visit the ' +\n",
              "            '<a target=\"_blank\" href=https://colab.research.google.com/notebooks/data_table.ipynb>data table notebook</a>'\n",
              "            + ' to learn more about interactive tables.';\n",
              "          element.innerHTML = '';\n",
              "          dataTable['output_type'] = 'display_data';\n",
              "          await google.colab.output.renderOutput(dataTable, element);\n",
              "          const docLink = document.createElement('div');\n",
              "          docLink.innerHTML = docLinkHtml;\n",
              "          element.appendChild(docLink);\n",
              "        }\n",
              "      </script>\n",
              "    </div>\n",
              "  </div>\n",
              "  "
            ]
          },
          "metadata": {},
          "execution_count": 12
        }
      ]
    },
    {
      "cell_type": "code",
      "execution_count": null,
      "metadata": {
        "colab": {
          "base_uri": "https://localhost:8080/"
        },
        "id": "hUr7dvr_CvBe",
        "outputId": "e5d7ea73-978c-4893-a9f3-d93337266038"
      },
      "outputs": [
        {
          "output_type": "execute_result",
          "data": {
            "text/plain": [
              "Item_Identifier              0\n",
              "Item_Weight                  0\n",
              "Item_Fat_Content             0\n",
              "Item_Visibility              0\n",
              "Item_Type                    0\n",
              "Item_MRP                     0\n",
              "Outlet_Identifier            0\n",
              "Outlet_Establishment_Year    0\n",
              "Outlet_Size                  0\n",
              "Outlet_Location_Type         0\n",
              "Outlet_Type                  0\n",
              "Item_Outlet_Sales            0\n",
              "dtype: int64"
            ]
          },
          "metadata": {},
          "execution_count": 13
        }
      ],
      "source": [
        "df.isnull().sum()"
      ]
    },
    {
      "cell_type": "markdown",
      "source": [
        "Interpretation:\n",
        "\n",
        "So here we find that there are no missing values present in the dataset \n",
        "\n",
        "As we have performed missing value treatment on that particular column in which the missing values were present."
      ],
      "metadata": {
        "id": "mGlUjVogRX6u"
      }
    },
    {
      "cell_type": "code",
      "execution_count": null,
      "metadata": {
        "colab": {
          "base_uri": "https://localhost:8080/",
          "height": 300
        },
        "id": "eyWrDbR6CyLA",
        "outputId": "44163e5c-ef90-460f-a0ca-9acc927f573b"
      },
      "outputs": [
        {
          "output_type": "execute_result",
          "data": {
            "text/plain": [
              "       Item_Weight  Item_Visibility     Item_MRP  Outlet_Establishment_Year  \\\n",
              "count  8523.000000      8523.000000  8523.000000                8523.000000   \n",
              "mean     12.873623         0.070479   140.992782                1997.831867   \n",
              "std       4.645893         0.048761    62.275067                   8.371760   \n",
              "min       4.555000         0.003575    31.290000                1985.000000   \n",
              "25%       8.785000         0.033085    93.826500                1987.000000   \n",
              "50%      12.600000         0.062517   143.012800                1999.000000   \n",
              "75%      16.850000         0.094585   185.643700                2004.000000   \n",
              "max      21.350000         0.328391   266.888400                2009.000000   \n",
              "\n",
              "       Item_Outlet_Sales  \n",
              "count        8523.000000  \n",
              "mean         2181.288914  \n",
              "std          1706.499616  \n",
              "min            33.290000  \n",
              "25%           834.247400  \n",
              "50%          1794.331000  \n",
              "75%          3101.296400  \n",
              "max         13086.964800  "
            ],
            "text/html": [
              "\n",
              "  <div id=\"df-87422018-37f3-4c90-8566-14c407a7be44\">\n",
              "    <div class=\"colab-df-container\">\n",
              "      <div>\n",
              "<style scoped>\n",
              "    .dataframe tbody tr th:only-of-type {\n",
              "        vertical-align: middle;\n",
              "    }\n",
              "\n",
              "    .dataframe tbody tr th {\n",
              "        vertical-align: top;\n",
              "    }\n",
              "\n",
              "    .dataframe thead th {\n",
              "        text-align: right;\n",
              "    }\n",
              "</style>\n",
              "<table border=\"1\" class=\"dataframe\">\n",
              "  <thead>\n",
              "    <tr style=\"text-align: right;\">\n",
              "      <th></th>\n",
              "      <th>Item_Weight</th>\n",
              "      <th>Item_Visibility</th>\n",
              "      <th>Item_MRP</th>\n",
              "      <th>Outlet_Establishment_Year</th>\n",
              "      <th>Item_Outlet_Sales</th>\n",
              "    </tr>\n",
              "  </thead>\n",
              "  <tbody>\n",
              "    <tr>\n",
              "      <th>count</th>\n",
              "      <td>8523.000000</td>\n",
              "      <td>8523.000000</td>\n",
              "      <td>8523.000000</td>\n",
              "      <td>8523.000000</td>\n",
              "      <td>8523.000000</td>\n",
              "    </tr>\n",
              "    <tr>\n",
              "      <th>mean</th>\n",
              "      <td>12.873623</td>\n",
              "      <td>0.070479</td>\n",
              "      <td>140.992782</td>\n",
              "      <td>1997.831867</td>\n",
              "      <td>2181.288914</td>\n",
              "    </tr>\n",
              "    <tr>\n",
              "      <th>std</th>\n",
              "      <td>4.645893</td>\n",
              "      <td>0.048761</td>\n",
              "      <td>62.275067</td>\n",
              "      <td>8.371760</td>\n",
              "      <td>1706.499616</td>\n",
              "    </tr>\n",
              "    <tr>\n",
              "      <th>min</th>\n",
              "      <td>4.555000</td>\n",
              "      <td>0.003575</td>\n",
              "      <td>31.290000</td>\n",
              "      <td>1985.000000</td>\n",
              "      <td>33.290000</td>\n",
              "    </tr>\n",
              "    <tr>\n",
              "      <th>25%</th>\n",
              "      <td>8.785000</td>\n",
              "      <td>0.033085</td>\n",
              "      <td>93.826500</td>\n",
              "      <td>1987.000000</td>\n",
              "      <td>834.247400</td>\n",
              "    </tr>\n",
              "    <tr>\n",
              "      <th>50%</th>\n",
              "      <td>12.600000</td>\n",
              "      <td>0.062517</td>\n",
              "      <td>143.012800</td>\n",
              "      <td>1999.000000</td>\n",
              "      <td>1794.331000</td>\n",
              "    </tr>\n",
              "    <tr>\n",
              "      <th>75%</th>\n",
              "      <td>16.850000</td>\n",
              "      <td>0.094585</td>\n",
              "      <td>185.643700</td>\n",
              "      <td>2004.000000</td>\n",
              "      <td>3101.296400</td>\n",
              "    </tr>\n",
              "    <tr>\n",
              "      <th>max</th>\n",
              "      <td>21.350000</td>\n",
              "      <td>0.328391</td>\n",
              "      <td>266.888400</td>\n",
              "      <td>2009.000000</td>\n",
              "      <td>13086.964800</td>\n",
              "    </tr>\n",
              "  </tbody>\n",
              "</table>\n",
              "</div>\n",
              "      <button class=\"colab-df-convert\" onclick=\"convertToInteractive('df-87422018-37f3-4c90-8566-14c407a7be44')\"\n",
              "              title=\"Convert this dataframe to an interactive table.\"\n",
              "              style=\"display:none;\">\n",
              "        \n",
              "  <svg xmlns=\"http://www.w3.org/2000/svg\" height=\"24px\"viewBox=\"0 0 24 24\"\n",
              "       width=\"24px\">\n",
              "    <path d=\"M0 0h24v24H0V0z\" fill=\"none\"/>\n",
              "    <path d=\"M18.56 5.44l.94 2.06.94-2.06 2.06-.94-2.06-.94-.94-2.06-.94 2.06-2.06.94zm-11 1L8.5 8.5l.94-2.06 2.06-.94-2.06-.94L8.5 2.5l-.94 2.06-2.06.94zm10 10l.94 2.06.94-2.06 2.06-.94-2.06-.94-.94-2.06-.94 2.06-2.06.94z\"/><path d=\"M17.41 7.96l-1.37-1.37c-.4-.4-.92-.59-1.43-.59-.52 0-1.04.2-1.43.59L10.3 9.45l-7.72 7.72c-.78.78-.78 2.05 0 2.83L4 21.41c.39.39.9.59 1.41.59.51 0 1.02-.2 1.41-.59l7.78-7.78 2.81-2.81c.8-.78.8-2.07 0-2.86zM5.41 20L4 18.59l7.72-7.72 1.47 1.35L5.41 20z\"/>\n",
              "  </svg>\n",
              "      </button>\n",
              "      \n",
              "  <style>\n",
              "    .colab-df-container {\n",
              "      display:flex;\n",
              "      flex-wrap:wrap;\n",
              "      gap: 12px;\n",
              "    }\n",
              "\n",
              "    .colab-df-convert {\n",
              "      background-color: #E8F0FE;\n",
              "      border: none;\n",
              "      border-radius: 50%;\n",
              "      cursor: pointer;\n",
              "      display: none;\n",
              "      fill: #1967D2;\n",
              "      height: 32px;\n",
              "      padding: 0 0 0 0;\n",
              "      width: 32px;\n",
              "    }\n",
              "\n",
              "    .colab-df-convert:hover {\n",
              "      background-color: #E2EBFA;\n",
              "      box-shadow: 0px 1px 2px rgba(60, 64, 67, 0.3), 0px 1px 3px 1px rgba(60, 64, 67, 0.15);\n",
              "      fill: #174EA6;\n",
              "    }\n",
              "\n",
              "    [theme=dark] .colab-df-convert {\n",
              "      background-color: #3B4455;\n",
              "      fill: #D2E3FC;\n",
              "    }\n",
              "\n",
              "    [theme=dark] .colab-df-convert:hover {\n",
              "      background-color: #434B5C;\n",
              "      box-shadow: 0px 1px 3px 1px rgba(0, 0, 0, 0.15);\n",
              "      filter: drop-shadow(0px 1px 2px rgba(0, 0, 0, 0.3));\n",
              "      fill: #FFFFFF;\n",
              "    }\n",
              "  </style>\n",
              "\n",
              "      <script>\n",
              "        const buttonEl =\n",
              "          document.querySelector('#df-87422018-37f3-4c90-8566-14c407a7be44 button.colab-df-convert');\n",
              "        buttonEl.style.display =\n",
              "          google.colab.kernel.accessAllowed ? 'block' : 'none';\n",
              "\n",
              "        async function convertToInteractive(key) {\n",
              "          const element = document.querySelector('#df-87422018-37f3-4c90-8566-14c407a7be44');\n",
              "          const dataTable =\n",
              "            await google.colab.kernel.invokeFunction('convertToInteractive',\n",
              "                                                     [key], {});\n",
              "          if (!dataTable) return;\n",
              "\n",
              "          const docLinkHtml = 'Like what you see? Visit the ' +\n",
              "            '<a target=\"_blank\" href=https://colab.research.google.com/notebooks/data_table.ipynb>data table notebook</a>'\n",
              "            + ' to learn more about interactive tables.';\n",
              "          element.innerHTML = '';\n",
              "          dataTable['output_type'] = 'display_data';\n",
              "          await google.colab.output.renderOutput(dataTable, element);\n",
              "          const docLink = document.createElement('div');\n",
              "          docLink.innerHTML = docLinkHtml;\n",
              "          element.appendChild(docLink);\n",
              "        }\n",
              "      </script>\n",
              "    </div>\n",
              "  </div>\n",
              "  "
            ]
          },
          "metadata": {},
          "execution_count": 14
        }
      ],
      "source": [
        "df.describe() # Used to get mean,meadian,mode,max,min of all numerical data"
      ]
    },
    {
      "cell_type": "code",
      "source": [
        "# Item_Weight is numerical column so we fill it with Mean Imputation"
      ],
      "metadata": {
        "id": "5mFgzJ6VeuHo"
      },
      "execution_count": null,
      "outputs": []
    },
    {
      "cell_type": "code",
      "source": [
        "df['Item_Weight'].describe()"
      ],
      "metadata": {
        "colab": {
          "base_uri": "https://localhost:8080/"
        },
        "id": "2p8BWeP5e5RD",
        "outputId": "95591de4-798b-4073-93f1-8115327462f5"
      },
      "execution_count": null,
      "outputs": [
        {
          "output_type": "execute_result",
          "data": {
            "text/plain": [
              "count    8523.000000\n",
              "mean       12.873623\n",
              "std         4.645893\n",
              "min         4.555000\n",
              "25%         8.785000\n",
              "50%        12.600000\n",
              "75%        16.850000\n",
              "max        21.350000\n",
              "Name: Item_Weight, dtype: float64"
            ]
          },
          "metadata": {},
          "execution_count": 16
        }
      ]
    },
    {
      "cell_type": "code",
      "source": [],
      "metadata": {
        "id": "9o-h0V7UfLte"
      },
      "execution_count": null,
      "outputs": []
    },
    {
      "cell_type": "code",
      "execution_count": null,
      "metadata": {
        "colab": {
          "base_uri": "https://localhost:8080/"
        },
        "id": "HZLz35eoC1qn",
        "outputId": "39d32011-2b33-41d9-95cc-1592f039f3d8"
      },
      "outputs": [
        {
          "output_type": "execute_result",
          "data": {
            "text/plain": [
              "Item_Identifier               object\n",
              "Item_Weight                  float64\n",
              "Item_Fat_Content              object\n",
              "Item_Visibility              float64\n",
              "Item_Type                     object\n",
              "Item_MRP                     float64\n",
              "Outlet_Identifier             object\n",
              "Outlet_Establishment_Year      int64\n",
              "Outlet_Size                   object\n",
              "Outlet_Location_Type          object\n",
              "Outlet_Type                   object\n",
              "Item_Outlet_Sales            float64\n",
              "dtype: object"
            ]
          },
          "metadata": {},
          "execution_count": 17
        }
      ],
      "source": [
        "df.dtypes # Checking the datatype of each column"
      ]
    },
    {
      "cell_type": "markdown",
      "metadata": {
        "id": "ZVsNRT4yAyI7"
      },
      "source": [
        "1.1)Univariate Analysis:"
      ]
    },
    {
      "cell_type": "markdown",
      "source": [
        "Univariate Analysis is used to check correlation considering only single column in the dataset"
      ],
      "metadata": {
        "id": "fLAjrdTLSDxs"
      }
    },
    {
      "cell_type": "markdown",
      "metadata": {
        "id": "RTVWVxNTA5Iv"
      },
      "source": [
        "Analyzing each features using graph."
      ]
    },
    {
      "cell_type": "markdown",
      "source": [
        "Univariate Analysis on categorical columns"
      ],
      "metadata": {
        "id": "lQwMjkJv1a_p"
      }
    },
    {
      "cell_type": "code",
      "source": [
        "def info_of_cat(col): \n",
        "    print(f\"Unique values in {col} are: {df[col].unique()}\") # unique: returns the unique values in the col\n",
        "    print(f\"Mode of {col} is {df[col].mode()[0]}\")  # mode: returns the mode of the column\n",
        "    print(f\"Number of missing values in {col} is {df[col].isnull().sum()}\") # isnull().sum() counts the number of null in dataframe\n",
        "    if df[col].isnull().sum() > 0:  # check if null values are present\n",
        "        print(f\"\\nThere are null values in the {col} column\")"
      ],
      "metadata": {
        "id": "LnWYuba91WlG"
      },
      "execution_count": null,
      "outputs": []
    },
    {
      "cell_type": "markdown",
      "source": [
        "Analysis of Item_Fat_Content  "
      ],
      "metadata": {
        "id": "7ZK9tKWz2Gbw"
      }
    },
    {
      "cell_type": "code",
      "source": [
        "info_of_cat(\"Item_Fat_Content\") #function returns all the information required for the level 1 analysis"
      ],
      "metadata": {
        "colab": {
          "base_uri": "https://localhost:8080/"
        },
        "id": "3lkKJuAx2Ou2",
        "outputId": "4e6b1db6-f02e-4241-95fd-1bf88f31d069"
      },
      "execution_count": null,
      "outputs": [
        {
          "output_type": "stream",
          "name": "stdout",
          "text": [
            "Unique values in Item_Fat_Content are: ['Low Fat' 'Regular']\n",
            "Mode of Item_Fat_Content is Low Fat\n",
            "Number of missing values in Item_Fat_Content is 0\n"
          ]
        }
      ]
    },
    {
      "cell_type": "code",
      "source": [
        "fig, ax = plt.subplots(1, 2, figsize = (15, 7))\n",
        "ax[0].set_title(\"Count of Item_Fat_Content\")                  # Set the title of the graph\n",
        "percentage = df[\"Item_Fat_Content\"].value_counts()         # value_counts: returns the count of values in series: return series\n",
        "labels = list(df[\"Item_Fat_Content\"].value_counts().index) # Converting the index of value counts into list\n",
        "\n",
        "sb.countplot(x = df[\"Item_Fat_Content\"], ax = ax[0])\n",
        "plt.pie(percentage,labels = labels, autopct= \"%0.2f%%\")  # autopct: to print the percentage on pie wedge. 2 decimal points used "
      ],
      "metadata": {
        "colab": {
          "base_uri": "https://localhost:8080/",
          "height": 563
        },
        "id": "6P_3k0ep2SOa",
        "outputId": "dca2217c-c14e-4d86-fdd1-b97bfc192ee4"
      },
      "execution_count": null,
      "outputs": [
        {
          "output_type": "execute_result",
          "data": {
            "text/plain": [
              "([<matplotlib.patches.Wedge at 0x7f29e1d165e0>,\n",
              "  <matplotlib.patches.Wedge at 0x7f29e1cb7100>],\n",
              " [Text(-0.49108062250385487, 0.9842966129176849, 'Low Fat'),\n",
              "  Text(0.4910806225038548, -0.9842966129176849, 'Regular')],\n",
              " [Text(-0.2678621577293753, 0.5368890615914644, '64.73%'),\n",
              "  Text(0.2678621577293753, -0.5368890615914644, '35.27%')])"
            ]
          },
          "metadata": {},
          "execution_count": 20
        },
        {
          "output_type": "display_data",
          "data": {
            "text/plain": [
              "<Figure size 1080x504 with 2 Axes>"
            ],
            "image/png": "[encoded data removed]"
          },
          "metadata": {
            "needs_background": "light"
          }
        }
      ]
    },
    {
      "cell_type": "markdown",
      "source": [
        "Interpretation:\n",
        "\n",
        "1)Item_Fat_Content which consist of two features: Low Fat and Regular\n",
        "\n",
        "2) From the pie chart and countplot we can notice that low fat content food products are sold most as compared to the regular food products.\n",
        "\n",
        "3) So from the analysis we can make out that customers prefer to buy more low fat content food products as compared to regular food products.\n",
        "\n",
        "4) Low fat content food products should be more recommended to the customers in order to increase the sales of the stores.\n"
      ],
      "metadata": {
        "id": "j-hRufjI3FHu"
      }
    },
    {
      "cell_type": "markdown",
      "source": [
        "Analysis of Item_Type  "
      ],
      "metadata": {
        "id": "aaeSBcS-3HDC"
      }
    },
    {
      "cell_type": "code",
      "source": [
        "info_of_cat(\"Item_Type\") #function returns all the information required for the level 1 analysis"
      ],
      "metadata": {
        "colab": {
          "base_uri": "https://localhost:8080/"
        },
        "id": "Yvgy8eGn3NcU",
        "outputId": "4ed1e06b-ac81-481e-cffe-d005f59d7ca0"
      },
      "execution_count": null,
      "outputs": [
        {
          "output_type": "stream",
          "name": "stdout",
          "text": [
            "Unique values in Item_Type are: ['Dairy' 'Soft Drinks' 'Meat' 'Fruits and Vegetables' 'Household'\n",
            " 'Baking Goods' 'Snack Foods' 'Frozen Foods' 'Breakfast'\n",
            " 'Health and Hygiene' 'Hard Drinks' 'Canned' 'Breads' 'Starchy Foods'\n",
            " 'Others' 'Seafood']\n",
            "Mode of Item_Type is Fruits and Vegetables\n",
            "Number of missing values in Item_Type is 0\n"
          ]
        }
      ]
    },
    {
      "cell_type": "code",
      "source": [
        "fig, ax = plt.subplots(1, 2, figsize = (15, 7))\n",
        "ax[0].set_title(\"Count of Item_Type\")                  # Set the title of the graph\n",
        "percentage = df[\"Item_Type\"].value_counts()         # value_counts: returns the count of values in series: return series\n",
        "labels = list(df[\"Item_Type\"].value_counts().index) # Converting the index of value counts into list\n",
        "\n",
        "sb.countplot(x = df[\"Item_Type\"], ax = ax[0],order=['Dairy','Soft Drinks','Meat','Fruits and Vegetables','Household',\n",
        " 'Baking Goods','Snack Foods','Frozen Foods','Breakfast',\n",
        " 'Health and Hygiene','Hard Drinks','Canned','Breads','Starchy Foods',\n",
        " 'Others','Seafood'])\n",
        "plt.pie(percentage,labels = labels, autopct= \"%0.2f%%\")  # autopct: to print the percentage on pie wedge. 2 decimal points used "
      ],
      "metadata": {
        "colab": {
          "base_uri": "https://localhost:8080/",
          "height": 1000
        },
        "id": "UB0N41a_3QhS",
        "outputId": "ee038142-d00b-4394-fb5e-903c3ccdb718"
      },
      "execution_count": null,
      "outputs": [
        {
          "output_type": "execute_result",
          "data": {
            "text/plain": [
              "([<matplotlib.patches.Wedge at 0x7f29e1820910>,\n",
              "  <matplotlib.patches.Wedge at 0x7f29e1820ee0>,\n",
              "  <matplotlib.patches.Wedge at 0x7f29e17aa5b0>,\n",
              "  <matplotlib.patches.Wedge at 0x7f29e1d53400>,\n",
              "  <matplotlib.patches.Wedge at 0x7f29e176a7f0>,\n",
              "  <matplotlib.patches.Wedge at 0x7f29e1773910>,\n",
              "  <matplotlib.patches.Wedge at 0x7f29e1773dc0>,\n",
              "  <matplotlib.patches.Wedge at 0x7f29e178b490>,\n",
              "  <matplotlib.patches.Wedge at 0x7f29e178bb20>,\n",
              "  <matplotlib.patches.Wedge at 0x7f29e17971f0>,\n",
              "  <matplotlib.patches.Wedge at 0x7f29e18209a0>,\n",
              "  <matplotlib.patches.Wedge at 0x7f29e1797ee0>,\n",
              "  <matplotlib.patches.Wedge at 0x7f29e17235b0>,\n",
              "  <matplotlib.patches.Wedge at 0x7f29e1723c40>,\n",
              "  <matplotlib.patches.Wedge at 0x7f29e1731310>,\n",
              "  <matplotlib.patches.Wedge at 0x7f29e17319a0>],\n",
              " [Text(0.9885134290668446, 0.4825362168319687, 'Fruits and Vegetables'),\n",
              "  Text(0.24030971243089047, 1.0734296633274967, 'Snack Foods'),\n",
              "  Text(-0.5819825343166728, 0.9334325523305597, 'Household'),\n",
              "  Text(-1.0285786969861261, 0.3899049423979169, 'Frozen Foods'),\n",
              "  Text(-1.077062377695873, -0.22346506338153288, 'Dairy'),\n",
              "  Text(-0.8447302131430985, -0.7045785030805407, 'Canned'),\n",
              "  Text(-0.42586341218777557, -1.0142190858782856, 'Baking Goods'),\n",
              "  Text(0.03628228530275769, -1.099401471607715, 'Health and Hygiene'),\n",
              "  Text(0.4168746716474865, -1.0179467118365286, 'Soft Drinks'),\n",
              "  Text(0.716494856094164, -0.83464670441487, 'Meat'),\n",
              "  Text(0.900194282333554, -0.6321789731191458, 'Breads'),\n",
              "  Text(0.994829306903044, -0.46937687429911723, 'Hard Drinks'),\n",
              "  Text(1.0509763124562066, -0.3247287955447658, 'Others'),\n",
              "  Text(1.0816671190247293, -0.19999060883137015, 'Starchy Foods'),\n",
              "  Text(1.0957698794777586, -0.0963761963832281, 'Breakfast'),\n",
              "  Text(1.0996939326750943, -0.025947147002808594, 'Seafood')],\n",
              " [Text(0.5391891431273697, 0.26320157281743745, '14.46%'),\n",
              "  Text(0.13107802496230386, 0.5855070890877254, '14.08%'),\n",
              "  Text(-0.3174450187181851, 0.5091450285439416, '10.68%'),\n",
              "  Text(-0.561042925628796, 0.2126754231261365, '10.04%'),\n",
              "  Text(-0.5874885696522943, -0.12189003457174519, '8.00%'),\n",
              "  Text(-0.46076193444169, -0.38431554713484034, '7.61%'),\n",
              "  Text(-0.23228913392060482, -0.5532104104790647, '7.60%'),\n",
              "  Text(0.019790337437867827, -0.5996735299678445, '6.10%'),\n",
              "  Text(0.2273861845349926, -0.5552436610017428, '5.22%'),\n",
              "  Text(0.39081537605136213, -0.4552618387717472, '4.99%'),\n",
              "  Text(0.49101506309102944, -0.34482489442862496, '2.94%'),\n",
              "  Text(0.5426341674016604, -0.25602374961770025, '2.51%'),\n",
              "  Text(0.5732598067942944, -0.17712479756987223, '1.98%'),\n",
              "  Text(0.5900002467407615, -0.1090857866352928, '1.74%'),\n",
              "  Text(0.5976926615333228, -0.052568834390851686, '1.29%'),\n",
              "  Text(0.599833054186415, -0.014152989274259231, '0.75%')])"
            ]
          },
          "metadata": {},
          "execution_count": 22
        },
        {
          "output_type": "display_data",
          "data": {
            "text/plain": [
              "<Figure size 1080x504 with 2 Axes>"
            ],
            "image/png": "[encoded data removed]"
          },
          "metadata": {
            "needs_background": "light"
          }
        }
      ]
    },
    {
      "cell_type": "markdown",
      "source": [
        "Interpretation:\n",
        "\n",
        "From the pie chart and countplot we understand that out of the total food products\n",
        "\n",
        "1) 14% customers wish to buy snack food\n",
        "\n",
        "2) 14.17% customers wish to buy fruits and vegetables\n",
        "\n",
        "3) 10.90% customers wish to buy household products\n",
        "\n",
        "4) 10.04% customers wish to buy frozen food\n",
        "\n",
        "5) 8% customers wish to buy dairy products\n",
        "\n",
        "6) 7.65% customers wish to buy baking goods\n",
        "\n",
        "7) 7.63% customers wish to buy canned\n",
        "\n",
        "8) 6.04% customers wish to buy health and hygiene products\n",
        "\n",
        "9) 5.18% customers wish to buy meat\n",
        "\n",
        "10) 5.11% customers wish to buy soft drinks\n",
        "\n",
        "11) 2.93% customers wish to buy breads\n",
        "\n",
        "12) 2.55% customers wish to buy hard drinks\n",
        "\n",
        "13) 1.89% customers wish to buy starchy food\n",
        "\n",
        "14) 1.21% customers wish to buy breakfast \n",
        "\n",
        "15) 0.63% customers wish to buy seafood\n",
        "\n",
        "16) 1.97% are other\n",
        "\n",
        "So from the above analysis we can focus to recommend products like fruits and vegetables, household, snack foods, frozen foods in order to increase the sales of the stores"
      ],
      "metadata": {
        "id": "zk5Ln7oox4K7"
      }
    },
    {
      "cell_type": "markdown",
      "source": [
        "Analysis of Outlet_Identifier"
      ],
      "metadata": {
        "id": "RmcHTw0sJzoH"
      }
    },
    {
      "cell_type": "code",
      "source": [
        "info_of_cat(\"Outlet_Identifier\") #function returns all the information required for the level 1 analysis"
      ],
      "metadata": {
        "colab": {
          "base_uri": "https://localhost:8080/"
        },
        "id": "Xg1I1N1OJ7AZ",
        "outputId": "3c45a10a-3a47-4732-d829-80a857615112"
      },
      "execution_count": null,
      "outputs": [
        {
          "output_type": "stream",
          "name": "stdout",
          "text": [
            "Unique values in Outlet_Identifier are: ['OUT049' 'OUT018' 'OUT010' 'OUT013' 'OUT027' 'OUT045' 'OUT017' 'OUT046'\n",
            " 'OUT035' 'OUT019']\n",
            "Mode of Outlet_Identifier is OUT027\n",
            "Number of missing values in Outlet_Identifier is 0\n"
          ]
        }
      ]
    },
    {
      "cell_type": "code",
      "source": [
        "fig, ax = plt.subplots(1, 2, figsize = (15, 7))\n",
        "ax[0].set_title(\"Count of Outlet_Identifier\")                  # Set the title of the graph\n",
        "percentage = df[\"Outlet_Identifier\"].value_counts()         # value_counts: returns the count of values in series: return series\n",
        "labels = list(df[\"Outlet_Identifier\"].value_counts().index) # Converting the index of value counts into list\n",
        "\n",
        "sb.countplot(x = df[\"Outlet_Identifier\"], ax = ax[0],order=['OUT049','OUT018','OUT010','OUT013','OUT027','OUT045','OUT017','OUT046','OUT035','OUT019'])\n",
        "plt.pie(percentage,labels = labels, autopct= \"%0.2f%%\")  # autopct: to print the percentage on pie wedge. 2 decimal points used "
      ],
      "metadata": {
        "colab": {
          "base_uri": "https://localhost:8080/",
          "height": 980
        },
        "id": "ov899HAxJ_Os",
        "outputId": "95dbc63c-937d-49ed-e2c0-813167553a0a"
      },
      "execution_count": null,
      "outputs": [
        {
          "output_type": "execute_result",
          "data": {
            "text/plain": [
              "([<matplotlib.patches.Wedge at 0x7f29dfe64850>,\n",
              "  <matplotlib.patches.Wedge at 0x7f29dfe64f10>,\n",
              "  <matplotlib.patches.Wedge at 0x7f29dfe6f5b0>,\n",
              "  <matplotlib.patches.Wedge at 0x7f29dfe9a880>,\n",
              "  <matplotlib.patches.Wedge at 0x7f29dfe94a00>,\n",
              "  <matplotlib.patches.Wedge at 0x7f29dfe9aee0>,\n",
              "  <matplotlib.patches.Wedge at 0x7f29dfe2d5b0>,\n",
              "  <matplotlib.patches.Wedge at 0x7f29dfe2dc40>,\n",
              "  <matplotlib.patches.Wedge at 0x7f29dfe3b310>,\n",
              "  <matplotlib.patches.Wedge at 0x7f29dfe3b9a0>],\n",
              " [Text(1.0353158826953575, 0.3716463682571552, 'OUT027'),\n",
              "  Text(0.5636371939712413, 0.9446232654197255, 'OUT013'),\n",
              "  Text(-0.1626003501822241, 1.0879159554490494, 'OUT049'),\n",
              "  Text(-0.8146589488220127, 0.7391419329900134, 'OUT046'),\n",
              "  Text(-1.0985565152427912, 0.056334561484183455, 'OUT035'),\n",
              "  Text(-0.8862341830911599, -0.6516049207309171, 'OUT045'),\n",
              "  Text(-0.27460341022002466, -1.065172740495894, 'OUT018'),\n",
              "  Text(0.4596371754121952, -0.9993666329126158, 'OUT017'),\n",
              "  Text(0.9116918357586955, -0.6154819222454384, 'OUT010'),\n",
              "  Text(1.0792329826356122, -0.21273497406736053, 'OUT019')],\n",
              " [Text(0.5647177541974676, 0.20271620086753916, '10.97%'),\n",
              "  Text(0.3074384694388589, 0.5152490538653048, '10.94%'),\n",
              "  Text(-0.08869110009939495, 0.5934087029722087, '10.91%'),\n",
              "  Text(-0.44435942663018874, 0.4031683270854618, '10.91%'),\n",
              "  Text(-0.599212644677886, 0.030727942627736426, '10.91%'),\n",
              "  Text(-0.4834004635042689, -0.35542086585322746, '10.90%'),\n",
              "  Text(-0.14978367830183162, -0.5810033129977603, '10.89%'),\n",
              "  Text(0.2507111865884701, -0.5451090724977904, '10.86%'),\n",
              "  Text(0.49728645586837933, -0.33571741213387546, '6.51%'),\n",
              "  Text(0.5886725359830611, -0.11603725858219664, '6.20%')])"
            ]
          },
          "metadata": {},
          "execution_count": 24
        },
        {
          "output_type": "display_data",
          "data": {
            "text/plain": [
              "<Figure size 1080x504 with 2 Axes>"
            ],
            "image/png": "[encoded data removed]"
          },
          "metadata": {
            "needs_background": "light"
          }
        }
      ]
    },
    {
      "cell_type": "markdown",
      "source": [
        "Interpretation\n",
        "\n",
        "There are ten stores that have been identified from the graph.\n",
        "\n",
        "Here, two of the outlets(OUT010 and OUT019) have lesser sales. \n",
        "\n",
        "The highest sales is at OUT027. "
      ],
      "metadata": {
        "id": "nxY6ekPk4wCP"
      }
    },
    {
      "cell_type": "markdown",
      "source": [
        "Analysis of Outlet_Size  "
      ],
      "metadata": {
        "id": "75s3nLAnKLsD"
      }
    },
    {
      "cell_type": "code",
      "source": [
        "info_of_cat(\"Outlet_Size\") #function returns all the information required for the level 1 analysis"
      ],
      "metadata": {
        "colab": {
          "base_uri": "https://localhost:8080/"
        },
        "id": "eohM_1-_K5Da",
        "outputId": "924dec70-47a1-409d-fc3a-e0d34ec9ab9e"
      },
      "execution_count": null,
      "outputs": [
        {
          "output_type": "stream",
          "name": "stdout",
          "text": [
            "Unique values in Outlet_Size are: ['Medium' 'High' 'Small']\n",
            "Mode of Outlet_Size is Small\n",
            "Number of missing values in Outlet_Size is 0\n"
          ]
        }
      ]
    },
    {
      "cell_type": "code",
      "source": [
        "fig, ax = plt.subplots(1, 2, figsize = (15, 7))\n",
        "ax[0].set_title(\"Count of Outlet_Size\")                  # Set the title of the graph\n",
        "percentage = df[\"Outlet_Size\"].value_counts()         # value_counts: returns the count of values in series: return series\n",
        "labels = list(df[\"Outlet_Size\"].value_counts().index) # Converting the index of value counts into list\n",
        "\n",
        "sb.countplot(x = df[\"Outlet_Size\"], ax = ax[0],order=['Medium','High','Small'])\n",
        "plt.pie(percentage,labels = labels, autopct= \"%0.02f%%\")  # autopct: to print the percentage on pie wedge. 2 decimal points used "
      ],
      "metadata": {
        "colab": {
          "base_uri": "https://localhost:8080/",
          "height": 615
        },
        "id": "vrD1FI04K5Oa",
        "outputId": "f402b0a7-92cf-4855-97d2-cf880f422757"
      },
      "execution_count": null,
      "outputs": [
        {
          "output_type": "execute_result",
          "data": {
            "text/plain": [
              "([<matplotlib.patches.Wedge at 0x7f29dfdbba30>,\n",
              "  <matplotlib.patches.Wedge at 0x7f29dfdc4c40>,\n",
              "  <matplotlib.patches.Wedge at 0x7f29dfdd3310>],\n",
              " [Text(0.007500971224396993, 1.0999744248984569, 'Small'),\n",
              "  Text(-0.377555332427641, -1.03317567284342, 'Medium'),\n",
              "  Text(1.0357262343441844, -0.37050123817770975, 'High')],\n",
              " [Text(0.004091438849671086, 0.5999860499446128, '49.78%'),\n",
              "  Text(-0.2059392722332587, -0.5635503670055018, '39.28%'),\n",
              "  Text(0.564941582369555, -0.20209158446056893, '10.94%')])"
            ]
          },
          "metadata": {},
          "execution_count": 26
        },
        {
          "output_type": "display_data",
          "data": {
            "text/plain": [
              "<Figure size 1080x504 with 2 Axes>"
            ],
            "image/png": "[encoded data removed]"
          },
          "metadata": {
            "needs_background": "light"
          }
        }
      ]
    },
    {
      "cell_type": "markdown",
      "source": [
        "Interpretation:\n",
        "\n",
        "From the above graph it is seen that Medium and small size stores are preferred more rather than the High sized stores."
      ],
      "metadata": {
        "id": "n0IiznvR5NDs"
      }
    },
    {
      "cell_type": "markdown",
      "source": [
        "Analysis of Outlet_Location_Type  "
      ],
      "metadata": {
        "id": "js-cgOgXLGB1"
      }
    },
    {
      "cell_type": "code",
      "source": [
        "info_of_cat(\"Outlet_Location_Type\") #function returns all the information required for the level 1 analysis"
      ],
      "metadata": {
        "colab": {
          "base_uri": "https://localhost:8080/"
        },
        "id": "xnBBG454LMfc",
        "outputId": "96186546-43d0-4bac-8c79-689f9b45bec8"
      },
      "execution_count": null,
      "outputs": [
        {
          "output_type": "stream",
          "name": "stdout",
          "text": [
            "Unique values in Outlet_Location_Type are: ['Tier 1' 'Tier 3' 'Tier 2']\n",
            "Mode of Outlet_Location_Type is Tier 3\n",
            "Number of missing values in Outlet_Location_Type is 0\n"
          ]
        }
      ]
    },
    {
      "cell_type": "code",
      "source": [
        "fig, ax = plt.subplots(1, 2, figsize = (15, 7))\n",
        "ax[0].set_title(\"Count of Outlet_Location_Type\")                  # Set the title of the graph\n",
        "percentage = df[\"Outlet_Location_Type\"].value_counts()         # value_counts: returns the count of values in series: return series\n",
        "labels = list(df[\"Outlet_Location_Type\"].value_counts().index) # Converting the index of value counts into list\n",
        "\n",
        "sb.countplot(x = df[\"Outlet_Location_Type\"], ax = ax[0],order= ['Tier 1','Tier 3','Tier 2'])\n",
        "plt.pie(percentage,labels = labels, autopct= \"%0.2f%%\")  # autopct: to print the percentage on pie wedge. 2 decimal points used "
      ],
      "metadata": {
        "colab": {
          "base_uri": "https://localhost:8080/",
          "height": 615
        },
        "id": "CutuUbYKLMnh",
        "outputId": "51030c55-538d-4ca5-abaa-d54844802ec2"
      },
      "execution_count": null,
      "outputs": [
        {
          "output_type": "execute_result",
          "data": {
            "text/plain": [
              "([<matplotlib.patches.Wedge at 0x7f29dfd57a00>,\n",
              "  <matplotlib.patches.Wedge at 0x7f29dfce2c40>,\n",
              "  <matplotlib.patches.Wedge at 0x7f29dfcf0310>],\n",
              " [Text(0.36266446547093334, 1.03849626166139, 'Tier 3'),\n",
              "  Text(-1.0315659207596939, -0.3819316053002228, 'Tier 2'),\n",
              "  Text(0.7006790317242327, -0.8479675079282176, 'Tier 1')],\n",
              " [Text(0.1978169811659636, 0.5664525063607582, '39.31%'),\n",
              "  Text(-0.5626723204143784, -0.20832633016375787, '32.68%'),\n",
              "  Text(0.38218856275867236, -0.4625277315972095, '28.02%')])"
            ]
          },
          "metadata": {},
          "execution_count": 28
        },
        {
          "output_type": "display_data",
          "data": {
            "text/plain": [
              "<Figure size 1080x504 with 2 Axes>"
            ],
            "image/png": "[encoded data removed]"
          },
          "metadata": {
            "needs_background": "light"
          }
        }
      ]
    },
    {
      "cell_type": "markdown",
      "source": [
        "Interpretation:\n",
        "\n",
        "The highest sales is that of Tier 2 followed by Tier 3 and Tier 1."
      ],
      "metadata": {
        "id": "HR2jsGkA6WU0"
      }
    },
    {
      "cell_type": "markdown",
      "source": [
        "Analysis of Outlet_Type "
      ],
      "metadata": {
        "id": "wS8P8dLELbDI"
      }
    },
    {
      "cell_type": "code",
      "source": [
        "info_of_cat(\"Outlet_Type\") #function returns all the information required for the level 1 analysis"
      ],
      "metadata": {
        "colab": {
          "base_uri": "https://localhost:8080/"
        },
        "id": "EhfmdW8bLlhd",
        "outputId": "05f578c8-8bf9-45e3-8b3a-efa931ef5654"
      },
      "execution_count": null,
      "outputs": [
        {
          "output_type": "stream",
          "name": "stdout",
          "text": [
            "Unique values in Outlet_Type are: ['Supermarket Type1' 'Supermarket Type2' 'Grocery Store'\n",
            " 'Supermarket Type3']\n",
            "Mode of Outlet_Type is Supermarket Type1\n",
            "Number of missing values in Outlet_Type is 0\n"
          ]
        }
      ]
    },
    {
      "cell_type": "code",
      "source": [
        "fig, ax = plt.subplots(1, 2, figsize = (15, 7))\n",
        "ax[0].set_title(\"Count of  Outlet_Type\")                  # Set the title of the graph\n",
        "percentage = df[\"Outlet_Type\"].value_counts()         # value_counts: returns the count of values in series: return series\n",
        "labels = list(df[\"Outlet_Type\"].value_counts().index) # Converting the index of value counts into list\n",
        "\n",
        "sb.countplot(x = df[\"Outlet_Type\"], ax = ax[0],order= ['Supermarket Type1','Supermarket Type2','Grocery Store','Supermarket Type3'])\n",
        "plt.pie(percentage,labels = labels, autopct= \"%0.2f%%\")  # autopct: to print the percentage on pie wedge. 2 decimal points used "
      ],
      "metadata": {
        "colab": {
          "base_uri": "https://localhost:8080/",
          "height": 667
        },
        "id": "ef4NLJpwLnjc",
        "outputId": "a3edd81e-6402-4ab5-95ee-856aed208bea"
      },
      "execution_count": null,
      "outputs": [
        {
          "output_type": "execute_result",
          "data": {
            "text/plain": [
              "([<matplotlib.patches.Wedge at 0x7f29dfc7c3a0>,\n",
              "  <matplotlib.patches.Wedge at 0x7f29dfc86df0>,\n",
              "  <matplotlib.patches.Wedge at 0x7f29dfc86ac0>,\n",
              "  <matplotlib.patches.Wedge at 0x7f29dfc96820>],\n",
              " [Text(-0.5127275930542571, 0.9731959799140091, 'Supermarket Type1'),\n",
              "  Text(-0.22048660527398525, -1.0776760445025926, 'Grocery Store'),\n",
              "  Text(0.5674626423181808, -0.9423301701491196, 'Supermarket Type3'),\n",
              "  Text(1.0362713621111401, -0.3689737986203392, 'Supermarket Type2')],\n",
              " [Text(-0.2796695962114129, 0.5308341708621866, '65.43%'),\n",
              "  Text(-0.1202654210585374, -0.5878232970014141, '12.71%'),\n",
              "  Text(0.3095250776280986, -0.5139982746267924, '10.97%'),\n",
              "  Text(0.5652389247878945, -0.2012584356110941, '10.89%')])"
            ]
          },
          "metadata": {},
          "execution_count": 30
        },
        {
          "output_type": "display_data",
          "data": {
            "text/plain": [
              "<Figure size 1080x504 with 2 Axes>"
            ],
            "image/png": "[encoded data removed]"
          },
          "metadata": {
            "needs_background": "light"
          }
        }
      ]
    },
    {
      "cell_type": "markdown",
      "source": [
        "Interpretation:\n",
        "\n",
        "The results from univariate analysis of Outlet_Type and the bivariate analysis both show that Grocery Store has lesser outlet sales followed by Supermarket Type1 and Supermarket Type2."
      ],
      "metadata": {
        "id": "2E0G2rss6lnx"
      }
    },
    {
      "cell_type": "markdown",
      "source": [
        "Analysis on numeric columns"
      ],
      "metadata": {
        "id": "8im5BlSJr098"
      }
    },
    {
      "cell_type": "code",
      "source": [
        "def info_of_numerical(col):\n",
        "    print(f\"The mean of the {col} is {df[col].mean()}\")\n",
        "    print(f\"The median of the {col} is {df[col].median()}\")\n",
        "    print(f\"The mode of the {col} is {df[col].mode()[0]}\")\n",
        "    print(f\"The standard deviation of the {col} is {df[col].std()}\")\n",
        "    print(f\"Number of missing values in the {col} is {df[col].isnull().sum()}\")"
      ],
      "metadata": {
        "id": "4bF4ul48r1sg"
      },
      "execution_count": null,
      "outputs": []
    },
    {
      "cell_type": "markdown",
      "source": [
        "Analysis on Item_Visibility"
      ],
      "metadata": {
        "id": "TkCAcCPmsW0P"
      }
    },
    {
      "cell_type": "code",
      "source": [
        "plt.figure(figsize=(12,7))\n",
        "plt.xlabel('Item_Visibility')\n",
        "plt.ylabel('Item_Outlet_Sales')\n",
        "plt.title('Item_Visibility and Item_Outlet_Sales Analysis')\n",
        "plt.plot(df.Item_Visibility, df['Item_Outlet_Sales'],'.',alpha=0.3)"
      ],
      "metadata": {
        "colab": {
          "base_uri": "https://localhost:8080/",
          "height": 476
        },
        "id": "n_NgtZDKJ-h4",
        "outputId": "d26e3b23-8ac9-4a60-81cc-0804428b3e17"
      },
      "execution_count": null,
      "outputs": [
        {
          "output_type": "execute_result",
          "data": {
            "text/plain": [
              "[<matplotlib.lines.Line2D at 0x7f29dfbe57f0>]"
            ]
          },
          "metadata": {},
          "execution_count": 32
        },
        {
          "output_type": "display_data",
          "data": {
            "text/plain": [
              "<Figure size 864x504 with 1 Axes>"
            ],
            "image/png": "[encoded data removed]"
          },
          "metadata": {
            "needs_background": "light"
          }
        }
      ]
    },
    {
      "cell_type": "code",
      "source": [
        "plt.figure(figsize=(12,7))\n",
        "plt.xlabel('Item_visibility')\n",
        "plt.ylabel('Item_Outlet_Sales')\n",
        "plt.title('Item_Visibility and Item_Outlet_Sales Analysis')\n",
        "plt.plot(df.Item_Visibility,df['Item_Outlet_Sales'],alpha=0.3)"
      ],
      "metadata": {
        "colab": {
          "base_uri": "https://localhost:8080/",
          "height": 476
        },
        "id": "cz_j2C6-KqVl",
        "outputId": "c6ea61a5-f4dc-4110-8174-39edb28721ea"
      },
      "execution_count": null,
      "outputs": [
        {
          "output_type": "execute_result",
          "data": {
            "text/plain": [
              "[<matplotlib.lines.Line2D at 0x7f29dfbc6b50>]"
            ]
          },
          "metadata": {},
          "execution_count": 33
        },
        {
          "output_type": "display_data",
          "data": {
            "text/plain": [
              "<Figure size 864x504 with 1 Axes>"
            ],
            "image/png": "[encoded data removed]"
          },
          "metadata": {
            "needs_background": "light"
          }
        }
      ]
    },
    {
      "cell_type": "markdown",
      "source": [
        "Interpretation:\n",
        "\n",
        "The location of product in a store will impact the sales.Ones which are kept at the entrance will catch the customers attention rather than the ones in back.\n",
        "\n",
        "This was the assumption from above.However,first the correlation and now this plot, indicate that the more visible a product is the less higher its sales will be.\n",
        "\n",
        "This might be due to the fact that a great number of daily used products, which do not need high visibility, control the top of the sales chart."
      ],
      "metadata": {
        "id": "se8cqkwGRS6X"
      }
    },
    {
      "cell_type": "markdown",
      "source": [
        "Analysis on Item_MRP "
      ],
      "metadata": {
        "id": "t5R0xxLXtFwO"
      }
    },
    {
      "cell_type": "code",
      "source": [
        "info_of_numerical(\"Item_MRP\")"
      ],
      "metadata": {
        "colab": {
          "base_uri": "https://localhost:8080/"
        },
        "id": "rzf1NkQctRrP",
        "outputId": "d6e99cb1-1fc6-440c-a0fe-c3ef3364e4f2"
      },
      "execution_count": null,
      "outputs": [
        {
          "output_type": "stream",
          "name": "stdout",
          "text": [
            "The mean of the Item_MRP is 140.9927819781767\n",
            "The median of the Item_MRP is 143.0128\n",
            "The mode of the Item_MRP is 172.0422\n",
            "The standard deviation of the Item_MRP is 62.27506651219046\n",
            "Number of missing values in the Item_MRP is 0\n"
          ]
        }
      ]
    },
    {
      "cell_type": "code",
      "source": [
        "fig, ax = plt.subplots(1, 2, figsize= (20, 7))               # Creating the space for the 2 images, first argument in subplots is rows and second is columns and the figure size\n",
        "sb.histplot(x = df[\"Item_MRP\"], ax =ax[1], color = \"orange\") # ax[1] means image will plot at the second space\n",
        "sb.boxplot(x = df[\"Item_MRP\"], ax = ax[0], color = \"green\") # ax[0] means image will plot at the second space\n",
        "plt.show()"
      ],
      "metadata": {
        "colab": {
          "base_uri": "https://localhost:8080/",
          "height": 443
        },
        "id": "e6JU7bhxtTlG",
        "outputId": "be05b64a-999d-4e59-fe01-3e81d999c16e"
      },
      "execution_count": null,
      "outputs": [
        {
          "output_type": "display_data",
          "data": {
            "text/plain": [
              "<Figure size 1440x504 with 2 Axes>"
            ],
            "image/png": "[encoded data removed]"
          },
          "metadata": {
            "needs_background": "light"
          }
        }
      ]
    },
    {
      "cell_type": "markdown",
      "source": [
        "Interpretation:\n",
        "\n",
        "From the histogram and boxplot we can make out that products whose MRP ranges between Rs.100 to 150 are sold more as compared to other products.\n",
        "\n",
        "Means that Majority of people buy the products in this range.\n",
        "\n",
        "So we can recommend only those specific products that can lead to increase the sales of the stores"
      ],
      "metadata": {
        "id": "ZfCDDRdsJMVb"
      }
    },
    {
      "cell_type": "markdown",
      "source": [
        "Analysis on Outlet_Establishment_Year  "
      ],
      "metadata": {
        "id": "-IrmZ0T7t5wN"
      }
    },
    {
      "cell_type": "code",
      "source": [
        "info_of_numerical(\"Outlet_Establishment_Year\")"
      ],
      "metadata": {
        "colab": {
          "base_uri": "https://localhost:8080/"
        },
        "id": "bYy8pZqMuFeS",
        "outputId": "7b25407f-98da-413e-8620-b141c880d96e"
      },
      "execution_count": null,
      "outputs": [
        {
          "output_type": "stream",
          "name": "stdout",
          "text": [
            "The mean of the Outlet_Establishment_Year is 1997.8318667135984\n",
            "The median of the Outlet_Establishment_Year is 1999.0\n",
            "The mode of the Outlet_Establishment_Year is 1985\n",
            "The standard deviation of the Outlet_Establishment_Year is 8.371760408092655\n",
            "Number of missing values in the Outlet_Establishment_Year is 0\n"
          ]
        }
      ]
    },
    {
      "cell_type": "code",
      "source": [
        "Outlet_Establishment_Year_pivot = \\\n",
        "df.pivot_table(index='Outlet_Establishment_Year', values='Item_Outlet_Sales',aggfunc=np.median)\n",
        "Outlet_Establishment_Year_pivot.plot(kind='bar',color='blue',figsize=(12,7))\n",
        "plt.xlabel(\"Outlet_Estableshment_Year\")\n",
        "plt.ylabel(\"Sqrt Item_Outlet_Sales\")\n",
        "plt.title(\"Impact of Outlet_Establishment_Year on Item_Outlet_Sales\")\n",
        "plt.xticks(rotation=0)\n",
        "plt.show()"
      ],
      "metadata": {
        "colab": {
          "base_uri": "https://localhost:8080/",
          "height": 459
        },
        "id": "WeU4ByO0uKZp",
        "outputId": "98d53886-5aff-4c1f-ad85-12a9e10aa068"
      },
      "execution_count": null,
      "outputs": [
        {
          "output_type": "display_data",
          "data": {
            "text/plain": [
              "<Figure size 864x504 with 1 Axes>"
            ],
            "image/png": "[encoded data removed]"
          },
          "metadata": {
            "needs_background": "light"
          }
        }
      ]
    },
    {
      "cell_type": "markdown",
      "source": [
        "Interpretation:\n",
        "\n",
        "From the bar chart it is seen that the year 1998 has the lowest sales.It is also analyzed that there seems to be no significance between the year of establishment and Sales as the variables are independent of each other."
      ],
      "metadata": {
        "id": "wZK-hS6dFno6"
      }
    },
    {
      "cell_type": "markdown",
      "source": [
        "Feature Engineering"
      ],
      "metadata": {
        "id": "z-7sDqsZU1Ov"
      }
    },
    {
      "cell_type": "markdown",
      "source": [
        "Converting non-numeric(object) label to category  "
      ],
      "metadata": {
        "id": "HRWXTNVCVE82"
      }
    },
    {
      "cell_type": "code",
      "execution_count": null,
      "metadata": {
        "id": "mmyxdu6_C-Bg"
      },
      "outputs": [],
      "source": [
        "df['Item_Identifier']=df['Item_Identifier'].astype('category')\n",
        "df['Item_Fat_Content']=df['Item_Fat_Content'].astype('category')\n",
        "df['Item_Type']=df['Item_Type'].astype('category')\n",
        "df['Outlet_Identifier']=df['Outlet_Identifier'].astype('category')\n",
        "df['Outlet_Size']=df['Outlet_Size'].astype('category')\n",
        "df['Outlet_Location_Type']=df['Outlet_Location_Type'].astype('category')\n",
        "df['Item_Identifier']=df['Item_Identifier'].astype('category')\n",
        "df['Outlet_Type']=df['Outlet_Type'].astype('category')"
      ]
    },
    {
      "cell_type": "code",
      "execution_count": null,
      "metadata": {
        "colab": {
          "base_uri": "https://localhost:8080/"
        },
        "id": "42SESD9REbN9",
        "outputId": "557adf15-c05c-4018-dab4-e2884a9464c4"
      },
      "outputs": [
        {
          "output_type": "execute_result",
          "data": {
            "text/plain": [
              "Item_Identifier              category\n",
              "Item_Weight                   float64\n",
              "Item_Fat_Content             category\n",
              "Item_Visibility               float64\n",
              "Item_Type                    category\n",
              "Item_MRP                      float64\n",
              "Outlet_Identifier            category\n",
              "Outlet_Establishment_Year       int64\n",
              "Outlet_Size                  category\n",
              "Outlet_Location_Type         category\n",
              "Outlet_Type                  category\n",
              "Item_Outlet_Sales             float64\n",
              "dtype: object"
            ]
          },
          "metadata": {},
          "execution_count": 39
        }
      ],
      "source": [
        "df.dtypes"
      ]
    },
    {
      "cell_type": "markdown",
      "source": [
        "Interpretation:\n",
        "\n",
        "Here as we can see that we have converted all the non-numeric label to categoical label."
      ],
      "metadata": {
        "id": "v6M4Z3Y0Vhfj"
      }
    },
    {
      "cell_type": "code",
      "execution_count": null,
      "metadata": {
        "colab": {
          "base_uri": "https://localhost:8080/",
          "height": 357
        },
        "id": "uE-d6qHeE2b1",
        "outputId": "78671b40-fb6d-42d2-f5e7-7f150be5f988"
      },
      "outputs": [
        {
          "output_type": "execute_result",
          "data": {
            "text/plain": [
              "  Item_Identifier  Item_Weight Item_Fat_Content  Item_Visibility  \\\n",
              "0           FDA15         9.30          Low Fat         0.016047   \n",
              "1           DRC01         5.92          Regular         0.019278   \n",
              "2           FDN15        17.50          Low Fat         0.016760   \n",
              "3           FDX07        19.20          Regular         0.074402   \n",
              "4           NCD19         8.93          Low Fat         0.064299   \n",
              "\n",
              "               Item_Type  Item_MRP Outlet_Identifier  \\\n",
              "0                  Dairy  249.8092            OUT049   \n",
              "1            Soft Drinks   48.2692            OUT018   \n",
              "2                   Meat  141.6180            OUT049   \n",
              "3  Fruits and Vegetables  182.0950            OUT010   \n",
              "4              Household   53.8614            OUT013   \n",
              "\n",
              "   Outlet_Establishment_Year Outlet_Size Outlet_Location_Type  \\\n",
              "0                       1999      Medium               Tier 1   \n",
              "1                       2009      Medium               Tier 3   \n",
              "2                       1999      Medium               Tier 1   \n",
              "3                       1998      Medium               Tier 3   \n",
              "4                       1987        High               Tier 3   \n",
              "\n",
              "         Outlet_Type  Item_Outlet_Sales  \n",
              "0  Supermarket Type1          3735.1380  \n",
              "1  Supermarket Type2           443.4228  \n",
              "2  Supermarket Type1          2097.2700  \n",
              "3      Grocery Store           732.3800  \n",
              "4  Supermarket Type1           994.7052  "
            ],
            "text/html": [
              "\n",
              "  <div id=\"df-dbc974b6-1c13-488b-8ee4-74f09b8a8a60\">\n",
              "    <div class=\"colab-df-container\">\n",
              "      <div>\n",
              "<style scoped>\n",
              "    .dataframe tbody tr th:only-of-type {\n",
              "        vertical-align: middle;\n",
              "    }\n",
              "\n",
              "    .dataframe tbody tr th {\n",
              "        vertical-align: top;\n",
              "    }\n",
              "\n",
              "    .dataframe thead th {\n",
              "        text-align: right;\n",
              "    }\n",
              "</style>\n",
              "<table border=\"1\" class=\"dataframe\">\n",
              "  <thead>\n",
              "    <tr style=\"text-align: right;\">\n",
              "      <th></th>\n",
              "      <th>Item_Identifier</th>\n",
              "      <th>Item_Weight</th>\n",
              "      <th>Item_Fat_Content</th>\n",
              "      <th>Item_Visibility</th>\n",
              "      <th>Item_Type</th>\n",
              "      <th>Item_MRP</th>\n",
              "      <th>Outlet_Identifier</th>\n",
              "      <th>Outlet_Establishment_Year</th>\n",
              "      <th>Outlet_Size</th>\n",
              "      <th>Outlet_Location_Type</th>\n",
              "      <th>Outlet_Type</th>\n",
              "      <th>Item_Outlet_Sales</th>\n",
              "    </tr>\n",
              "  </thead>\n",
              "  <tbody>\n",
              "    <tr>\n",
              "      <th>0</th>\n",
              "      <td>FDA15</td>\n",
              "      <td>9.30</td>\n",
              "      <td>Low Fat</td>\n",
              "      <td>0.016047</td>\n",
              "      <td>Dairy</td>\n",
              "      <td>249.8092</td>\n",
              "      <td>OUT049</td>\n",
              "      <td>1999</td>\n",
              "      <td>Medium</td>\n",
              "      <td>Tier 1</td>\n",
              "      <td>Supermarket Type1</td>\n",
              "      <td>3735.1380</td>\n",
              "    </tr>\n",
              "    <tr>\n",
              "      <th>1</th>\n",
              "      <td>DRC01</td>\n",
              "      <td>5.92</td>\n",
              "      <td>Regular</td>\n",
              "      <td>0.019278</td>\n",
              "      <td>Soft Drinks</td>\n",
              "      <td>48.2692</td>\n",
              "      <td>OUT018</td>\n",
              "      <td>2009</td>\n",
              "      <td>Medium</td>\n",
              "      <td>Tier 3</td>\n",
              "      <td>Supermarket Type2</td>\n",
              "      <td>443.4228</td>\n",
              "    </tr>\n",
              "    <tr>\n",
              "      <th>2</th>\n",
              "      <td>FDN15</td>\n",
              "      <td>17.50</td>\n",
              "      <td>Low Fat</td>\n",
              "      <td>0.016760</td>\n",
              "      <td>Meat</td>\n",
              "      <td>141.6180</td>\n",
              "      <td>OUT049</td>\n",
              "      <td>1999</td>\n",
              "      <td>Medium</td>\n",
              "      <td>Tier 1</td>\n",
              "      <td>Supermarket Type1</td>\n",
              "      <td>2097.2700</td>\n",
              "    </tr>\n",
              "    <tr>\n",
              "      <th>3</th>\n",
              "      <td>FDX07</td>\n",
              "      <td>19.20</td>\n",
              "      <td>Regular</td>\n",
              "      <td>0.074402</td>\n",
              "      <td>Fruits and Vegetables</td>\n",
              "      <td>182.0950</td>\n",
              "      <td>OUT010</td>\n",
              "      <td>1998</td>\n",
              "      <td>Medium</td>\n",
              "      <td>Tier 3</td>\n",
              "      <td>Grocery Store</td>\n",
              "      <td>732.3800</td>\n",
              "    </tr>\n",
              "    <tr>\n",
              "      <th>4</th>\n",
              "      <td>NCD19</td>\n",
              "      <td>8.93</td>\n",
              "      <td>Low Fat</td>\n",
              "      <td>0.064299</td>\n",
              "      <td>Household</td>\n",
              "      <td>53.8614</td>\n",
              "      <td>OUT013</td>\n",
              "      <td>1987</td>\n",
              "      <td>High</td>\n",
              "      <td>Tier 3</td>\n",
              "      <td>Supermarket Type1</td>\n",
              "      <td>994.7052</td>\n",
              "    </tr>\n",
              "  </tbody>\n",
              "</table>\n",
              "</div>\n",
              "      <button class=\"colab-df-convert\" onclick=\"convertToInteractive('df-dbc974b6-1c13-488b-8ee4-74f09b8a8a60')\"\n",
              "              title=\"Convert this dataframe to an interactive table.\"\n",
              "              style=\"display:none;\">\n",
              "        \n",
              "  <svg xmlns=\"http://www.w3.org/2000/svg\" height=\"24px\"viewBox=\"0 0 24 24\"\n",
              "       width=\"24px\">\n",
              "    <path d=\"M0 0h24v24H0V0z\" fill=\"none\"/>\n",
              "    <path d=\"M18.56 5.44l.94 2.06.94-2.06 2.06-.94-2.06-.94-.94-2.06-.94 2.06-2.06.94zm-11 1L8.5 8.5l.94-2.06 2.06-.94-2.06-.94L8.5 2.5l-.94 2.06-2.06.94zm10 10l.94 2.06.94-2.06 2.06-.94-2.06-.94-.94-2.06-.94 2.06-2.06.94z\"/><path d=\"M17.41 7.96l-1.37-1.37c-.4-.4-.92-.59-1.43-.59-.52 0-1.04.2-1.43.59L10.3 9.45l-7.72 7.72c-.78.78-.78 2.05 0 2.83L4 21.41c.39.39.9.59 1.41.59.51 0 1.02-.2 1.41-.59l7.78-7.78 2.81-2.81c.8-.78.8-2.07 0-2.86zM5.41 20L4 18.59l7.72-7.72 1.47 1.35L5.41 20z\"/>\n",
              "  </svg>\n",
              "      </button>\n",
              "      \n",
              "  <style>\n",
              "    .colab-df-container {\n",
              "      display:flex;\n",
              "      flex-wrap:wrap;\n",
              "      gap: 12px;\n",
              "    }\n",
              "\n",
              "    .colab-df-convert {\n",
              "      background-color: #E8F0FE;\n",
              "      border: none;\n",
              "      border-radius: 50%;\n",
              "      cursor: pointer;\n",
              "      display: none;\n",
              "      fill: #1967D2;\n",
              "      height: 32px;\n",
              "      padding: 0 0 0 0;\n",
              "      width: 32px;\n",
              "    }\n",
              "\n",
              "    .colab-df-convert:hover {\n",
              "      background-color: #E2EBFA;\n",
              "      box-shadow: 0px 1px 2px rgba(60, 64, 67, 0.3), 0px 1px 3px 1px rgba(60, 64, 67, 0.15);\n",
              "      fill: #174EA6;\n",
              "    }\n",
              "\n",
              "    [theme=dark] .colab-df-convert {\n",
              "      background-color: #3B4455;\n",
              "      fill: #D2E3FC;\n",
              "    }\n",
              "\n",
              "    [theme=dark] .colab-df-convert:hover {\n",
              "      background-color: #434B5C;\n",
              "      box-shadow: 0px 1px 3px 1px rgba(0, 0, 0, 0.15);\n",
              "      filter: drop-shadow(0px 1px 2px rgba(0, 0, 0, 0.3));\n",
              "      fill: #FFFFFF;\n",
              "    }\n",
              "  </style>\n",
              "\n",
              "      <script>\n",
              "        const buttonEl =\n",
              "          document.querySelector('#df-dbc974b6-1c13-488b-8ee4-74f09b8a8a60 button.colab-df-convert');\n",
              "        buttonEl.style.display =\n",
              "          google.colab.kernel.accessAllowed ? 'block' : 'none';\n",
              "\n",
              "        async function convertToInteractive(key) {\n",
              "          const element = document.querySelector('#df-dbc974b6-1c13-488b-8ee4-74f09b8a8a60');\n",
              "          const dataTable =\n",
              "            await google.colab.kernel.invokeFunction('convertToInteractive',\n",
              "                                                     [key], {});\n",
              "          if (!dataTable) return;\n",
              "\n",
              "          const docLinkHtml = 'Like what you see? Visit the ' +\n",
              "            '<a target=\"_blank\" href=https://colab.research.google.com/notebooks/data_table.ipynb>data table notebook</a>'\n",
              "            + ' to learn more about interactive tables.';\n",
              "          element.innerHTML = '';\n",
              "          dataTable['output_type'] = 'display_data';\n",
              "          await google.colab.output.renderOutput(dataTable, element);\n",
              "          const docLink = document.createElement('div');\n",
              "          docLink.innerHTML = docLinkHtml;\n",
              "          element.appendChild(docLink);\n",
              "        }\n",
              "      </script>\n",
              "    </div>\n",
              "  </div>\n",
              "  "
            ]
          },
          "metadata": {},
          "execution_count": 40
        }
      ],
      "source": [
        "df.head()"
      ]
    },
    {
      "cell_type": "code",
      "execution_count": null,
      "metadata": {
        "colab": {
          "base_uri": "https://localhost:8080/"
        },
        "id": "Vo32pc-ygX5M",
        "outputId": "12ac8871-5f5f-4180-c511-ba3511493c5b"
      },
      "outputs": [
        {
          "output_type": "execute_result",
          "data": {
            "text/plain": [
              "Item_Weight                  float64\n",
              "Item_Visibility              float64\n",
              "Item_MRP                     float64\n",
              "Outlet_Establishment_Year      int64\n",
              "Item_Outlet_Sales            float64\n",
              "dtype: object"
            ]
          },
          "metadata": {},
          "execution_count": 41
        }
      ],
      "source": [
        "numeric_features = df.select_dtypes(include=[np.number])\n",
        "numeric_features.dtypes"
      ]
    },
    {
      "cell_type": "markdown",
      "metadata": {
        "id": "EdYE4hm3gqdy"
      },
      "source": [
        "Correlation between numerical and target variables"
      ]
    },
    {
      "cell_type": "code",
      "execution_count": null,
      "metadata": {
        "colab": {
          "base_uri": "https://localhost:8080/",
          "height": 206
        },
        "id": "1Y0k9DQegwq6",
        "outputId": "c65adaca-b486-4a1f-a362-c880a78d3857"
      },
      "outputs": [
        {
          "output_type": "execute_result",
          "data": {
            "text/plain": [
              "                           Item_Weight  Item_Visibility  Item_MRP  \\\n",
              "Item_Weight                   1.000000        -0.018409  0.026172   \n",
              "Item_Visibility              -0.018409         1.000000 -0.005861   \n",
              "Item_MRP                      0.026172        -0.005861  1.000000   \n",
              "Outlet_Establishment_Year    -0.012823        -0.080598  0.005020   \n",
              "Item_Outlet_Sales             0.013261        -0.135247  0.567574   \n",
              "\n",
              "                           Outlet_Establishment_Year  Item_Outlet_Sales  \n",
              "Item_Weight                                -0.012823           0.013261  \n",
              "Item_Visibility                            -0.080598          -0.135247  \n",
              "Item_MRP                                    0.005020           0.567574  \n",
              "Outlet_Establishment_Year                   1.000000          -0.049135  \n",
              "Item_Outlet_Sales                          -0.049135           1.000000  "
            ],
            "text/html": [
              "\n",
              "  <div id=\"df-fa44202f-d51a-47fa-bafc-bb8dd911667e\">\n",
              "    <div class=\"colab-df-container\">\n",
              "      <div>\n",
              "<style scoped>\n",
              "    .dataframe tbody tr th:only-of-type {\n",
              "        vertical-align: middle;\n",
              "    }\n",
              "\n",
              "    .dataframe tbody tr th {\n",
              "        vertical-align: top;\n",
              "    }\n",
              "\n",
              "    .dataframe thead th {\n",
              "        text-align: right;\n",
              "    }\n",
              "</style>\n",
              "<table border=\"1\" class=\"dataframe\">\n",
              "  <thead>\n",
              "    <tr style=\"text-align: right;\">\n",
              "      <th></th>\n",
              "      <th>Item_Weight</th>\n",
              "      <th>Item_Visibility</th>\n",
              "      <th>Item_MRP</th>\n",
              "      <th>Outlet_Establishment_Year</th>\n",
              "      <th>Item_Outlet_Sales</th>\n",
              "    </tr>\n",
              "  </thead>\n",
              "  <tbody>\n",
              "    <tr>\n",
              "      <th>Item_Weight</th>\n",
              "      <td>1.000000</td>\n",
              "      <td>-0.018409</td>\n",
              "      <td>0.026172</td>\n",
              "      <td>-0.012823</td>\n",
              "      <td>0.013261</td>\n",
              "    </tr>\n",
              "    <tr>\n",
              "      <th>Item_Visibility</th>\n",
              "      <td>-0.018409</td>\n",
              "      <td>1.000000</td>\n",
              "      <td>-0.005861</td>\n",
              "      <td>-0.080598</td>\n",
              "      <td>-0.135247</td>\n",
              "    </tr>\n",
              "    <tr>\n",
              "      <th>Item_MRP</th>\n",
              "      <td>0.026172</td>\n",
              "      <td>-0.005861</td>\n",
              "      <td>1.000000</td>\n",
              "      <td>0.005020</td>\n",
              "      <td>0.567574</td>\n",
              "    </tr>\n",
              "    <tr>\n",
              "      <th>Outlet_Establishment_Year</th>\n",
              "      <td>-0.012823</td>\n",
              "      <td>-0.080598</td>\n",
              "      <td>0.005020</td>\n",
              "      <td>1.000000</td>\n",
              "      <td>-0.049135</td>\n",
              "    </tr>\n",
              "    <tr>\n",
              "      <th>Item_Outlet_Sales</th>\n",
              "      <td>0.013261</td>\n",
              "      <td>-0.135247</td>\n",
              "      <td>0.567574</td>\n",
              "      <td>-0.049135</td>\n",
              "      <td>1.000000</td>\n",
              "    </tr>\n",
              "  </tbody>\n",
              "</table>\n",
              "</div>\n",
              "      <button class=\"colab-df-convert\" onclick=\"convertToInteractive('df-fa44202f-d51a-47fa-bafc-bb8dd911667e')\"\n",
              "              title=\"Convert this dataframe to an interactive table.\"\n",
              "              style=\"display:none;\">\n",
              "        \n",
              "  <svg xmlns=\"http://www.w3.org/2000/svg\" height=\"24px\"viewBox=\"0 0 24 24\"\n",
              "       width=\"24px\">\n",
              "    <path d=\"M0 0h24v24H0V0z\" fill=\"none\"/>\n",
              "    <path d=\"M18.56 5.44l.94 2.06.94-2.06 2.06-.94-2.06-.94-.94-2.06-.94 2.06-2.06.94zm-11 1L8.5 8.5l.94-2.06 2.06-.94-2.06-.94L8.5 2.5l-.94 2.06-2.06.94zm10 10l.94 2.06.94-2.06 2.06-.94-2.06-.94-.94-2.06-.94 2.06-2.06.94z\"/><path d=\"M17.41 7.96l-1.37-1.37c-.4-.4-.92-.59-1.43-.59-.52 0-1.04.2-1.43.59L10.3 9.45l-7.72 7.72c-.78.78-.78 2.05 0 2.83L4 21.41c.39.39.9.59 1.41.59.51 0 1.02-.2 1.41-.59l7.78-7.78 2.81-2.81c.8-.78.8-2.07 0-2.86zM5.41 20L4 18.59l7.72-7.72 1.47 1.35L5.41 20z\"/>\n",
              "  </svg>\n",
              "      </button>\n",
              "      \n",
              "  <style>\n",
              "    .colab-df-container {\n",
              "      display:flex;\n",
              "      flex-wrap:wrap;\n",
              "      gap: 12px;\n",
              "    }\n",
              "\n",
              "    .colab-df-convert {\n",
              "      background-color: #E8F0FE;\n",
              "      border: none;\n",
              "      border-radius: 50%;\n",
              "      cursor: pointer;\n",
              "      display: none;\n",
              "      fill: #1967D2;\n",
              "      height: 32px;\n",
              "      padding: 0 0 0 0;\n",
              "      width: 32px;\n",
              "    }\n",
              "\n",
              "    .colab-df-convert:hover {\n",
              "      background-color: #E2EBFA;\n",
              "      box-shadow: 0px 1px 2px rgba(60, 64, 67, 0.3), 0px 1px 3px 1px rgba(60, 64, 67, 0.15);\n",
              "      fill: #174EA6;\n",
              "    }\n",
              "\n",
              "    [theme=dark] .colab-df-convert {\n",
              "      background-color: #3B4455;\n",
              "      fill: #D2E3FC;\n",
              "    }\n",
              "\n",
              "    [theme=dark] .colab-df-convert:hover {\n",
              "      background-color: #434B5C;\n",
              "      box-shadow: 0px 1px 3px 1px rgba(0, 0, 0, 0.15);\n",
              "      filter: drop-shadow(0px 1px 2px rgba(0, 0, 0, 0.3));\n",
              "      fill: #FFFFFF;\n",
              "    }\n",
              "  </style>\n",
              "\n",
              "      <script>\n",
              "        const buttonEl =\n",
              "          document.querySelector('#df-fa44202f-d51a-47fa-bafc-bb8dd911667e button.colab-df-convert');\n",
              "        buttonEl.style.display =\n",
              "          google.colab.kernel.accessAllowed ? 'block' : 'none';\n",
              "\n",
              "        async function convertToInteractive(key) {\n",
              "          const element = document.querySelector('#df-fa44202f-d51a-47fa-bafc-bb8dd911667e');\n",
              "          const dataTable =\n",
              "            await google.colab.kernel.invokeFunction('convertToInteractive',\n",
              "                                                     [key], {});\n",
              "          if (!dataTable) return;\n",
              "\n",
              "          const docLinkHtml = 'Like what you see? Visit the ' +\n",
              "            '<a target=\"_blank\" href=https://colab.research.google.com/notebooks/data_table.ipynb>data table notebook</a>'\n",
              "            + ' to learn more about interactive tables.';\n",
              "          element.innerHTML = '';\n",
              "          dataTable['output_type'] = 'display_data';\n",
              "          await google.colab.output.renderOutput(dataTable, element);\n",
              "          const docLink = document.createElement('div');\n",
              "          docLink.innerHTML = docLinkHtml;\n",
              "          element.appendChild(docLink);\n",
              "        }\n",
              "      </script>\n",
              "    </div>\n",
              "  </div>\n",
              "  "
            ]
          },
          "metadata": {},
          "execution_count": 42
        }
      ],
      "source": [
        "corr = numeric_features.corr() # Use to check correlation between numeric and target variable\n",
        "corr"
      ]
    },
    {
      "cell_type": "code",
      "execution_count": null,
      "metadata": {
        "colab": {
          "base_uri": "https://localhost:8080/"
        },
        "id": "JB7FnIulg61n",
        "outputId": "a61bbfc2-e046-493e-8abf-f067c0125f61"
      },
      "outputs": [
        {
          "output_type": "stream",
          "name": "stdout",
          "text": [
            "Item_Outlet_Sales            1.000000\n",
            "Item_MRP                     0.567574\n",
            "Item_Weight                  0.013261\n",
            "Outlet_Establishment_Year   -0.049135\n",
            "Item_Visibility             -0.135247\n",
            "Name: Item_Outlet_Sales, dtype: float64\n"
          ]
        }
      ],
      "source": [
        "print(corr['Item_Outlet_Sales'].sort_values(ascending=False))"
      ]
    },
    {
      "cell_type": "markdown",
      "metadata": {
        "id": "M_iz9Ix3s_R-"
      },
      "source": [
        "Correlation matrix generation"
      ]
    },
    {
      "cell_type": "code",
      "execution_count": null,
      "metadata": {
        "colab": {
          "base_uri": "https://localhost:8080/",
          "height": 681
        },
        "id": "e5BGNuCbtDk8",
        "outputId": "3a3b44b3-2a27-422f-8877-02e0a65c4ab9"
      },
      "outputs": [
        {
          "output_type": "execute_result",
          "data": {
            "text/plain": [
              "<matplotlib.axes._subplots.AxesSubplot at 0x7f29e1d53250>"
            ]
          },
          "metadata": {},
          "execution_count": 44
        },
        {
          "output_type": "display_data",
          "data": {
            "text/plain": [
              "<Figure size 864x648 with 2 Axes>"
            ],
            "image/png": "[encoded data removed]"
          },
          "metadata": {
            "needs_background": "light"
          }
        }
      ],
      "source": [
        "f,ax=plt.subplots(figsize=(12,9))\n",
        "sb.heatmap(corr, vmax=.8,square=True)"
      ]
    },
    {
      "cell_type": "markdown",
      "source": [
        "Interpretation:\n",
        "\n",
        "From the current numeric variables we can observe that the Item_Visibility is the feature with the lowest correlation with our target variable.\n",
        "\n",
        "Therefore, the less visible the product is in the store the higher the price will be.\n",
        "\n",
        "Further,the most positive correlation is that of Item_MRP."
      ],
      "metadata": {
        "id": "0cbInZvyk8Q8"
      }
    },
    {
      "cell_type": "markdown",
      "source": [
        "Creation of dummy variables: Convert categorical data to numbers"
      ],
      "metadata": {
        "id": "Vtr7Dhf2V9bk"
      }
    },
    {
      "cell_type": "code",
      "execution_count": null,
      "metadata": {
        "id": "47KHZzjyEh2v"
      },
      "outputs": [],
      "source": [
        "# Encoding all the categorical features\n",
        "cat_attr_list = ['Item_Identifier','Item_Fat_Content',\n",
        "                 'Item_Type','Outlet_Identifier',\n",
        "                 'Outlet_Size','Outlet_Location_Type','Outlet_Type']\n",
        "\n",
        "numeric_feature_cols = ['Item_Weight','Item_Visibility','Item_MRP',\n",
        "                        'Outlet_Establishment_Year','Item_Outlet_Sales']\n"
      ]
    },
    {
      "cell_type": "code",
      "source": [
        "from sklearn.preprocessing import LabelEncoder\n",
        "label_encoder=preprocessing.LabelEncoder()\n",
        "df['Item_Fat_Content']=label_encoder.fit_transform(df['Item_Fat_Content'])\n",
        "df['Item_Identifier']=label_encoder.fit_transform(df['Item_Identifier'])\n",
        "df['Item_Type']=label_encoder.fit_transform(df['Item_Type'])\n",
        "df['Outlet_Identifier']=label_encoder.fit_transform(df['Outlet_Identifier'])\n",
        "df['Outlet_Size']=label_encoder.fit_transform(df['Outlet_Size'])\n",
        "df['Outlet_Location_Type']=label_encoder.fit_transform(df['Outlet_Location_Type'])\n",
        "df['Outlet_Type']=label_encoder.fit_transform(df['Outlet_Type'])"
      ],
      "metadata": {
        "id": "71U03oncmMnB"
      },
      "execution_count": null,
      "outputs": []
    },
    {
      "cell_type": "code",
      "source": [],
      "metadata": {
        "id": "gdpNXtpTSiqu"
      },
      "execution_count": null,
      "outputs": []
    },
    {
      "cell_type": "code",
      "source": [
        "df"
      ],
      "metadata": {
        "colab": {
          "base_uri": "https://localhost:8080/",
          "height": 488
        },
        "id": "TfdbzGu_mZ79",
        "outputId": "cfe18f19-7685-4ac7-c8a9-79b20547b48f"
      },
      "execution_count": null,
      "outputs": [
        {
          "output_type": "execute_result",
          "data": {
            "text/plain": [
              "      Item_Identifier  Item_Weight  Item_Fat_Content  Item_Visibility  \\\n",
              "0                 156        9.300                 0         0.016047   \n",
              "1                   8        5.920                 1         0.019278   \n",
              "2                 662       17.500                 0         0.016760   \n",
              "3                1121       19.200                 1         0.074402   \n",
              "4                1297        8.930                 0         0.064299   \n",
              "...               ...          ...               ...              ...   \n",
              "8518              370        6.865                 0         0.056783   \n",
              "8519              897        8.380                 1         0.046982   \n",
              "8520             1357       10.600                 0         0.035186   \n",
              "8521              681        7.210                 1         0.145221   \n",
              "8522               50       14.800                 0         0.044878   \n",
              "\n",
              "      Item_Type  Item_MRP  Outlet_Identifier  Outlet_Establishment_Year  \\\n",
              "0             4  249.8092                  9                       1999   \n",
              "1            14   48.2692                  3                       2009   \n",
              "2            10  141.6180                  9                       1999   \n",
              "3             6  182.0950                  0                       1998   \n",
              "4             9   53.8614                  1                       1987   \n",
              "...         ...       ...                ...                        ...   \n",
              "8518         13  214.5218                  1                       1987   \n",
              "8519          0  108.1570                  7                       2002   \n",
              "8520          8   85.1224                  6                       2004   \n",
              "8521         13  103.1332                  3                       2009   \n",
              "8522         14   75.4670                  8                       1997   \n",
              "\n",
              "      Outlet_Size  Outlet_Location_Type  Outlet_Type  Item_Outlet_Sales  \n",
              "0               1                     0            1          3735.1380  \n",
              "1               1                     2            2           443.4228  \n",
              "2               1                     0            1          2097.2700  \n",
              "3               1                     2            0           732.3800  \n",
              "4               0                     2            1           994.7052  \n",
              "...           ...                   ...          ...                ...  \n",
              "8518            0                     2            1          2778.3834  \n",
              "8519            2                     1            1           549.2850  \n",
              "8520            2                     1            1          1193.1136  \n",
              "8521            1                     2            2          1845.5976  \n",
              "8522            2                     0            1           765.6700  \n",
              "\n",
              "[8523 rows x 12 columns]"
            ],
            "text/html": [
              "\n",
              "  <div id=\"df-21ddfcad-afed-41be-8bce-5ac2536cd1d2\">\n",
              "    <div class=\"colab-df-container\">\n",
              "      <div>\n",
              "<style scoped>\n",
              "    .dataframe tbody tr th:only-of-type {\n",
              "        vertical-align: middle;\n",
              "    }\n",
              "\n",
              "    .dataframe tbody tr th {\n",
              "        vertical-align: top;\n",
              "    }\n",
              "\n",
              "    .dataframe thead th {\n",
              "        text-align: right;\n",
              "    }\n",
              "</style>\n",
              "<table border=\"1\" class=\"dataframe\">\n",
              "  <thead>\n",
              "    <tr style=\"text-align: right;\">\n",
              "      <th></th>\n",
              "      <th>Item_Identifier</th>\n",
              "      <th>Item_Weight</th>\n",
              "      <th>Item_Fat_Content</th>\n",
              "      <th>Item_Visibility</th>\n",
              "      <th>Item_Type</th>\n",
              "      <th>Item_MRP</th>\n",
              "      <th>Outlet_Identifier</th>\n",
              "      <th>Outlet_Establishment_Year</th>\n",
              "      <th>Outlet_Size</th>\n",
              "      <th>Outlet_Location_Type</th>\n",
              "      <th>Outlet_Type</th>\n",
              "      <th>Item_Outlet_Sales</th>\n",
              "    </tr>\n",
              "  </thead>\n",
              "  <tbody>\n",
              "    <tr>\n",
              "      <th>0</th>\n",
              "      <td>156</td>\n",
              "      <td>9.300</td>\n",
              "      <td>0</td>\n",
              "      <td>0.016047</td>\n",
              "      <td>4</td>\n",
              "      <td>249.8092</td>\n",
              "      <td>9</td>\n",
              "      <td>1999</td>\n",
              "      <td>1</td>\n",
              "      <td>0</td>\n",
              "      <td>1</td>\n",
              "      <td>3735.1380</td>\n",
              "    </tr>\n",
              "    <tr>\n",
              "      <th>1</th>\n",
              "      <td>8</td>\n",
              "      <td>5.920</td>\n",
              "      <td>1</td>\n",
              "      <td>0.019278</td>\n",
              "      <td>14</td>\n",
              "      <td>48.2692</td>\n",
              "      <td>3</td>\n",
              "      <td>2009</td>\n",
              "      <td>1</td>\n",
              "      <td>2</td>\n",
              "      <td>2</td>\n",
              "      <td>443.4228</td>\n",
              "    </tr>\n",
              "    <tr>\n",
              "      <th>2</th>\n",
              "      <td>662</td>\n",
              "      <td>17.500</td>\n",
              "      <td>0</td>\n",
              "      <td>0.016760</td>\n",
              "      <td>10</td>\n",
              "      <td>141.6180</td>\n",
              "      <td>9</td>\n",
              "      <td>1999</td>\n",
              "      <td>1</td>\n",
              "      <td>0</td>\n",
              "      <td>1</td>\n",
              "      <td>2097.2700</td>\n",
              "    </tr>\n",
              "    <tr>\n",
              "      <th>3</th>\n",
              "      <td>1121</td>\n",
              "      <td>19.200</td>\n",
              "      <td>1</td>\n",
              "      <td>0.074402</td>\n",
              "      <td>6</td>\n",
              "      <td>182.0950</td>\n",
              "      <td>0</td>\n",
              "      <td>1998</td>\n",
              "      <td>1</td>\n",
              "      <td>2</td>\n",
              "      <td>0</td>\n",
              "      <td>732.3800</td>\n",
              "    </tr>\n",
              "    <tr>\n",
              "      <th>4</th>\n",
              "      <td>1297</td>\n",
              "      <td>8.930</td>\n",
              "      <td>0</td>\n",
              "      <td>0.064299</td>\n",
              "      <td>9</td>\n",
              "      <td>53.8614</td>\n",
              "      <td>1</td>\n",
              "      <td>1987</td>\n",
              "      <td>0</td>\n",
              "      <td>2</td>\n",
              "      <td>1</td>\n",
              "      <td>994.7052</td>\n",
              "    </tr>\n",
              "    <tr>\n",
              "      <th>...</th>\n",
              "      <td>...</td>\n",
              "      <td>...</td>\n",
              "      <td>...</td>\n",
              "      <td>...</td>\n",
              "      <td>...</td>\n",
              "      <td>...</td>\n",
              "      <td>...</td>\n",
              "      <td>...</td>\n",
              "      <td>...</td>\n",
              "      <td>...</td>\n",
              "      <td>...</td>\n",
              "      <td>...</td>\n",
              "    </tr>\n",
              "    <tr>\n",
              "      <th>8518</th>\n",
              "      <td>370</td>\n",
              "      <td>6.865</td>\n",
              "      <td>0</td>\n",
              "      <td>0.056783</td>\n",
              "      <td>13</td>\n",
              "      <td>214.5218</td>\n",
              "      <td>1</td>\n",
              "      <td>1987</td>\n",
              "      <td>0</td>\n",
              "      <td>2</td>\n",
              "      <td>1</td>\n",
              "      <td>2778.3834</td>\n",
              "    </tr>\n",
              "    <tr>\n",
              "      <th>8519</th>\n",
              "      <td>897</td>\n",
              "      <td>8.380</td>\n",
              "      <td>1</td>\n",
              "      <td>0.046982</td>\n",
              "      <td>0</td>\n",
              "      <td>108.1570</td>\n",
              "      <td>7</td>\n",
              "      <td>2002</td>\n",
              "      <td>2</td>\n",
              "      <td>1</td>\n",
              "      <td>1</td>\n",
              "      <td>549.2850</td>\n",
              "    </tr>\n",
              "    <tr>\n",
              "      <th>8520</th>\n",
              "      <td>1357</td>\n",
              "      <td>10.600</td>\n",
              "      <td>0</td>\n",
              "      <td>0.035186</td>\n",
              "      <td>8</td>\n",
              "      <td>85.1224</td>\n",
              "      <td>6</td>\n",
              "      <td>2004</td>\n",
              "      <td>2</td>\n",
              "      <td>1</td>\n",
              "      <td>1</td>\n",
              "      <td>1193.1136</td>\n",
              "    </tr>\n",
              "    <tr>\n",
              "      <th>8521</th>\n",
              "      <td>681</td>\n",
              "      <td>7.210</td>\n",
              "      <td>1</td>\n",
              "      <td>0.145221</td>\n",
              "      <td>13</td>\n",
              "      <td>103.1332</td>\n",
              "      <td>3</td>\n",
              "      <td>2009</td>\n",
              "      <td>1</td>\n",
              "      <td>2</td>\n",
              "      <td>2</td>\n",
              "      <td>1845.5976</td>\n",
              "    </tr>\n",
              "    <tr>\n",
              "      <th>8522</th>\n",
              "      <td>50</td>\n",
              "      <td>14.800</td>\n",
              "      <td>0</td>\n",
              "      <td>0.044878</td>\n",
              "      <td>14</td>\n",
              "      <td>75.4670</td>\n",
              "      <td>8</td>\n",
              "      <td>1997</td>\n",
              "      <td>2</td>\n",
              "      <td>0</td>\n",
              "      <td>1</td>\n",
              "      <td>765.6700</td>\n",
              "    </tr>\n",
              "  </tbody>\n",
              "</table>\n",
              "<p>8523 rows × 12 columns</p>\n",
              "</div>\n",
              "      <button class=\"colab-df-convert\" onclick=\"convertToInteractive('df-21ddfcad-afed-41be-8bce-5ac2536cd1d2')\"\n",
              "              title=\"Convert this dataframe to an interactive table.\"\n",
              "              style=\"display:none;\">\n",
              "        \n",
              "  <svg xmlns=\"http://www.w3.org/2000/svg\" height=\"24px\"viewBox=\"0 0 24 24\"\n",
              "       width=\"24px\">\n",
              "    <path d=\"M0 0h24v24H0V0z\" fill=\"none\"/>\n",
              "    <path d=\"M18.56 5.44l.94 2.06.94-2.06 2.06-.94-2.06-.94-.94-2.06-.94 2.06-2.06.94zm-11 1L8.5 8.5l.94-2.06 2.06-.94-2.06-.94L8.5 2.5l-.94 2.06-2.06.94zm10 10l.94 2.06.94-2.06 2.06-.94-2.06-.94-.94-2.06-.94 2.06-2.06.94z\"/><path d=\"M17.41 7.96l-1.37-1.37c-.4-.4-.92-.59-1.43-.59-.52 0-1.04.2-1.43.59L10.3 9.45l-7.72 7.72c-.78.78-.78 2.05 0 2.83L4 21.41c.39.39.9.59 1.41.59.51 0 1.02-.2 1.41-.59l7.78-7.78 2.81-2.81c.8-.78.8-2.07 0-2.86zM5.41 20L4 18.59l7.72-7.72 1.47 1.35L5.41 20z\"/>\n",
              "  </svg>\n",
              "      </button>\n",
              "      \n",
              "  <style>\n",
              "    .colab-df-container {\n",
              "      display:flex;\n",
              "      flex-wrap:wrap;\n",
              "      gap: 12px;\n",
              "    }\n",
              "\n",
              "    .colab-df-convert {\n",
              "      background-color: #E8F0FE;\n",
              "      border: none;\n",
              "      border-radius: 50%;\n",
              "      cursor: pointer;\n",
              "      display: none;\n",
              "      fill: #1967D2;\n",
              "      height: 32px;\n",
              "      padding: 0 0 0 0;\n",
              "      width: 32px;\n",
              "    }\n",
              "\n",
              "    .colab-df-convert:hover {\n",
              "      background-color: #E2EBFA;\n",
              "      box-shadow: 0px 1px 2px rgba(60, 64, 67, 0.3), 0px 1px 3px 1px rgba(60, 64, 67, 0.15);\n",
              "      fill: #174EA6;\n",
              "    }\n",
              "\n",
              "    [theme=dark] .colab-df-convert {\n",
              "      background-color: #3B4455;\n",
              "      fill: #D2E3FC;\n",
              "    }\n",
              "\n",
              "    [theme=dark] .colab-df-convert:hover {\n",
              "      background-color: #434B5C;\n",
              "      box-shadow: 0px 1px 3px 1px rgba(0, 0, 0, 0.15);\n",
              "      filter: drop-shadow(0px 1px 2px rgba(0, 0, 0, 0.3));\n",
              "      fill: #FFFFFF;\n",
              "    }\n",
              "  </style>\n",
              "\n",
              "      <script>\n",
              "        const buttonEl =\n",
              "          document.querySelector('#df-21ddfcad-afed-41be-8bce-5ac2536cd1d2 button.colab-df-convert');\n",
              "        buttonEl.style.display =\n",
              "          google.colab.kernel.accessAllowed ? 'block' : 'none';\n",
              "\n",
              "        async function convertToInteractive(key) {\n",
              "          const element = document.querySelector('#df-21ddfcad-afed-41be-8bce-5ac2536cd1d2');\n",
              "          const dataTable =\n",
              "            await google.colab.kernel.invokeFunction('convertToInteractive',\n",
              "                                                     [key], {});\n",
              "          if (!dataTable) return;\n",
              "\n",
              "          const docLinkHtml = 'Like what you see? Visit the ' +\n",
              "            '<a target=\"_blank\" href=https://colab.research.google.com/notebooks/data_table.ipynb>data table notebook</a>'\n",
              "            + ' to learn more about interactive tables.';\n",
              "          element.innerHTML = '';\n",
              "          dataTable['output_type'] = 'display_data';\n",
              "          await google.colab.output.renderOutput(dataTable, element);\n",
              "          const docLink = document.createElement('div');\n",
              "          docLink.innerHTML = docLinkHtml;\n",
              "          element.appendChild(docLink);\n",
              "        }\n",
              "      </script>\n",
              "    </div>\n",
              "  </div>\n",
              "  "
            ]
          },
          "metadata": {},
          "execution_count": 47
        }
      ]
    },
    {
      "cell_type": "markdown",
      "source": [
        "Splitting our data into train and test"
      ],
      "metadata": {
        "id": "XP00HY0-PPGd"
      }
    },
    {
      "cell_type": "code",
      "source": [
        "# Creating test and training dataset\n",
        "\n",
        "df_train,df_test = train_test_split(df,train_size=0.8)\n",
        "\n",
        "print(\"Size of the training dataset\",df_train.shape)\n",
        "print(\"Size of the testing dataset\",df_test.shape)"
      ],
      "metadata": {
        "id": "ERtTipYZWJvI",
        "colab": {
          "base_uri": "https://localhost:8080/"
        },
        "outputId": "050b46b7-423b-4d91-8b36-be8a463c1d01"
      },
      "execution_count": null,
      "outputs": [
        {
          "output_type": "stream",
          "name": "stdout",
          "text": [
            "Size of the training dataset (6818, 12)\n",
            "Size of the testing dataset (1705, 12)\n"
          ]
        }
      ]
    },
    {
      "cell_type": "code",
      "source": [
        "x_train = df_train.drop(columns='Item_Outlet_Sales',axis=1)\n",
        "y_train = df_train['Item_Outlet_Sales']\n",
        "x_test = df_test.drop(columns='Item_Outlet_Sales',axis=1)\n",
        "y_test = df_test['Item_Outlet_Sales']\n",
        "x_train.shape,y_train.shape,x_test.shape,y_test.shape"
      ],
      "metadata": {
        "colab": {
          "base_uri": "https://localhost:8080/"
        },
        "id": "GyHbTyYXYQx1",
        "outputId": "cef93e80-91d7-477d-927c-d3f7975a44f9"
      },
      "execution_count": null,
      "outputs": [
        {
          "output_type": "execute_result",
          "data": {
            "text/plain": [
              "((6818, 11), (6818,), (1705, 11), (1705,))"
            ]
          },
          "metadata": {},
          "execution_count": 49
        }
      ]
    },
    {
      "cell_type": "markdown",
      "source": [
        "Model Building Linear Regression"
      ],
      "metadata": {
        "id": "tgxCh93mVQxR"
      }
    },
    {
      "cell_type": "code",
      "source": [
        "from sklearn.linear_model import LinearRegression"
      ],
      "metadata": {
        "id": "tXCCbRJ3VcHj"
      },
      "execution_count": null,
      "outputs": []
    },
    {
      "cell_type": "code",
      "source": [
        "model = LinearRegression()\n",
        "model.fit(x_train,y_train)"
      ],
      "metadata": {
        "id": "Vvs68CwbWMsO",
        "colab": {
          "base_uri": "https://localhost:8080/"
        },
        "outputId": "235a6fc0-62fb-4ba7-f14f-fb0ff144366e"
      },
      "execution_count": null,
      "outputs": [
        {
          "output_type": "execute_result",
          "data": {
            "text/plain": [
              "LinearRegression()"
            ]
          },
          "metadata": {},
          "execution_count": 51
        }
      ]
    },
    {
      "cell_type": "markdown",
      "source": [
        "Training the model"
      ],
      "metadata": {
        "id": "A2rXcS96Vr3b"
      }
    },
    {
      "cell_type": "code",
      "source": [
        "y_pred = model.predict(x_test)\n",
        "y_pred"
      ],
      "metadata": {
        "colab": {
          "base_uri": "https://localhost:8080/"
        },
        "id": "nTIAjL0iVuBo",
        "outputId": "66403ca6-a997-4865-c78f-8c33662e2241"
      },
      "execution_count": null,
      "outputs": [
        {
          "output_type": "execute_result",
          "data": {
            "text/plain": [
              "array([2526.93860753, 2864.60938772,  602.26645179, ..., 2704.16940998,\n",
              "       2306.94480933,  862.1401215 ])"
            ]
          },
          "metadata": {},
          "execution_count": 52
        }
      ]
    },
    {
      "cell_type": "markdown",
      "source": [
        "Evaluating the performance of the model"
      ],
      "metadata": {
        "id": "GRRy-yg4V6wV"
      }
    },
    {
      "cell_type": "code",
      "source": [
        "#Evaluate the model on the test data\n",
        "\n",
        "model.score(x_test,y_test)"
      ],
      "metadata": {
        "colab": {
          "base_uri": "https://localhost:8080/"
        },
        "id": "p35IJqUBVpzG",
        "outputId": "5aad6f64-2f31-4317-9b54-ee78193d0681"
      },
      "execution_count": null,
      "outputs": [
        {
          "output_type": "execute_result",
          "data": {
            "text/plain": [
              "0.4855460149993043"
            ]
          },
          "metadata": {},
          "execution_count": 53
        }
      ]
    },
    {
      "cell_type": "code",
      "source": [
        "#model.intercept indicates the intercecpt with y-axis\n",
        "\n",
        "model.intercept_"
      ],
      "metadata": {
        "colab": {
          "base_uri": "https://localhost:8080/"
        },
        "id": "vh_MTm6XV2Fd",
        "outputId": "cac595be-f12e-4b26-e77f-1cf4b9507d6a"
      },
      "execution_count": null,
      "outputs": [
        {
          "output_type": "execute_result",
          "data": {
            "text/plain": [
              "7915.329734799273"
            ]
          },
          "metadata": {},
          "execution_count": 54
        }
      ]
    },
    {
      "cell_type": "code",
      "source": [
        "from math import sqrt"
      ],
      "metadata": {
        "id": "lDbv_ce5-7tL"
      },
      "execution_count": null,
      "outputs": []
    },
    {
      "cell_type": "code",
      "source": [
        "# Calculating RMSE score \n",
        "rmse = sqrt(mean_squared_error(y_test, y_pred))\n",
        "print(rmse)"
      ],
      "metadata": {
        "colab": {
          "base_uri": "https://localhost:8080/"
        },
        "id": "gRdjLQ2B-Npv",
        "outputId": "9db88923-9900-4cbb-aace-9e2c8d1ba6ce"
      },
      "execution_count": null,
      "outputs": [
        {
          "output_type": "stream",
          "name": "stdout",
          "text": [
            "1236.949354346512\n"
          ]
        }
      ]
    },
    {
      "cell_type": "code",
      "source": [
        "# Calculating MSE score\n",
        "mse = mean_squared_error(y_test,y_pred)\n",
        "print(mse)"
      ],
      "metadata": {
        "colab": {
          "base_uri": "https://localhost:8080/"
        },
        "id": "8V55ydz8_F2l",
        "outputId": "7e75a246-22be-4637-c69f-ddc3d2cf9824"
      },
      "execution_count": null,
      "outputs": [
        {
          "output_type": "stream",
          "name": "stdout",
          "text": [
            "1530043.7052182534\n"
          ]
        }
      ]
    },
    {
      "cell_type": "markdown",
      "source": [
        "Calculating r2_score"
      ],
      "metadata": {
        "id": "WabSBX-ez-A4"
      }
    },
    {
      "cell_type": "code",
      "source": [
        "model.fit(x_train,y_train)\n",
        "print(\"R-Squared on train dataset={}\".format(model.score(x_test,y_test)))\n",
        "\n",
        "model.fit(x_test,y_test)   \n",
        "print(\"R-Squaredon test dataset={}\".format(model.score(x_test,y_test)))"
      ],
      "metadata": {
        "colab": {
          "base_uri": "https://localhost:8080/"
        },
        "id": "oz9zfjCaz74O",
        "outputId": "f2f1bea1-fe03-45ea-dda5-6b310995e047"
      },
      "execution_count": null,
      "outputs": [
        {
          "output_type": "stream",
          "name": "stdout",
          "text": [
            "R-Squared on train dataset=0.4855460149993043\n",
            "R-Squaredon test dataset=0.4923556967454268\n"
          ]
        }
      ]
    },
    {
      "cell_type": "markdown",
      "source": [
        "Modeling DecisionTreeRegressor"
      ],
      "metadata": {
        "id": "gRTimagSEEZy"
      }
    },
    {
      "cell_type": "code",
      "source": [
        "dtm = DecisionTreeRegressor(max_depth=4,\n",
        "                           min_samples_split=5,\n",
        "                           max_leaf_nodes=10)\n",
        "\n",
        "dtm.fit(x_train,y_train)\n",
        "print(\"R-Squared on train dataset={}\".format(dtm.score(x_test,y_test)))\n",
        "\n",
        "dtm.fit(x_test,y_test)   \n",
        "print(\"R-Squaredon test dataset={}\".format(dtm.score(x_test,y_test)))"
      ],
      "metadata": {
        "colab": {
          "base_uri": "https://localhost:8080/"
        },
        "id": "wOy5XDZzAMJJ",
        "outputId": "42255fd1-d460-46e0-d072-545db4386471"
      },
      "execution_count": null,
      "outputs": [
        {
          "output_type": "stream",
          "name": "stdout",
          "text": [
            "R-Squared on train dataset=0.5662047748923439\n",
            "R-Squaredon test dataset=0.5805567869628294\n"
          ]
        }
      ]
    },
    {
      "cell_type": "markdown",
      "source": [
        "Training the model"
      ],
      "metadata": {
        "id": "tbxtoUeOn0eN"
      }
    },
    {
      "cell_type": "code",
      "source": [
        "y_pred2 = dtm.predict(x_test)\n",
        "y_pred2"
      ],
      "metadata": {
        "colab": {
          "base_uri": "https://localhost:8080/"
        },
        "id": "rBBSH7gNn12S",
        "outputId": "d132c906-9fb5-48f3-a802-6a40ee4f36a4"
      },
      "execution_count": null,
      "outputs": [
        {
          "output_type": "execute_result",
          "data": {
            "text/plain": [
              "array([2774.49675025, 2774.49675025,  892.18057253, ..., 2774.49675025,\n",
              "       2024.61276576,  892.18057253])"
            ]
          },
          "metadata": {},
          "execution_count": 60
        }
      ]
    },
    {
      "cell_type": "markdown",
      "source": [
        "Evaluating the performance of the model"
      ],
      "metadata": {
        "id": "JrZpyO9Tr5On"
      }
    },
    {
      "cell_type": "code",
      "source": [
        "#Evaluate the model on the test data\n",
        "\n",
        "dtm.score(x_test,y_test)"
      ],
      "metadata": {
        "colab": {
          "base_uri": "https://localhost:8080/"
        },
        "id": "x83nIc2Dr6A3",
        "outputId": "cdd075ea-29b0-4dce-a3ed-5d9093da8fde"
      },
      "execution_count": null,
      "outputs": [
        {
          "output_type": "execute_result",
          "data": {
            "text/plain": [
              "0.5805567869628294"
            ]
          },
          "metadata": {},
          "execution_count": 61
        }
      ]
    },
    {
      "cell_type": "code",
      "source": [
        "# Calculating RMSE score \n",
        "rmse = sqrt(mean_squared_error(y_test, y_pred2))\n",
        "print(rmse)"
      ],
      "metadata": {
        "colab": {
          "base_uri": "https://localhost:8080/"
        },
        "id": "8TYoBzR4ngPj",
        "outputId": "f95d2865-a3a4-4bef-d4de-093169fcc127"
      },
      "execution_count": null,
      "outputs": [
        {
          "output_type": "stream",
          "name": "stdout",
          "text": [
            "1116.9024309224\n"
          ]
        }
      ]
    },
    {
      "cell_type": "code",
      "source": [
        "# Calculating MSE score\n",
        "mse = mean_squared_error(y_test,y_pred2)\n",
        "print(mse)"
      ],
      "metadata": {
        "colab": {
          "base_uri": "https://localhost:8080/"
        },
        "id": "LiZc60vXsI96",
        "outputId": "4de8ca6b-f560-4c1e-b2bb-cd6dfea96d76"
      },
      "execution_count": null,
      "outputs": [
        {
          "output_type": "stream",
          "name": "stdout",
          "text": [
            "1247471.0402003666\n"
          ]
        }
      ]
    },
    {
      "cell_type": "markdown",
      "source": [
        "Modelling Bayesian-Regression"
      ],
      "metadata": {
        "id": "C6Plo3KRFboQ"
      }
    },
    {
      "cell_type": "code",
      "source": [
        "from sklearn.metrics import r2_score\n",
        "from sklearn.linear_model import BayesianRidge"
      ],
      "metadata": {
        "id": "DxuhGAkUFvA7"
      },
      "execution_count": null,
      "outputs": []
    },
    {
      "cell_type": "markdown",
      "source": [
        "Creating and training model"
      ],
      "metadata": {
        "id": "_AZDuPsrHpLK"
      }
    },
    {
      "cell_type": "code",
      "source": [
        "model3 = BayesianRidge()\n",
        "model3.fit(x_train, y_train)"
      ],
      "metadata": {
        "colab": {
          "base_uri": "https://localhost:8080/"
        },
        "id": "ue180Yc7Fn_t",
        "outputId": "58ae08d5-56fe-48ce-c3b0-0440197cae15"
      },
      "execution_count": null,
      "outputs": [
        {
          "output_type": "execute_result",
          "data": {
            "text/plain": [
              "BayesianRidge()"
            ]
          },
          "metadata": {},
          "execution_count": 65
        }
      ]
    },
    {
      "cell_type": "markdown",
      "source": [
        "Model making a prediction on test data"
      ],
      "metadata": {
        "id": "DToBFGfCHii7"
      }
    },
    {
      "cell_type": "code",
      "source": [
        "# Model making a prediction on test data\n",
        "prediction = model3.predict(x_test)"
      ],
      "metadata": {
        "id": "ZO-cW-fNF3bc"
      },
      "execution_count": null,
      "outputs": []
    },
    {
      "cell_type": "markdown",
      "source": [
        "Evaluating the performance of the model"
      ],
      "metadata": {
        "id": "teCxR0kjse2C"
      }
    },
    {
      "cell_type": "code",
      "source": [
        "#Evaluate the model on the test data\n",
        "\n",
        "model3.score(x_test,y_test)"
      ],
      "metadata": {
        "colab": {
          "base_uri": "https://localhost:8080/"
        },
        "id": "7DmdF_23skQe",
        "outputId": "c9e2267e-17bd-453e-f265-3d27d918919f"
      },
      "execution_count": null,
      "outputs": [
        {
          "output_type": "execute_result",
          "data": {
            "text/plain": [
              "0.4856731085481557"
            ]
          },
          "metadata": {},
          "execution_count": 67
        }
      ]
    },
    {
      "cell_type": "code",
      "source": [
        "# Calculating RMSE score \n",
        "rmse = sqrt(mean_squared_error(y_test,prediction))\n",
        "print(rmse)"
      ],
      "metadata": {
        "colab": {
          "base_uri": "https://localhost:8080/"
        },
        "id": "o9OnextSs5hN",
        "outputId": "130dd661-7c37-4453-8bb1-ae986792f931"
      },
      "execution_count": null,
      "outputs": [
        {
          "output_type": "stream",
          "name": "stdout",
          "text": [
            "1236.7965535145845\n"
          ]
        }
      ]
    },
    {
      "cell_type": "code",
      "source": [
        "# Calculating MSE score\n",
        "mse = mean_squared_error(y_test,prediction)\n",
        "print(mse)"
      ],
      "metadata": {
        "colab": {
          "base_uri": "https://localhost:8080/"
        },
        "id": "XfNEk5mntBuC",
        "outputId": "aee60ca8-4970-4873-b610-2a1e29075b23"
      },
      "execution_count": null,
      "outputs": [
        {
          "output_type": "stream",
          "name": "stdout",
          "text": [
            "1529665.7147855547\n"
          ]
        }
      ]
    },
    {
      "cell_type": "markdown",
      "source": [
        "Calculating r2_score"
      ],
      "metadata": {
        "id": "R3Rf3zFI0Q9x"
      }
    },
    {
      "cell_type": "code",
      "source": [
        "model3.fit(x_train,y_train)\n",
        "print(\"R-Squared on train dataset={}\".format(model3.score(x_test,y_test)))\n",
        "\n",
        "model3.fit(x_test,y_test)   \n",
        "print(\"R-Squaredon test dataset={}\".format(model3.score(x_test,y_test)))"
      ],
      "metadata": {
        "colab": {
          "base_uri": "https://localhost:8080/"
        },
        "id": "QeT14rFo0Rns",
        "outputId": "edc7465e-783a-45c2-8dfc-60637f110396"
      },
      "execution_count": null,
      "outputs": [
        {
          "output_type": "stream",
          "name": "stdout",
          "text": [
            "R-Squared on train dataset=0.4856731085481557\n",
            "R-Squaredon test dataset=0.49126736549342787\n"
          ]
        }
      ]
    },
    {
      "cell_type": "code",
      "source": [
        "# importing libraries\n",
        "import seaborn as sns\n",
        "import matplotlib.pyplot as plt\n",
        " \n",
        "# plotting histogram and density\n",
        "# plot for carat using distplot()\n",
        "sns.distplot(df.Item_Outlet_Sales)\n",
        "# visualizing plot using matplotlib.pyplot library\n",
        "plt.show()"
      ],
      "metadata": {
        "colab": {
          "base_uri": "https://localhost:8080/",
          "height": 280
        },
        "id": "U1ctNgLy1cul",
        "outputId": "e170e6e4-cf5f-468f-d7f4-dbb2bcfe515b"
      },
      "execution_count": null,
      "outputs": [
        {
          "output_type": "display_data",
          "data": {
            "text/plain": [
              "<Figure size 432x288 with 1 Axes>"
            ],
            "image/png": "[encoded data removed]"
          },
          "metadata": {
            "needs_background": "light"
          }
        }
      ]
    },
    {
      "cell_type": "code",
      "source": [
        "plt.figure(figsize=(10, 7))\n",
        "ax = sns.distplot(y_test, hist=True, color=\"r\", label=\"Actual Value\")\n",
        "sns.distplot(y_pred, hist=True, color=\"b\", label=\"Predicted Values\", ax=ax)\n",
        "plt.title('Actual vs Precited value')\n",
        "plt.legend()\n",
        "plt.show()"
      ],
      "metadata": {
        "colab": {
          "base_uri": "https://localhost:8080/",
          "height": 459
        },
        "id": "PkmxUdcDBy6R",
        "outputId": "9199b563-2495-4139-8994-583c43278282"
      },
      "execution_count": null,
      "outputs": [
        {
          "output_type": "display_data",
          "data": {
            "text/plain": [
              "<Figure size 720x504 with 1 Axes>"
            ],
            "image/png": "[encoded data removed]"
          },
          "metadata": {
            "needs_background": "light"
          }
        }
      ]
    },
    {
      "cell_type": "markdown",
      "source": [
        "Conclusion: From the above model comparison DecisonTreeReressor performs better in terms the rmse,mse parameters."
      ],
      "metadata": {
        "id": "cD-3mWuhG20o"
      }
    }
  ],
  "metadata": {
    "colab": {
      "provenance": []
    },
    "kernelspec": {
      "display_name": "Python 3",
      "name": "python3"
    },
    "language_info": {
      "name": "python"
    }
  },
  "nbformat": 4,
  "nbformat_minor": 0
}